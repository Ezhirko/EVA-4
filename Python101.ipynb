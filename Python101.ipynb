{
  "nbformat": 4,
  "nbformat_minor": 0,
  "metadata": {
    "colab": {
      "name": "Copy of Python101.ipynb",
      "provenance": [],
      "collapsed_sections": [],
      "include_colab_link": true
    },
    "kernelspec": {
      "name": "python3",
      "display_name": "Python 3"
    }
  },
  "cells": [
    {
      "cell_type": "markdown",
      "metadata": {
        "id": "view-in-github",
        "colab_type": "text"
      },
      "source": [
        "<a href=\"https://colab.research.google.com/github/Sushmitha-Katti/EVA-4/blob/master/Python101.ipynb\" target=\"_parent\"><img src=\"https://colab.research.google.com/assets/colab-badge.svg\" alt=\"Open In Colab\"/></a>"
      ]
    },
    {
      "cell_type": "markdown",
      "metadata": {
        "id": "mnJ8ar0thqYq",
        "colab_type": "text"
      },
      "source": [
        "# Python 101\n",
        "![alt text](https://encrypted-tbn0.gstatic.com/images?q=tbn%3AANd9GcRZpTmijaNOH6MmycM_eiPKcEl5mVvbwl7a8YKVGpEEMIanDcSt)\n",
        "\n",
        "This is a MUST Python Refresher. You must finish this notebook as a part of overall grading.\n",
        "\n",
        "Majority of this notebook is inspired from: Stanford's Python Refresher which can be found at: https://cs231n.github.io/python-numpy-tutorial/\n",
        "\n",
        "\n",
        "\n",
        "---\n",
        "\n",
        "**We have modified the original notebook and added some questions here. You need to find the solutions and provide answers in your Q1 - Python 101 Quiz.**\n"
      ]
    },
    {
      "cell_type": "markdown",
      "metadata": {
        "id": "nq-sNhAjiAxa",
        "colab_type": "text"
      },
      "source": [
        "# Python\n",
        "Python is a high-level, dynamically typed multiparadigm programming language. Python code is often said to be almost like pseudocode, since it allows you to express very powerful ideas in very few lines of code while being very readable.\n",
        "\n",
        "---\n",
        "\n",
        "## Python Versions\n",
        "\n",
        "There are currently two different supported versions of Python, 2.7 and 3.5. Somewhat confusingly, Python 3.0 introduced many backwards-incompatible changes to the language, so code written for 2.7 may not work under 3.5 and vice versa. For this class all code will use Python 3.5 or higher.\n",
        "\n",
        "You can check your Python version at the command line by running `python --version`\n"
      ]
    },
    {
      "cell_type": "code",
      "metadata": {
        "id": "83uo1kNDhaoU",
        "colab_type": "code",
        "colab": {}
      },
      "source": [
        "!python --version"
      ],
      "execution_count": 0,
      "outputs": []
    },
    {
      "cell_type": "markdown",
      "metadata": {
        "id": "_6vYrEaCi1Ml",
        "colab_type": "text"
      },
      "source": [
        "## Basic data types\n",
        "\n",
        "Like most languages, Python has a number of basic types including integers, floats, booleans, and strings. These data types behave in ways that are familiar from other programming languages.\n",
        "\n",
        "**Numbers**: Integers and floats work as you would expect from other languages:"
      ]
    },
    {
      "cell_type": "code",
      "metadata": {
        "id": "MTxgJLRchuwK",
        "colab_type": "code",
        "outputId": "e19c9235-2ed8-4d95-ef6a-1ed7630dc880",
        "colab": {
          "base_uri": "https://localhost:8080/",
          "height": 217
        }
      },
      "source": [
        "x = 37 # Initial Value of x\n",
        "print(type(x)) # Prints \"<class 'int'>\"\n",
        "print(x)       # Prints \"2\"\n",
        "print(x + 1)   # Addition; prints \"3\"\n",
        "print(x - 1)   # Subtraction; prints \"1\"\n",
        "print(x * 2)   # Multiplication; prints \"4\"\n",
        "print(x ** 2)  # Exponentiation; prints \"4\"\n",
        "x += 1 #x = 3\n",
        "print(x)  # Prints \"3\"\n",
        "x *= 2\n",
        "print(x)  # Prints \"6\"\n",
        "y = 2.5\n",
        "print(type(y)) # Prints \"<class 'float'>\"\n",
        "print(y, y + 1, y * 2, y ** 2) # Prints \"2.5 3.5 5.0 6.25\"\n",
        "\n",
        "x = x * y + x + y # Final value of x\n",
        "print(\"Final Value of x is:\", x)"
      ],
      "execution_count": 0,
      "outputs": [
        {
          "output_type": "stream",
          "text": [
            "<class 'int'>\n",
            "37\n",
            "38\n",
            "36\n",
            "74\n",
            "1369\n",
            "38\n",
            "76\n",
            "<class 'float'>\n",
            "2.5 3.5 5.0 6.25\n",
            "Final Value of x is: 268.5\n"
          ],
          "name": "stdout"
        }
      ]
    },
    {
      "cell_type": "markdown",
      "metadata": {
        "id": "0IIODSSfjaCd",
        "colab_type": "text"
      },
      "source": [
        "# Quiz Question 1\n",
        "With what integer value shall x be initialized as, such that Final Value of x is 268.5? Please mention the answer in INT value without decimal (e.g. 4, 2, 12, etc.).\n",
        "\n",
        "Please answer this question in the Quiz Section.\n",
        "\n",
        "\n",
        "**Solution**: From the above question the final x value is\n",
        "x = 2(x+1)(y+1)+y\n",
        "---\n",
        "\n",
        "**Booleans**\n",
        "\n",
        "Python implements all of the usual operators for Boolean logic, but uses English words rather than symbols (&&, ||, etc.):\n",
        "\n"
      ]
    },
    {
      "cell_type": "code",
      "metadata": {
        "id": "71wNg5mgi-th",
        "colab_type": "code",
        "outputId": "363e9b25-01b9-4aaf-bf2f-d0da3ee67ee3",
        "colab": {
          "base_uri": "https://localhost:8080/",
          "height": 108
        }
      },
      "source": [
        "t = True\n",
        "f = False\n",
        "print(type(t)) # Prints \"<class 'bool'>\"\n",
        "print(t and f) # Logical AND; prints \"False\"\n",
        "print(t or f)  # Logical OR; prints \"True\"\n",
        "print(not t)   # Logical NOT; prints \"False\"\n",
        "print(t != f)  # Logical XOR; prints \"True\"\n"
      ],
      "execution_count": 0,
      "outputs": [
        {
          "output_type": "stream",
          "text": [
            "<class 'bool'>\n",
            "False\n",
            "True\n",
            "False\n",
            "True\n"
          ],
          "name": "stdout"
        }
      ]
    },
    {
      "cell_type": "markdown",
      "metadata": {
        "id": "JM1p20Yml9gI",
        "colab_type": "text"
      },
      "source": [
        "# Quiz Question 2\n",
        "What is the value of \n",
        "\n",
        "```\n",
        "not ( not t + f * t)\n",
        "```\n",
        "if executed after the code block above?\n",
        "\n",
        "**Solution** : \n",
        "\n",
        "              not(not(True) + False*True) \n",
        "               not(False+False)\n",
        "               not(False)\n",
        "               True\n",
        "\n",
        "\n"
      ]
    },
    {
      "cell_type": "markdown",
      "metadata": {
        "id": "eDZGqwnam36m",
        "colab_type": "text"
      },
      "source": [
        "\n",
        "**Strings**\n",
        "\n",
        "Python has great support for strings:"
      ]
    },
    {
      "cell_type": "code",
      "metadata": {
        "id": "RLLlfEVSlg4A",
        "colab_type": "code",
        "outputId": "25cdcc3f-ef3c-46e6-f756-a2324340025d",
        "colab": {
          "base_uri": "https://localhost:8080/",
          "height": 108
        }
      },
      "source": [
        "hello = 'hello'    # String literals can use single quotes\n",
        "world = \"world\"    # or double quotes; it does not matter.\n",
        "print(hello)       # Prints \"hello\"\n",
        "print(len(hello))  # String length; prints \"5\"\n",
        "hw = hello + ' ' + world  # String concatenation\n",
        "print(hw)  # prints \"hello world\"\n",
        "hw6 = '%s %s %d' % (hello, world, 6)  # sprintf style string formatting\n",
        "print(hw6)  # prints \"hello world 6\"\n",
        "\n",
        "location = 12\n",
        "print(hw6[location])"
      ],
      "execution_count": 0,
      "outputs": [
        {
          "output_type": "stream",
          "text": [
            "hello\n",
            "5\n",
            "hello world\n",
            "hello world 6\n",
            "6\n"
          ],
          "name": "stdout"
        }
      ]
    },
    {
      "cell_type": "markdown",
      "metadata": {
        "id": "bxRbRr7jng8C",
        "colab_type": "text"
      },
      "source": [
        "# Quiz Question 3\n",
        "\n",
        "What should be the value of \"location\" such that print(hw6[location]) prints 6?"
      ]
    },
    {
      "cell_type": "markdown",
      "metadata": {
        "id": "rwkFgdCSn4th",
        "colab_type": "text"
      },
      "source": [
        "## Containers\n",
        "\n",
        "Python includes several built-in container types: lists, dictionaries,sets, and tuples.\n",
        "\n",
        "**Lists**\n",
        "A list is the Python equivalent of an array, but is resizeable and can contain elements of different types:\n",
        "\n"
      ]
    },
    {
      "cell_type": "code",
      "metadata": {
        "id": "UBa5s5SYnNoT",
        "colab_type": "code",
        "colab": {}
      },
      "source": [
        "xs = [3, 1, 2]    # Create a list\n",
        "print(xs, xs[2])  # Prints \"[3, 1, 2] 2\"\n",
        "print(xs[-1])     # Negative indices count from the end of the list; prints \"2\"\n",
        "xs[2] = 'foo'     # Lists can contain elements of different types\n",
        "print(xs)         # Prints \"[3, 1, 'foo']\"\n",
        "xs.append('bar')  # Add a new element to the end of the list\n",
        "print(xs)         # Prints \"[3, 1, 'foo', 'bar']\"\n",
        "x = xs.pop()      # Remove and return the last element of the list\n",
        "print(x, xs)      # Prints \"bar [3, 1, 'foo']\""
      ],
      "execution_count": 0,
      "outputs": []
    },
    {
      "cell_type": "code",
      "metadata": {
        "id": "uSOQA85xoEU9",
        "colab_type": "code",
        "outputId": "9684100d-bddb-4527-f058-5614fc4ae02a",
        "colab": {
          "base_uri": "https://localhost:8080/",
          "height": 163
        }
      },
      "source": [
        "rng = 9\n",
        "nums = list(range(rng))     # range is a built-in function that creates a list of integers\n",
        "print(nums)               # Prints \"[0, 1, 2, 3, 4]\"\n",
        "print(nums[2:4])          # Get a slice from index 2 to 4 (exclusive); prints \"[2, 3]\"\n",
        "print(nums[2:])           # Get a slice from index 2 to the end; prints \"[2, 3, 4]\"\n",
        "print(nums[:2])           # Get a slice from the start to index 2 (exclusive); prints \"[0, 1]\"\n",
        "print(nums[:])            # Get a slice of the whole list; prints \"[0, 1, 2, 3, 4]\"\n",
        "print(nums[:-1])          # Slice indices can be negative; prints \"[0, 1, 2, 3]\"\n",
        "nums[2:4] = [8, 9]        # Assign a new sublist to a slice\n",
        "print(nums)               # Prints \"[0, 1, 8, 9, 4]\"\n",
        "print(sum(nums))"
      ],
      "execution_count": 0,
      "outputs": [
        {
          "output_type": "stream",
          "text": [
            "[0, 1, 2, 3, 4, 5, 6, 7, 8]\n",
            "[2, 3]\n",
            "[2, 3, 4, 5, 6, 7, 8]\n",
            "[0, 1]\n",
            "[0, 1, 2, 3, 4, 5, 6, 7, 8]\n",
            "[0, 1, 2, 3, 4, 5, 6, 7]\n",
            "[0, 1, 8, 9, 4, 5, 6, 7, 8]\n",
            "48\n"
          ],
          "name": "stdout"
        }
      ]
    },
    {
      "cell_type": "markdown",
      "metadata": {
        "id": "CEZWL3raol4N",
        "colab_type": "text"
      },
      "source": [
        "# Quiz Question 4\n",
        "\n",
        "What should be the value of rng, such that print(sum(nums)) prints 48?"
      ]
    },
    {
      "cell_type": "markdown",
      "metadata": {
        "id": "KZ209w-wpD13",
        "colab_type": "text"
      },
      "source": [
        "**Loops**\n",
        "\n",
        "You can loop over elements of a list like this:\n"
      ]
    },
    {
      "cell_type": "code",
      "metadata": {
        "id": "Zaus1Jfqoej1",
        "colab_type": "code",
        "colab": {}
      },
      "source": [
        "animals = ['cat', 'dog', 'monkey']\n",
        "for animal in animals:\n",
        "    print(animal)"
      ],
      "execution_count": 0,
      "outputs": []
    },
    {
      "cell_type": "markdown",
      "metadata": {
        "id": "1RaBN3jYpX1f",
        "colab_type": "text"
      },
      "source": [
        "If you want access to the index of each element within the body of a loop, use the built-in `enumerate` function:"
      ]
    },
    {
      "cell_type": "code",
      "metadata": {
        "id": "QmkdTkicpJ9y",
        "colab_type": "code",
        "colab": {}
      },
      "source": [
        "animals = ['cat', 'dog', 'monkey']\n",
        "for idx, animal in enumerate(animals):\n",
        "    print('#%d: %s' % (idx + 1, animal))"
      ],
      "execution_count": 0,
      "outputs": []
    },
    {
      "cell_type": "markdown",
      "metadata": {
        "id": "xoMtCthyphX6",
        "colab_type": "text"
      },
      "source": [
        "**List comprehensions**\n",
        "\n",
        "When programming, frequently we want to transform one type of data into another. As a simple example, consider the following code that computes square numbers:"
      ]
    },
    {
      "cell_type": "code",
      "metadata": {
        "id": "OQscx7VMpawj",
        "colab_type": "code",
        "outputId": "a40cb64b-db9c-4e54-81d3-6a5760b17254",
        "colab": {
          "base_uri": "https://localhost:8080/",
          "height": 35
        }
      },
      "source": [
        "rng2 = 7\n",
        "nums = range(rng2)\n",
        "squares = []\n",
        "for x in nums:\n",
        "    squares.append(x ** 2)\n",
        "print(sum(squares))"
      ],
      "execution_count": 0,
      "outputs": [
        {
          "output_type": "stream",
          "text": [
            "91\n"
          ],
          "name": "stdout"
        }
      ]
    },
    {
      "cell_type": "markdown",
      "metadata": {
        "id": "51YLXn81p45I",
        "colab_type": "text"
      },
      "source": [
        "# Quiz Question 5\n",
        "What should be the value of rng2, such that the code block above prints 91?\n",
        "**Solution**\n",
        "This is the sum of squares of natural numbers.\n",
        "So the formula for the same is n(n+1)(2n+1)/6"
      ]
    },
    {
      "cell_type": "markdown",
      "metadata": {
        "id": "yRS97sf2qelf",
        "colab_type": "text"
      },
      "source": [
        "You can make this code simpler using a **list comprehension**:"
      ]
    },
    {
      "cell_type": "code",
      "metadata": {
        "id": "23oZl87VponY",
        "colab_type": "code",
        "colab": {}
      },
      "source": [
        "nums = [0, 1, 2, 3, 4]\n",
        "squares = [x ** 2 for x in nums]\n",
        "print(squares) "
      ],
      "execution_count": 0,
      "outputs": []
    },
    {
      "cell_type": "markdown",
      "metadata": {
        "id": "5OjCcNtXqj8v",
        "colab_type": "text"
      },
      "source": [
        "List comprehensions can also contain **conditions**:"
      ]
    },
    {
      "cell_type": "code",
      "metadata": {
        "id": "9DFWQ0Paqlxb",
        "colab_type": "code",
        "outputId": "c241b951-447a-4719-a17a-2883b37bde11",
        "colab": {
          "base_uri": "https://localhost:8080/",
          "height": 35
        }
      },
      "source": [
        "rng3 = 13\n",
        "nums = range(rng3)\n",
        "even_squares = [x ** 2 for x in nums if x % 2 == 0]\n",
        "print(sum(even_squares))"
      ],
      "execution_count": 0,
      "outputs": [
        {
          "output_type": "stream",
          "text": [
            "364\n"
          ],
          "name": "stdout"
        }
      ]
    },
    {
      "cell_type": "markdown",
      "metadata": {
        "id": "-9nL0W3Jq9Uo",
        "colab_type": "text"
      },
      "source": [
        "# Quiz Question 6\n",
        "\n",
        "What is the **sum of the two values** to which rng3 can be set such that the output above is 364?"
      ]
    },
    {
      "cell_type": "markdown",
      "metadata": {
        "id": "rqy0ypQKrnb_",
        "colab_type": "text"
      },
      "source": [
        "## Dictionaries\n",
        "\n",
        "A dictionary stores (key, value) pairs, similar to a `Map` in Java or an object in Javascript. You can use it like this:"
      ]
    },
    {
      "cell_type": "code",
      "metadata": {
        "id": "S-obxQS9quER",
        "colab_type": "code",
        "colab": {}
      },
      "source": [
        "d = {'cat': 'cute', 'dog': 'furry'}  # Create a new dictionary with some data\n",
        "print(d['cat'])       # Get an entry from a dictionary; prints \"cute\"\n",
        "print('cat' in d)     # Check if a dictionary has a given key; prints \"True\"\n",
        "d['fish'] = 'wet'     # Set an entry in a dictionary\n",
        "print(d['fish'])      # Prints \"wet\"\n",
        "# print(d['monkey'])  # KeyError: 'monkey' not a key of d\n",
        "print(d.get('monkey', 'N/A'))  # Get an element with a default; prints \"N/A\"\n",
        "print(d.get('fish', 'N/A'))    # Get an element with a default; prints \"wet\"\n",
        "del d['fish']         # Remove an element from a dictionary\n",
        "print(d.get('fish', 'N/A')) # \"fish\" is no longer a key; prints \"N/A\""
      ],
      "execution_count": 0,
      "outputs": []
    },
    {
      "cell_type": "markdown",
      "metadata": {
        "id": "ZY6vTNV5rwDZ",
        "colab_type": "text"
      },
      "source": [
        "**Loops**: It is easy to iterate over the keys in a dictionary:"
      ]
    },
    {
      "cell_type": "code",
      "metadata": {
        "id": "MDs1ZBkerx4p",
        "colab_type": "code",
        "outputId": "c42822be-b170-4f4e-988f-f413998c6035",
        "colab": {
          "base_uri": "https://localhost:8080/",
          "height": 72
        }
      },
      "source": [
        "d = {'person': 2, 'cat': 4, 'spider': 8}\n",
        "for animal in d:\n",
        "    legs = d[animal]\n",
        "    print('A %s has %d legs' % (animal, legs))"
      ],
      "execution_count": 0,
      "outputs": [
        {
          "output_type": "stream",
          "text": [
            "A person has 2 legs\n",
            "A cat has 4 legs\n",
            "A spider has 8 legs\n"
          ],
          "name": "stdout"
        }
      ]
    },
    {
      "cell_type": "markdown",
      "metadata": {
        "id": "ssuwj7Slr2_l",
        "colab_type": "text"
      },
      "source": [
        "If you want access to keys and their corresponding values, use the `items` method:"
      ]
    },
    {
      "cell_type": "code",
      "metadata": {
        "id": "H3V3iok8rz1Q",
        "colab_type": "code",
        "colab": {}
      },
      "source": [
        "d = {'person': 2, 'cat': 4, 'spider': 8}\n",
        "for animal, legs in d.items():\n",
        "    print('A %s has %d legs' % (animal, legs))"
      ],
      "execution_count": 0,
      "outputs": []
    },
    {
      "cell_type": "markdown",
      "metadata": {
        "id": "2sLbIbpLsDtC",
        "colab_type": "text"
      },
      "source": [
        "**Dictionary comprehensions**\n",
        "\n",
        "These are similar to list comprehensions, but allow you to easily construct dictionaries. For example:"
      ]
    },
    {
      "cell_type": "code",
      "metadata": {
        "id": "55LbErmbr5uo",
        "colab_type": "code",
        "colab": {}
      },
      "source": [
        "nums = [0, 1, 2, 3, 4]\n",
        "even_num_to_square = {x: x ** 2 for x in nums if x % 2 == 0}\n",
        "print(even_num_to_square)"
      ],
      "execution_count": 0,
      "outputs": []
    },
    {
      "cell_type": "markdown",
      "metadata": {
        "id": "mZEdOdr9sOk9",
        "colab_type": "text"
      },
      "source": [
        "## Sets\n",
        "A set is an unordered collection of distinct elements. As a simple example, consider the following:\n"
      ]
    },
    {
      "cell_type": "code",
      "metadata": {
        "id": "kXzFjXrvsH_n",
        "colab_type": "code",
        "colab": {}
      },
      "source": [
        "animals = {'cat', 'dog'}\n",
        "print('cat' in animals)   # Check if an element is in a set; prints \"True\"\n",
        "print('fish' in animals)  # prints \"False\"\n",
        "animals.add('fish')       # Add an element to a set\n",
        "print('fish' in animals)  # Prints \"True\"\n",
        "print(len(animals))       # Number of elements in a set; prints \"3\"\n",
        "animals.add('cat')        # Adding an element that is already in the set does nothing\n",
        "print(len(animals))       # Prints \"3\"\n",
        "animals.remove('cat')     # Remove an element from a set\n",
        "print(len(animals))       # Prints \"2\""
      ],
      "execution_count": 0,
      "outputs": []
    },
    {
      "cell_type": "markdown",
      "metadata": {
        "id": "dfzd9kD3sVsh",
        "colab_type": "text"
      },
      "source": [
        "## Functions\n",
        "\n",
        "\n",
        "Python functions are defined using the def keyword. For example:"
      ]
    },
    {
      "cell_type": "code",
      "metadata": {
        "id": "IrAFUE-AsR9K",
        "colab_type": "code",
        "colab": {}
      },
      "source": [
        "def sign(x):\n",
        "    if x > 0:\n",
        "        return 'positive'\n",
        "    elif x < 0:\n",
        "        return 'negative'\n",
        "    else:\n",
        "        return 'zero'\n",
        "\n",
        "for x in [-1, 0, 1]:\n",
        "    print(sign(x))"
      ],
      "execution_count": 0,
      "outputs": []
    },
    {
      "cell_type": "markdown",
      "metadata": {
        "id": "RohxLiO0sd4X",
        "colab_type": "text"
      },
      "source": [
        "We will often define functions to take optional keyword arguments, like this:"
      ]
    },
    {
      "cell_type": "code",
      "metadata": {
        "id": "LnMrX3ONsavI",
        "colab_type": "code",
        "colab": {}
      },
      "source": [
        "def hello(name, loud=False):\n",
        "    if loud:\n",
        "        print('HELLO, %s!' % name.upper())\n",
        "    else:\n",
        "        print('Hello, %s' % name)\n",
        "\n",
        "hello('Bob') # Prints \"Hello, Bob\"\n",
        "hello('Fred', loud=True)  # Prints \"HELLO, FRED!\""
      ],
      "execution_count": 0,
      "outputs": []
    },
    {
      "cell_type": "markdown",
      "metadata": {
        "id": "1LbAt_RSsipu",
        "colab_type": "text"
      },
      "source": [
        "## Classes\n",
        "\n",
        "The syntax for defining classes in Python is straightforward:\n"
      ]
    },
    {
      "cell_type": "code",
      "metadata": {
        "id": "glAkPfN1sfci",
        "colab_type": "code",
        "outputId": "f5de2f9b-74aa-4be9-da76-473bf04829e0",
        "colab": {
          "base_uri": "https://localhost:8080/",
          "height": 225
        }
      },
      "source": [
        "class Greeter(object):\n",
        "\n",
        "    # Constructor\n",
        "    def __init__(self, name):\n",
        "        self.name = name  # Create an instance variable\n",
        "\n",
        "    # Instance method\n",
        "    def greet(self, loud=False):\n",
        "        if loud:\n",
        "            print('HELLO, %s!' % self.name.upper())\n",
        "        else:\n",
        "            print('Hello, %s' % self.name)\n",
        "\n",
        "g = Greeter('Fred')  # Construct an instance of the Greeter class\n",
        "g.greet()            # Call an instance method; prints \"Hello, Fred\"\n",
        "g.greet(lout=True)   # Call an instance method; prints \"HELLO, FRED!\""
      ],
      "execution_count": 0,
      "outputs": [
        {
          "output_type": "stream",
          "text": [
            "Hello, Fred\n"
          ],
          "name": "stdout"
        },
        {
          "output_type": "error",
          "ename": "TypeError",
          "evalue": "ignored",
          "traceback": [
            "\u001b[0;31m---------------------------------------------------------------------------\u001b[0m",
            "\u001b[0;31mTypeError\u001b[0m                                 Traceback (most recent call last)",
            "\u001b[0;32m<ipython-input-18-4b4818168ba0>\u001b[0m in \u001b[0;36m<module>\u001b[0;34m()\u001b[0m\n\u001b[1;32m     14\u001b[0m \u001b[0mg\u001b[0m \u001b[0;34m=\u001b[0m \u001b[0mGreeter\u001b[0m\u001b[0;34m(\u001b[0m\u001b[0;34m'Fred'\u001b[0m\u001b[0;34m)\u001b[0m  \u001b[0;31m# Construct an instance of the Greeter class\u001b[0m\u001b[0;34m\u001b[0m\u001b[0;34m\u001b[0m\u001b[0m\n\u001b[1;32m     15\u001b[0m \u001b[0mg\u001b[0m\u001b[0;34m.\u001b[0m\u001b[0mgreet\u001b[0m\u001b[0;34m(\u001b[0m\u001b[0;34m)\u001b[0m            \u001b[0;31m# Call an instance method; prints \"Hello, Fred\"\u001b[0m\u001b[0;34m\u001b[0m\u001b[0;34m\u001b[0m\u001b[0m\n\u001b[0;32m---> 16\u001b[0;31m \u001b[0mg\u001b[0m\u001b[0;34m.\u001b[0m\u001b[0mgreet\u001b[0m\u001b[0;34m(\u001b[0m\u001b[0mlout\u001b[0m\u001b[0;34m=\u001b[0m\u001b[0;32mTrue\u001b[0m\u001b[0;34m)\u001b[0m   \u001b[0;31m# Call an instance method; prints \"HELLO, FRED!\"\u001b[0m\u001b[0;34m\u001b[0m\u001b[0;34m\u001b[0m\u001b[0m\n\u001b[0m",
            "\u001b[0;31mTypeError\u001b[0m: greet() got an unexpected keyword argument 'lout'"
          ]
        }
      ]
    },
    {
      "cell_type": "markdown",
      "metadata": {
        "id": "9jXYX9nvsxMV",
        "colab_type": "text"
      },
      "source": [
        "# Quiz Question 7\n",
        "\n",
        "What does g.greet(lout=False) prints above?"
      ]
    },
    {
      "cell_type": "markdown",
      "metadata": {
        "id": "gRXVgzSFtHfT",
        "colab_type": "text"
      },
      "source": [
        "# Numpy\n",
        "\n",
        "\n",
        "Numpy is the core library for scientific computing in Python. It provides a high-performance multidimensional array object, and tools for working with these arrays. If you are already familiar with MATLAB, you might find [this tutorial](https://docs.scipy.org/doc/numpy/user/numpy-for-matlab-users.html) useful to get started with Numpy.\n",
        "\n",
        "\n",
        "\n",
        "---\n",
        "\n",
        "\n",
        "Arrays\n",
        "A numpy array is a grid of values, all of the same type, and is indexed by a tuple of nonnegative integers. The number of dimensions is the rank of the array; the shape of an array is a tuple of integers giving the size of the array along each dimension.\n",
        "\n",
        "We can initialize numpy arrays from nested Python lists, and access elements using square brackets:\n"
      ]
    },
    {
      "cell_type": "code",
      "metadata": {
        "id": "wUDXZDEfsuiD",
        "colab_type": "code",
        "outputId": "39429ed2-2f54-477e-e8ec-f19b62dbf315",
        "colab": {
          "base_uri": "https://localhost:8080/",
          "height": 163
        }
      },
      "source": [
        "import numpy as np\n",
        "\n",
        "a = np.array([1, 2, 3])   # Create a rank 1 array\n",
        "print(type(a))            # Prints \"<class 'numpy.ndarray'>\"\n",
        "print(a.shape)            # Prints \"(3,)\"\n",
        "print(a[0], a[1], a[2])   # Prints \"1 2 3\"\n",
        "a[0] = 15                  # Change an element of the array\n",
        "print(a)                  # Prints \"[5, 2, 3]\"\n",
        "\n",
        "b = np.array([[1,2,3],[4,5,6]])    # Create a rank 2 array\n",
        "print(b.shape)                     # Prints \"(2, 3)\"\n",
        "print(b[0, 0], b[0, 1], b[1, 0])   # Prints \"1 2 4\"\n",
        "\n",
        "print(sum(a),sum(b),sum(a)*sum(b),'hello')\n",
        "print(sum(sum(a)*sum(b)))"
      ],
      "execution_count": 0,
      "outputs": [
        {
          "output_type": "stream",
          "text": [
            "<class 'numpy.ndarray'>\n",
            "(3,)\n",
            "1 2 3\n",
            "[15  2  3]\n",
            "(2, 3)\n",
            "1 2 4\n",
            "20 [5 7 9] [100 140 180] hello\n",
            "420\n"
          ],
          "name": "stdout"
        }
      ]
    },
    {
      "cell_type": "markdown",
      "metadata": {
        "id": "hLNB0LKjtsiG",
        "colab_type": "text"
      },
      "source": [
        "# Quiz Question 8\n",
        "\n",
        "What should a[0] be set equal to such that print(sum(sum(a)*sum(b))) prints 420?\n",
        "\n",
        "\n",
        "**Solution** - \n",
        "Final Equation is (x+5)(21) = 420\n",
        "                x = 15\n",
        "\n",
        "---\n",
        "\n",
        "\n",
        "Numpy also provides many functions to create arrays:\n"
      ]
    },
    {
      "cell_type": "code",
      "metadata": {
        "id": "uQQ1uhHGtdgd",
        "colab_type": "code",
        "outputId": "33d7a254-d27e-4015-fedf-1c25c7cb7cd4",
        "colab": {
          "base_uri": "https://localhost:8080/",
          "height": 199
        }
      },
      "source": [
        "import numpy as np\n",
        "\n",
        "a = np.zeros((2,2))   # Create an array of all zeros\n",
        "print(a)              # Prints \"[[ 0.  0.]\n",
        "                      #          [ 0.  0.]]\"\n",
        "\n",
        "b = np.ones((1,2))    # Create an array of all ones\n",
        "print(b)              # Prints \"[[ 1.  1.]]\"\n",
        "\n",
        "c = np.full((2,2), 7)  # Create a constant array\n",
        "print(c)               # Prints \"[[ 7.  7.]\n",
        "                       #          [ 7.  7.]]\"\n",
        "\n",
        "d = np.eye(2)         # Create a 2x2 identity matrix\n",
        "print(d)              # Prints \"[[ 1.  0.]\n",
        "                      #          [ 0.  1.]]\"\n",
        "\n",
        "e = np.random.random((2,2))  # Create an array filled with random values\n",
        "print(e)                     # Might print \"[[ 0.91940167  0.08143941]\n",
        "                             #               [ 0.68744134  0.87236687]]\"\n",
        "print(np.prod(e))"
      ],
      "execution_count": 0,
      "outputs": [
        {
          "output_type": "stream",
          "text": [
            "[[0. 0.]\n",
            " [0. 0.]]\n",
            "[[1. 1.]]\n",
            "[[7 7]\n",
            " [7 7]]\n",
            "[[1. 0.]\n",
            " [0. 1.]]\n",
            "[[0.72343298 0.20626717]\n",
            " [0.10910869 0.70628523]]\n",
            "0.011499206851253788\n"
          ],
          "name": "stdout"
        }
      ]
    },
    {
      "cell_type": "markdown",
      "metadata": {
        "id": "Y7UF8HPuujzV",
        "colab_type": "text"
      },
      "source": [
        "# Quiz Question 9\n",
        "\n",
        "Is it guaranteed that print(np.prod(e)) will always be less than 1?\n",
        "\n",
        "**Soution** - Yes. Because random.random is always between (0,1)."
      ]
    },
    {
      "cell_type": "markdown",
      "metadata": {
        "id": "8ozSHrmzuzay",
        "colab_type": "text"
      },
      "source": [
        "## Array indexing\n",
        "\n",
        "Numpy offers several ways to index into arrays.\n",
        "\n",
        "**Slicing**\n",
        "Similar to Python lists, numpy arrays can be sliced. Since arrays may be multidimensional, you must specify a slice for each dimension of the array:"
      ]
    },
    {
      "cell_type": "code",
      "metadata": {
        "id": "QypVe8W6t_Y2",
        "colab_type": "code",
        "outputId": "57e42dd7-9617-41c8-d083-2aa5de5ac08e",
        "colab": {
          "base_uri": "https://localhost:8080/",
          "height": 72
        }
      },
      "source": [
        "import numpy as np\n",
        "\n",
        "# Create the following rank 2 array with shape (3, 4)\n",
        "# [[ 1  2  3  4]\n",
        "#  [ 5  6  7  8]\n",
        "#  [ 9 10 11 12]]\n",
        "a = np.array([[1,2,3,4], [5,6,7,8], [9,10,11,12]])\n",
        "a[0, 0] = 4\n",
        "\n",
        "# Use slicing to pull out the subarray consisting of the first 2 rows\n",
        "# and columns 1 and 2; b is the following array of shape (2, 2):\n",
        "# [[2 3]\n",
        "#  [6 7]]\n",
        "b = a[:2, 1:3]\n",
        "\n",
        "# A slice of an array is a view into the same data, so modifying it\n",
        "# will modify the original array.\n",
        "print(a[0, 1])   # Prints \"2\"\n",
        "b[0, 0] = 77     # b[0, 0] is the same piece of data as a[0, 1]\n",
        "print(a[0, 1])   # Prints \"77\"\n",
        "\n",
        "c = a[:1, 2:4]\n",
        "c[0, 0] = 99\n",
        "print(a[0,2])"
      ],
      "execution_count": 0,
      "outputs": [
        {
          "output_type": "stream",
          "text": [
            "2\n",
            "77\n",
            "99\n"
          ],
          "name": "stdout"
        }
      ]
    },
    {
      "cell_type": "markdown",
      "metadata": {
        "id": "QEoDyYAmwA0J",
        "colab_type": "text"
      },
      "source": [
        "# Quiz Question 10\n",
        "At which index of a, 99 values is stored? See quiz for options. \n",
        "\n",
        "**Solution** - A[0][2]"
      ]
    },
    {
      "cell_type": "markdown",
      "metadata": {
        "id": "phzn_89Iwk0I",
        "colab_type": "text"
      },
      "source": [
        "You can also mix integer indexing with slice indexing. However, doing so will yield an array of lower rank than the original array. Note that this is quite different from the way that MATLAB handles array slicing:"
      ]
    },
    {
      "cell_type": "code",
      "metadata": {
        "id": "AlkFtgkUvGFz",
        "colab_type": "code",
        "outputId": "0834a729-0dc9-4435-e90e-ff2754d34c37",
        "colab": {
          "base_uri": "https://localhost:8080/",
          "height": 126
        }
      },
      "source": [
        "import numpy as np\n",
        "\n",
        "# Create the following rank 2 array with shape (3, 4)\n",
        "# [[ 1  2  3  4]\n",
        "#  [ 5  6  7  8]\n",
        "#  [ 9 10 11 12]]\n",
        "a = np.array([[1,2,3,4], [5,6,7,8], [9,10,11,12]])\n",
        "\n",
        "# Two ways of accessing the data in the middle row of the array.\n",
        "# Mixing integer indexing with slices yields an array of lower rank,\n",
        "# while using only slices yields an array of the same rank as the\n",
        "# original array:\n",
        "row_r1 = a[1, :]    # Rank 1 view of the second row of a\n",
        "row_r2 = a[1:2, :]  # Rank 2 view of the second row of a\n",
        "print(row_r1, row_r1.shape)  # Prints \"[5 6 7 8] (4,)\"\n",
        "print(row_r2, row_r2.shape)  # Prints \"[[5 6 7 8]] (1, 4)\"\n",
        "\n",
        "# We can make the same distinction when accessing columns of an array:\n",
        "col_r1 = a[:, 1]\n",
        "col_r2 = a[:, 1:2]\n",
        "print(col_r1, col_r1.shape)  # Prints \"[ 2  6 10] (3,)\"\n",
        "print(col_r2, col_r2.shape)  # Prints \"[[ 2]\n",
        "                             #          [ 6]\n",
        "                             #          [10]] (3, 1)\""
      ],
      "execution_count": 0,
      "outputs": [
        {
          "output_type": "stream",
          "text": [
            "[5 6 7 8] (4,)\n",
            "[[5 6 7 8]] (1, 4)\n",
            "[ 2  6 10] (3,)\n",
            "[[ 2]\n",
            " [ 6]\n",
            " [10]] (3, 1)\n"
          ],
          "name": "stdout"
        }
      ]
    },
    {
      "cell_type": "markdown",
      "metadata": {
        "id": "-8ya9ZHlwqK7",
        "colab_type": "text"
      },
      "source": [
        "Integer array indexing: When you index into numpy arrays using slicing, the resulting array view will always be a subarray of the original array. In contrast, integer array indexing allows you to construct arbitrary arrays using the data from another array. Here is an example:"
      ]
    },
    {
      "cell_type": "code",
      "metadata": {
        "id": "Knk1HhLownX8",
        "colab_type": "code",
        "outputId": "654f0775-809d-4ff5-fa89-cf58f5aeee69",
        "colab": {
          "base_uri": "https://localhost:8080/",
          "height": 108
        }
      },
      "source": [
        "import numpy as np\n",
        "\n",
        "a = np.array([[1,2], [3, 4], [5, 6]])\n",
        "\n",
        "# An example of integer array indexing.\n",
        "# The returned array will have shape (3,) and\n",
        "print(a[[[0, 1, 2],[0,0,0]], [[0, 1, 0],[0,0,0]]])  # Prints \"[1 4 5]\"\n",
        "\n",
        "# The above example of integer array indexing is equivalent to this:\n",
        "print(np.array([a[0, 0], a[1, 1], a[2, 0]]))  # Prints \"[1 4 5]\"\n",
        "\n",
        "# When using integer array indexing, you can reuse the same\n",
        "# element from the source array:\n",
        "print(a[[0, 0], [1, 1]])  # Prints \"[2 2]\"\n",
        "\n",
        "# Equivalent to the previous integer array indexing example\n",
        "print(np.array([a[0, 1], a[0, 1]]))  # Prints \"[2 2]\""
      ],
      "execution_count": 0,
      "outputs": [
        {
          "output_type": "stream",
          "text": [
            "[[1 4 5]\n",
            " [1 1 1]]\n",
            "[1 4 5]\n",
            "[2 2]\n",
            "[2 2]\n"
          ],
          "name": "stdout"
        }
      ]
    },
    {
      "cell_type": "markdown",
      "metadata": {
        "id": "pPY2c_kBw4tV",
        "colab_type": "text"
      },
      "source": [
        "## Datatypes\n",
        "\n",
        "Every numpy array is a grid of elements of the same type. Numpy provides a large set of numeric datatypes that you can use to construct arrays. Numpy tries to guess a datatype when you create an array, but functions that construct arrays usually also include an optional argument to explicitly specify the datatype. Here is an example:"
      ]
    },
    {
      "cell_type": "code",
      "metadata": {
        "id": "QX4zPCdTwsb6",
        "colab_type": "code",
        "colab": {}
      },
      "source": [
        "import numpy as np\n",
        "\n",
        "x = np.array([1, 2])   # Let numpy choose the datatype\n",
        "print(x.dtype)         # Prints \"int64\"\n",
        "\n",
        "x = np.array([1.0, 2.0])   # Let numpy choose the datatype\n",
        "print(x.dtype)             # Prints \"float64\"\n",
        "\n",
        "x = np.array([1, 2], dtype=np.int64)   # Force a particular datatype\n",
        "print(x.dtype)                         # Prints \"int64\""
      ],
      "execution_count": 0,
      "outputs": []
    },
    {
      "cell_type": "markdown",
      "metadata": {
        "id": "LFa1S7jWw-vK",
        "colab_type": "text"
      },
      "source": [
        "## Array math\n",
        "\n",
        "Basic mathematical functions operate elementwise on arrays, and are available both as operator overloads and as functions in the numpy module:"
      ]
    },
    {
      "cell_type": "code",
      "metadata": {
        "id": "ZgAIP41Tw81b",
        "colab_type": "code",
        "colab": {}
      },
      "source": [
        "import numpy as np\n",
        "\n",
        "x = np.array([[1,2],[3,4]], dtype=np.float64)\n",
        "y = np.array([[5,6],[7,8]], dtype=np.float64)\n",
        "\n",
        "# Elementwise sum; both produce the array\n",
        "# [[ 6.0  8.0]\n",
        "#  [10.0 12.0]]\n",
        "print(x + y)\n",
        "print(np.add(x, y))\n",
        "\n",
        "# Elementwise difference; both produce the array\n",
        "# [[-4.0 -4.0]\n",
        "#  [-4.0 -4.0]]\n",
        "print(x - y)\n",
        "print(np.subtract(x, y))\n",
        "\n",
        "# Elementwise product; both produce the array\n",
        "# [[ 5.0 12.0]\n",
        "#  [21.0 32.0]]\n",
        "print(x * y)\n",
        "print(np.multiply(x, y))\n",
        "\n",
        "# Elementwise division; both produce the array\n",
        "# [[ 0.2         0.33333333]\n",
        "#  [ 0.42857143  0.5       ]]\n",
        "print(x / y)\n",
        "print(np.divide(x, y))\n",
        "\n",
        "# Elementwise square root; produces the array\n",
        "# [[ 1.          1.41421356]\n",
        "#  [ 1.73205081  2.        ]]\n",
        "print(np.sqrt(x))"
      ],
      "execution_count": 0,
      "outputs": []
    },
    {
      "cell_type": "markdown",
      "metadata": {
        "id": "7MnEOHMGxOUx",
        "colab_type": "text"
      },
      "source": [
        "Note that unlike MATLAB, `*` is elementwise multiplication, not matrix multiplication. We instead use the dot function to compute inner products of vectors, to multiply a vector by a matrix, and to multiply matrices. dot is available both as a function in the numpy module and as an instance method of array objects:"
      ]
    },
    {
      "cell_type": "code",
      "metadata": {
        "id": "5Hw97GNpxC8f",
        "colab_type": "code",
        "outputId": "0a1038b3-05ae-4156-a2cb-231e97939113",
        "colab": {
          "base_uri": "https://localhost:8080/",
          "height": 181
        }
      },
      "source": [
        "import numpy as np\n",
        "\n",
        "x = np.array([[1,2],[3,4]])\n",
        "y = np.array([[5,6],[7,8]])\n",
        "\n",
        "v = np.array([9,10])\n",
        "w = np.array([11, 12])\n",
        "\n",
        "# Inner product of vectors; both produce 219\n",
        "print(v.dot(w))\n",
        "print(np.dot(v, w))\n",
        "\n",
        "# Matrix / vector product; both produce the rank 1 array [29 67]\n",
        "print(x.dot(v))\n",
        "print(np.dot(x, v))\n",
        "\n",
        "# Matrix / matrix product; both produce the rank 2 array\n",
        "# [[19 22]\n",
        "#  [43 50]]\n",
        "print(x.dot(y))\n",
        "print(np.dot(x, y))\n",
        "print(np.sqrt(np.sum(np.dot(y,np.sqrt(x))))) #Solution"
      ],
      "execution_count": 0,
      "outputs": [
        {
          "output_type": "stream",
          "text": [
            "219\n",
            "219\n",
            "[29 67]\n",
            "[29 67]\n",
            "[[19 22]\n",
            " [43 50]]\n",
            "[[19 22]\n",
            " [43 50]]\n",
            "9.012173658693081\n"
          ],
          "name": "stdout"
        }
      ]
    },
    {
      "cell_type": "markdown",
      "metadata": {
        "id": "TqrBwA9yxob5",
        "colab_type": "text"
      },
      "source": [
        "# Quiz Question 11\n",
        "\n",
        "What is the value of the square-root of sum of the dot product between y and the square-root of x? (answer up to 5 decimal points only, e.g. 0.12345)\n"
      ]
    },
    {
      "cell_type": "markdown",
      "metadata": {
        "id": "Ysu6nTdVyk3r",
        "colab_type": "text"
      },
      "source": [
        "Numpy provides many useful functions for performing computations on arrays; one of the most useful is `sum`:"
      ]
    },
    {
      "cell_type": "code",
      "metadata": {
        "id": "TREMQheFxRSD",
        "colab_type": "code",
        "outputId": "c73c0195-5c86-40a4-c56d-f897efb64bba",
        "colab": {
          "base_uri": "https://localhost:8080/",
          "height": 90
        }
      },
      "source": [
        "import numpy as np\n",
        "\n",
        "x = np.array([[1,2],[3,4]])\n",
        "\n",
        "print(np.sum(x))  # Compute sum of all elements; prints \"10\"\n",
        "print(np.sum(x, axis=0))  # Compute sum of each column; prints \"[4 6]\"\n",
        "print(np.sum(x, axis=1))  # Compute sum of each row; prints \"[3 7]\"\n",
        "np.sqrt(np.dot(np.sum(x,axis=0),np.sum(x,axis=1))) #Solution"
      ],
      "execution_count": 0,
      "outputs": [
        {
          "output_type": "stream",
          "text": [
            "10\n",
            "[4 6]\n",
            "[3 7]\n"
          ],
          "name": "stdout"
        },
        {
          "output_type": "execute_result",
          "data": {
            "text/plain": [
              "7.3484692283495345"
            ]
          },
          "metadata": {
            "tags": []
          },
          "execution_count": 14
        }
      ]
    },
    {
      "cell_type": "markdown",
      "metadata": {
        "id": "uahkTbYJzIK1",
        "colab_type": "text"
      },
      "source": [
        "# Quiz Question 12\n",
        "\n",
        "What is the sum of all the elements of x and square-root of dot-product of sum of each coloumn of x and sum of each row of x? (answer up to 5 decimal points only, e.g. 0.12345)"
      ]
    },
    {
      "cell_type": "markdown",
      "metadata": {
        "id": "WcrVRbQPzveH",
        "colab_type": "text"
      },
      "source": [
        "## Broadcasting\n",
        "\n",
        "Broadcasting is a powerful mechanism that allows numpy to work with arrays of different shapes when performing arithmetic operations. Frequently we have a smaller array and a larger array, and we want to use the smaller array multiple times to perform some operation on the larger array.\n",
        "\n",
        "For example, suppose that we want to add a constant vector to each row of a matrix. We could do it like this:"
      ]
    },
    {
      "cell_type": "code",
      "metadata": {
        "id": "MtO9pH8qyn9o",
        "colab_type": "code",
        "colab": {}
      },
      "source": [
        "import numpy as np\n",
        "\n",
        "# We will add the vector v to each row of the matrix x,\n",
        "# storing the result in the matrix y\n",
        "x = np.array([[1,2,3], [4,5,6], [7,8,9], [10, 11, 12]])\n",
        "v = np.array([1, 0, 1])\n",
        "y = np.empty_like(x)   # Create an empty matrix with the same shape as x\n",
        "\n",
        "# Add the vector v to each row of the matrix x with an explicit loop\n",
        "for i in range(4):\n",
        "    y[i, :] = x[i, :] + v\n",
        "\n",
        "# Now y is the following\n",
        "# [[ 2  2  4]\n",
        "#  [ 5  5  7]\n",
        "#  [ 8  8 10]\n",
        "#  [11 11 13]]\n",
        "print(y)"
      ],
      "execution_count": 0,
      "outputs": []
    },
    {
      "cell_type": "markdown",
      "metadata": {
        "id": "IFnoEMTMz-hv",
        "colab_type": "text"
      },
      "source": [
        "## Image operations\n",
        "\n",
        "PIL is the Python Imaging Library by Fredrik Lundh and Contributors. You should learn PIL as we would be using it a lot along with PyTorch"
      ]
    },
    {
      "cell_type": "code",
      "metadata": {
        "id": "egyBkthR0hPg",
        "colab_type": "code",
        "outputId": "2695555d-54ed-4afa-b85b-36bceeca8895",
        "colab": {
          "base_uri": "https://localhost:8080/",
          "height": 258
        }
      },
      "source": [
        "from PIL import Image\n",
        "import requests\n",
        "from io import BytesIO\n",
        "\n",
        "response = requests.get('https://encrypted-tbn0.gstatic.com/images?q=tbn%3AANd9GcRZpTmijaNOH6MmycM_eiPKcEl5mVvbwl7a8YKVGpEEMIanDcSt')\n",
        "\n",
        "img = Image.open(BytesIO(response.content))\n",
        "display(img)"
      ],
      "execution_count": 0,
      "outputs": [
        {
          "output_type": "stream",
          "text": [
            "b'\\x89PNG\\r\\n\\x1a\\n\\x00\\x00\\x00\\rIHDR\\x00\\x00\\x02Y\\x00\\x00\\x00\\xcb\\x08\\x03\\x00\\x00\\x00j\\x17v\\x14\\x00\\x00\\x00\\xf0PLTE\\xff\\xff\\xffddd\\x8b\\x8b\\x8b\\xd9\\xd9\\xd9\\xb2\\xb2\\xb2\\xfc\\xfc\\xfc7s\\xa57u\\xa9\\xff\\xd5E7w\\xac7p\\xa0\\xff\\xdcM\\xff\\xd7G\\xff\\xcd<\\xff\\xd3C\\xf6\\xf6\\xf6\\xf2\\xf2\\xf27{\\xb3\\xff\\xdeO6i\\x94\\xec\\xec\\xec\\xff\\xcb:nnn\\xc5\\xc5\\xc5\\x9e\\x9e\\x9e\\xe2\\xe2\\xe2www\\x81\\x81\\x81\\xff\\xc64\\xff\\xe5W\\xff\\xe2T6l\\x9a\\xa8\\xa8\\xa8\\x95\\x95\\x95\\xcf\\xcf\\xcf\\xbc\\xbc\\xbc\\xff\\xea]8~\\xb9\\xff\\xf8\\xe6\\xff\\xfd\\xf4\\xcd\\xdb\\xe6\\xff\\xf7\\xd3i\\x9c\\xc7\\xe6\\xef\\xf6\\xff\\xe8}\\xff\\xe9\\x8f\\x9b\\xb6\\xcd\\xc1\\xd6\\xe8\\x9c\\xbe\\xdb\\\\\\x85\\xa8Dz\\xa8\\xff\\xfb\\xe1\\xff\\xech\\xff\\xf3\\xac\\xff\\xd4f\\xff\\xe9\\xb2i\\x94\\xb8\\xff\\xe3o\\xff\\xddq\\x8f\\xaf\\xca\\xff\\xe6\\x9d\\xff\\xda\\x7fv\\xa5\\xcdQ\\x8e\\xc1v\\x9e\\xbe\\xff\\xf4\\xa4\\xff\\xec\\xbf\\x8f\\xb7\\xd8\\xa8\\xc2\\xd7\\xff\\xf3\\xbd\\xff\\xec\\xa5\\xb4\\xc7\\xd7u\\x98\\xb6\\xff\\xef{\\xff\\xf9\\xcd\\xff\\xf3\\x9b\\xff\\xcfPP\\x82\\xac\\xff\\xdf\\x8d\\xff\\xea\\x99\\xd2\\xff~\\xdd\\x00\\x00\\x0f\\xc3IDATx\\x9c\\xed\\x9d\\xfd\\x7f\\xd36\\x02\\x87\\x9d8+\\x1c\\x14|\\x1b\\xa1y\\xeb\\x81\\x93\\x0c\\xda&\\xb0ft-\\xed\\xe8\\xa0\\x1b\\xa5\\xbd\\xdb\\xb1\\xdd\\xff\\xff\\xdf\\x9c\\xed\\xd8\\x92l\\xbd\\xda\\x91c\\xc5|\\x9f\\x1f\\xe8\\x87\\xc4\\xb6d\\xf9\\x89$\\xeb\\xd5\\xf3\\x00\\x00\\x00\\x00\\x00\\x00\\x00\\x00\\x00\\x00\\x00\\x00\\x00\\x00\\x00\\x00\\x00\\x00\\x00\\x00\\x00\\x00\\x00\\x00\\x00\\x00\\x00\\x00\\x00\\x00\\x00\\x00\\x00\\x00\\x00\\x00\\x00\\x00\\x00\\x00\\x00\\x00\\x00\\xa8\\t\\x06\\xd3Q\\xd3q\\x00\\xad\\xa3?\\x9fv:\\x1d\\xbf\\xe9h\\x80v\\xd1\\x9fO:\\t0\\x0bX\\xa5\\xdb\\xe9\\xc0\\xaczY\\x9e\\xaeV\\x1f\\x17\\x8bO\\xdf\\xa7|Z,\\x16\\xab\\xd5\\xfdq\\xd0t\\xc4\\xea\\x05f\\xd5\\xc9\\xf2\\xf6\\xe3\\xa7W\\xaf\\xbe/\\xf0\\x8f\\x94w\\x8b\\xd5q\\xd31\\xac\\x0f\\x98U\\x1b\\xcb\\xcf\\x91U\\xaf\\xe4b\\xc5<\\xb8\\xbco:\\x9au\\x01\\xb3j\\xe2x\\xf1\\xea\\x95^\\xac\\x88\\xbfZ\\x9ao\\xc1\\xacz\\xf8\\xfcJ/\\xd6\\x83\\x94\\x9f\\x9a\\x8el-\\xc0\\xacZ(#\\xd6\\x83\\x077MG\\xb7\\x0e`V\\x1d\\xac\\xca\\x88\\xb5\\xb7\\xb7w\\xd3t\\x84k\\x00f\\xd5\\xc0\\xb2\\xa4X{{\\xb7MG\\xd9>0\\xab\\x06\\xb2\\xb2\\xf0\\xd3\\xed\\xf1\\xf2ta \\xd6\\xde\\xde\\xb2\\xe98[\\x07f\\xd5\\xc0\\xa7T\\xacu[\\xe8\\xbd\\xe4\\xa5\\x90\\x15k\\xb7\\xcbCa\\x9b\\xef.\\x98\\xd5\\xcb\\xf0z\\x83\\xf4#\\xbf\\xd7o4JJ\\x969\\xb1\\xa2Z\\x97^\\xac\\xbdG;\\x9bi\\xf5{\\xe3\\x9e\\xe8\\xf3]1\\xab\\x93\\x98\\xd5\\xe9\\xa4Bu]\\x8e\\xef\\xf1\\xba\\x8e\\xf59\\xfb\\x7f` \\xd6\\xa3\\xdd\\xaci\\x05I\\xb7\\xf3\\xce\\x9a\\x15\\xd3Y\\xff;\\x9e\\'\\x7f\\xfb\\x07.\\xc7\\xf7t]w\\xa7-\\xa0\\x0b\\xbdX\\x8fn\\x9a\\x8boU\\x82\\xc1t\\xedN\\x1b\\xcc\\x9a\\x8f\\x93\\xbfa\\xe8r|W\\xeb\\x97B\\xd6,\\xadX\\x8f.\\x1b\\x8cpEz\\x99;m0\\xcb\\x9f$\\xf1<\\xe8\\xbb\\x1c\\xdf\\xd5\\xba\\xb5\\x81\\x96o\\x06b=\\xfa\\xb9\\xc1\\x08W\\xa4]f\\r\\x86\\xd1\\x9fY\\xd7s9\\xbe\\xabt\\xb4L\\xf6\\xff{a\\xc3{\\xce\\xab\\x88&c\\\\\\x8dv\\x99\\x15t\\xa27\\xae\\xe9`\\x17\\xcc\\xca\\xaa\\xf0\\xcbw&b\\xc1\\xac\\x86\\xc8\\xcc\\xf2\\x86\\xf3\\xa8\\xfe\\xee\\xed\\x84Y\\xdf\\x7f\\\\F\\xd5\\xdc{\\x91X{\\x9cX0\\xab!\\x88Y\\xfe\\xd8\\xeb\\x85;bV\\\\$\\xaa\\x1a\\xdeY\\xb1`VC\\x10\\xb3\\xbc\\xb1?\\x1e\\xed\\x8eY\\xc6b\\xc1\\xac\\x86\\xa0f\\xcd\\xc7\\x13og\\xcc2x)\\x84Y\\xcdB\\xcd\\n:\\x03oW\\xcc*!\\x16\\xcc\\x02ZVU\\xc4z\\xd9t\\xac\\xcb\\x03\\xb3\\xb6\\xcd\\xaa\\x8aX0\\x0bhY\\x95\\x16\\xeb\\xe5K\\x98\\x056\\xe2R*\\x16\\xcc\\x02\\x9bp).\\t\\xeb1\\xcb\\x8f0\\\\\\x08\\xa6\\xd2h\\xb7m\\x995\\x8ao\\xc4\\xaf\\x12\\xc5\\xbe_\"\\rv\\x9bK\\xa9X6\\xcd\\x1a\\r\\xc2\\xee8{\\xb0\\x9d\\xf1t\\xae~*\\xc1\\xa0\\xdb\\xa9\\x12LE\\xb3\\xca<\\xed\\xfe`8!7\\xd2\\rg\\xc6+\\x16\\xf4\\x07\\xbd2I\\xe0*\\xc1i\\xbcp\\x83\\x84K\\x96wR\\xb1b\\xb3~\\x7fC\\xb9\\xfbrT-2\\x83\\xe1A\\x87\\xa3;\\x93\\xc6}=\\xc8JqA\\x81@]>\\x844\\x1c\\x8f?\\x86\\x9a\\x15\\xccBz\\xe6$\\xd4\\xda\\x95\\x8d\\xffb\\x18\\x1a\\xe4\\x80\\xc1l8\\xe6N\\xect\\x07\\xfa3\\x1d\\xe3\\xf4\\xa3\\xf9\\x1c\\x1d\\xb9X\\xb1Yo^$\\xfc\\x90\\xf2\\xf6u\\xe9\\xb8\\xf8\"\\xad\\xd6\\t+|\\x8e\\xe4\\xd9)\\xaei\\xc9\\xac\\x80\\xf7\\xa4\\xab\\xd4d \\xd0C{\\x92*\\t\\xc6\\xbbU\\xe3;V,\\tRF,jV&\\xd6\\xe3\\xc7?|)\\x17\\x17_\\xfa\\xc4cD\\xbfY\\xf2\\xa5\\xe2\\xaaV\\xcc\\xea\\x8b\\x9fw(\\r5\\x90\\xdfK\\xa8(\\x13\\xd5I \\x0f\\xce9\\x82\\xcf\\xfc\\xac\\xc2r\\xcdX\\x9cYT\\xac\\x88\\xbb\\x12q\\x19)\\x135b\\xc8\\x9fC\\xbeS\\\\\\xd7\\x82Y\\xc1Pv\\xc2Db\\x89/\\xcbxb\\xc6\\xb2rT\\xed\\x95\"8\\xe7\\x08\\x16\\xd6\\xc4z\\xe6\\xad\\xcd\\xca\\x89\\xf5\\xf8\\xb1y\\xae\\xd5+$\\xe2A7\"\\xff|x\\xb5\\xc8W&\\x17\\xael\\xd6\\\\\\xa1\\x89\\xf8Y\\x0f\\xd4\\x82\\x1c\\x08\\xcb\\xb5\\xfe4\\x1f\\x97\\x04\\xa3\\xe0\\x9c\\xc3\\xa6X\\xa9Y\\x05\\xb1\\xf6\\xf7\\xcf\\xcc\\xa2\\xd2\\x9f\\xb0\\xe97\\x9dgI\\x1f\\xbf\\xf7Q\\xb8\\x978\\xf2\\x8d\\xe2\\xd2\\x02\\xb3\\xc2\\xe4\\xa1\\x91z\\xd0\\xb8\\x9b\\x11\\xd2\\xd3H\\xb8\\x83\\xfc\\xd3-Z\\xd6\\xe5C\\xcc\\x895\\xe9\\xf9\\xb1\\r\\xfd\\xfc\\x9b\\x89\\xa0hg\\xfd\\x9d\\x0e\\xc8\\xbb\\xa0\\x1f\\xe6B\\x14d\\xdc\\x0e\\xb2\\xd0\\xafad,\\xd6\\xda,N\\xac\\xfd_\\x8db2bR\\xaf;\\xc8\\xff.}\\xa6&\\\\\\xfc\\xadW4K\\xf3E\\x82 _\\x1b\\x0fg\\xc9\\x03\\x1f\\xe5\\x1e\\xf6\\x9c;\\x95\\x11k\\xca\\xc48\\xe8\\xd1\\xd3\\x0e\\x8a\\x05b\\x9f\\x86w\\xd0\\xcb\\'@\\x90\\xcb\\xce\\xa5o\\xc9\\x0eqkS\\xac\\xc4,^\\xac\\xfd}\\x93\\xf2\\x90\\x11k\\xc87\\xdc\\x044?\\x1b\\x17\\n\\x83m\\x9a5e\\x9ei0e\\xbe(\\xc6xD\\x1d)\\xfc\\x12X}\\xf2g\\rH\\n\\x14\\xbd\\x8aakmc\\xc5\\xad:\\xc2r#\\xb1^\\x16\\xc4b\\xcdb\\xbc\\xda\\xdf\\xbf2\\x88\\nyN\\xe2\\xba-\\xa3V\\x98\\xfff{f\\x15\\x8dg\\xea\\xf4\\x85\\x02* y\\xec\\x84\\xff\\x95\\xd0\\xd3\\xf25&\\x12ZW\\xd8$\\xca\\xe6\\xe9\\xee\\xb7=|6[\\x1cK\\x9ba\\xad\\xc5b\\xcc\\xca\\x89eT\\xd3\\xd2\\xf5\\xa4\\xf4i\\xc2\\xe6\\x13~[f\\t\\x1a\\xa1\\xa6\\xf4\\xdb@\\xfc\\xc5\\x81\\xa8\\xb6M\\xd5\\xca\\x85\\xaaK\\x81\\x19\\r-\\x94\\xdd\\xa8+,\\xed\\x8aE\\xccz\\\\\\x10\\xeb\\xe1[}\\\\\\xb4}tsI\\x06\\xb1\\x1d\\xb3\\x0eDMi\\x01\\xb5=W\\xd3\\xf2\\xc9\\xc7\\xc2\\x9ba\\xf2_6\\x7f\\xd6\\xa6\\x00\\x15Y\\xf4\\xca\\xe0\\x14\\xb7V\\xdaG\\x89X\\x99Y\\x9cX\\x0f\\xf7\\xf5q\\xd1\\xf7\\xfe\\xd2Z|.\\xd3\\xda\\x8aYS\\xf1\\x9b>\\xad\\xa7\\xe7\\x9e5\\x89i(\\x8e\\x8e/<M\\x9b\\x02}\\xea\\xb9\\xe4\\x08g\\xf8dI\\xacT\\xadx\\x8e\\xf4\\x1b\\x91X\\x0f\\x1f\\xea\\x8bC\\xbdY4\\xd3\\n\\xd9\\x8f\\xb7a\\x16\\xff\\xee\\x97B+\\xdd\\xcc\\x87\\xc47aY\\x18C\\xcbC\\xe6n\\xf5)@\\xf3:\\xd9\\x11\\x8e\\x10X\\x11\\xebY&\\xd6\\xb3x]\\x87+\\xa1XO\\xf5\\r\\xf1\\xfat\\r\\xc4?\\xd9m\\x98%\\x8dSHBg\\xf2Q]\\x96\\xc5\\xe6>\\xea\\xfeoYl]7\\xeb\\xd4Nk\\x03)\\x0co\\xa2k\\x8a\\xc5z\\xaao\\xd22\\x18\\x0b5%\\t\\xcb6\\xe84j\\x16\\xadU\\xd3ChY\\'\\x1f\\xf62\\x15\\x1c\\xa3\\x0f\\x8d^Yza7\\x90M*\\xac(\\xd6\\xb3{\\xcf;\\x13\\x8b\\xf5\\xf4\\xa962\\x06f\\x89\\xeb\\xf0\\x8d\\x9aEC\\xa7\\x87\\x90\\xa2n\"\\x8f\\x1052,\\x11\\x1am%\\x93_\\xd9\\t\\x16v\\xc5z\\xb6\\xf4\\xbc/\\x12\\xb1\\x9ej+Z\\x06O\\x91&,\\xdbT\\xd8\\xacYc\\xfe\\x10R\\xf7\\n\\x151\"\\x07Q\\xfd\\xcax\\xac\\xb8\\xb2\\x0b\\xd8ix\\'\\xfc;\\xba\\xe4\\x95D,}E\\xcbdd0IX\\xb6\\x9ci\\xd6,\\xfe\\x10M\\x93C\\xca\\x94\\xbf\\x95\\xf6\\x98\\xb5\\xb4+\\xd6\\xb3c\\xcf{-\\x13\\xeb\\xa9\\xb6E\\xcb\\xc4,\\xda\\n\\xc0T\\xb4\\\\3\\x8bV\\xb3Uc\\x12h\\xc9N\\x1a\\xca\\xdac\\xd6i\\x15\\xb1D\\xcdXk>D\\x97|+\\x13K_\\x8571K\\xd8x\\xed\\x9aY\\xe4\\x13e\\xa3\\x13\\xcd\\xd9\\xc2\\x12\\xa1\\xed\\x88Y\\xa2y\\xd0|\\xc3\\xbb\\xa9X?G\\xbf\\xd0\\x13\\xa9XO\\x9e\\xe8bcb\\x16\\xcd\\x0e\\x98\\x97u\\xd7\\xcc\"5(uC9\\x7f+\\xed1\\xeb\\xb3\\x95\\x1e\\x1dF\\xac\\xa3\\xab\\x82W\\x8cXOt\\x93-L\\xcc\\xa2E\\x08\\xf3\\xda\\xe5\\x9aY$>SE\\x84\\x98\\xc3H\\xd6\\xd6\\x1e\\xb3\\x16Vzt\\xd2F\\xd2\\xb8N\\xf1V\"\\xd6\\x93\\x98\\x13MlL\\xcc\\xa2E\\x08\\x93\\xb4\\x8e\\x99E_`\\x85\\x97\\xe4O\\xecp\\x9f\\xb4\\xc4,+b%+\\xe5*\\xc5\\xfaf\\xcc\\xa2q45kT\\xfcd\\xe7\\xcd\\xb2\\xd2\\xa3\\x13\\x17\\x84\\xb7\\xc9K\\x90Z\\xac\\'\\xd7\\x9a\\xd8\\x944\\x8b\\x0e\\x12\\xd8y\\xb3\\xfc\\xe2\\'m0\\xcb\\xe0\\xa5\\xf0\\xf2\\xc3O*\\x8e\\xd3]\\xca\\x8f\\xdeH\\xeb\\xee\\xb5\\x98E\\x8f\\x82Y\\xcea \\xd6\\xe5\\xbd\\xe1<\\x91\\xf3\\x1f4bY1\\x8b\\xd6a`\\x96\\xcbh\\xc5\\xba4\\xdc\\x1e\\xfa\\xe8\\xfcJ\\xde\\xda`\\xd3,\\xa6\\x11\\x1ef9\\x8cF\\xacw\\xd9\\x06\\x16g\\'*\\xbe\\xdcI{tX\\xb1\\x9e#\\xcf\\x92\\x9c\\xd8n\\xb3Db%{\\xca\\x1d}\\xf9\\xcf\\x8f\\t\\xff\\xcax\\xf1\\xe2\\xc5\\x0bn\\x1e\\xb4^,+f\\xb5\\xb3\\x9e\\x15\\x14?\\xd9y\\xb3\\x16Z\\xb1\\x8e~\\xff\\xe5GKb}3f\\xd1A}\\xa1\"B-o\\xcfR\\xf4\\xe8$b\\x9d\\xa5\\xf9\\x95\\r\\xb1l\\x9bE\\x07;8f\\x96\\xa0\\xdbF\\x08?\\xce\\xb9=f}P\\xf4\\xe8\\x9cF\\xdf\\xff\\xf9\\x8bE\\xb1\\x9e\\xdbh)e\\xe6E\\xd1\\x0f]3\\x8bN5TD\\xa8\\xdd\\xfd\\x86+\\xb9X7\\xd1\\xd7g\\x96\\xc4z\\xfe\\xdc\\x9aY\\xcc\\x14t\\xfa\\xa1kf\\xf1\\xc5\\x9c\\x08A\\xa1\\xd9\\x1e\\xb3N\\xe5\\xed\\xa3QYxd*\\x96\\xb4\\x0f:\\'\\xd6\\xa1.6&f\\xd1\\xf9\\x0c\\x0e\\x8fu\\xa0\\xfa\\xab\\x16\\x04\\xa4\\x05{\\x0b\\xc7g-\\xa5b\\xddD\\xdf\\xfeW\\'\\x96(\\xc3z(.\\t#\\xb1\\xbe\\xeabSn\\xe4\\x1f3\\x10\\xde5\\xb3h\\x91\\xadZ\\xfb\\x91\\xfa\\xd7\\xc21\\xa5\\x9e\\xb4G\\'\\xca\\xb2^\\xdb\\x15\\xeb\\xf07]dL\\xcc\\x12NIv\\xcd,\\x1a!\\xd5jDd\\x10#\\x1d\\xd2\\xdf\"\\xb3\\x16\\x12\\xb1\\xfe\\x8a\\xbe\\xfb\\xdd\\xaeX\\x87\\xefu\\x91)5\\xc3\\x82-hD\\x9f\\x15\\xd9\\xaaYS^\\x1a\\x1eR\\xcf\\xa7\\xfa\\xb5\\xc8\\xac\\x0f\\x92\\xc1\\r\\xf1\\xb8\\xe3_\\xc4bUx)L\\xc4:\\xd4\\xae\\x84[jV\\x18;\\x10\\xb8\\xa3?q\\xbbf\\xd1)\\xf9r\\xd7\\xfb\\x82cZd\\xd6\\xa9d\\xd4\\xccm\\xf4bhY,m5\\xab\\xdcLV\\xe1|CE\\xb5f\\xabf\\xd1\\xb9\\xdc\\xa1\\xf44\\xf2#a\\xf2\\xb5\\x16\\x99\\xb5\\x94\\x0c\\xc7:\\xf6\\xbc?\\xed\\x8au\\xf8\\xb762\\xfat\\xa5\\xbf\\xf3\\xdc1d\\xb1\\x03E\\xb5f\\xabf\\xd1:\\x94|\\x8e\\x05\\x894Sal\\x91Y\\xde\\xa5x\\x9c_d\\xd69\\xeb\\xd5\\xe6b\\x1d\\xdaX1\\x84\\xbeN\\x8d\\x85\\'*\\xe6\\xcal\\xd7,\\xfa\\x13\\x90e\\xa3\\xa4\\xcd\\x81]S\\xa4Mf}\\x10\\x0f ]\\x9be\\xa3\\xe1=\\x13K_\\x18\\xea\\xd3U\\xb6X\\x15\\x9d*&/\\x0e\\xf5f\\t3\\xbc\\x8afyS\\xf2\\x13\\x90\\x0co\\xeb\\x8a\\xe2\\xd3&\\xb3\\x8e\\xc5st\\x12\\xb3l\\x8auh\\xb0&\\xbc6]\\xc9\\xe3*,\\x1eD+\\xcc\\xb2\\xe7\\xa80\\x8bd\\x1e\\xc2N\\xbe\\xaaf\\xd1LK<\\xde\\x81\\x84*\\xce|[`\\x96\\xf7\\x97H\\xac\\xc4,\\xabb\\x1d\\x1a\\xec\\xbfC\\xd2u\\xa8[\\x04\\xad\\x907\\xd1\\n\\xb3\\xb4\\xa6\\xe5\\x93jM\\xf1I\\x93\\x86\\x0caQZ\\xd5,M;<\\xcd}s\\x8b$\\xb7\\xca\\xac{\\x91X9\\xb36\\x11+\\xf3J\\xdfL\\xea\\xb1\\xed\\xeb\\xc2\\x85\\x1b\\x99\\xb6\\xacbO\\xaf|!\\xda5}\\xe6\\x00.\\x0f\\x11?\\xe4b\\x9c\\xca\\x9aEk\\xe8\\x82\\xc5\\xd9\\xe8b\\x92a\\xd9\\xd0v\\xc7\\xac4\\xd3*\\xcc\\xd1a\\xcc\\xd2t\\x15*\\xfb\\xa0\\x89X\\xfa\\xc6,\\x8f5+*$8\\xb7\\xd8u\\xfb\\xb9e\\xd4\\x99\\xef\\xf8e\\x89\\xd9\\x15\\xd8\\x05f\\x11\\xebD\\xc5au\\xb3\\xe8B\\xc8\\xdc\\xe2\\xcat\\xb5\\xef\\xc2f\\x14\\xed2\\xebX \\x16cV\\x89>hiIh\\x96e\\xe5\\xcc\\x8aWDg\\x1fH\\x9f\\xfd\\x92\\xcf\\xd1z\\xd2\\x13=\\xbf\\xb0[\\x0eg\\x96r\\x08hu\\xb3\\x98\\xde\\xc3\\xc2\\x82\\xf0\\xb4d.\\xee4\\xd0.\\xb3\\xbc\\x1b\\xc1\\xacBb\\xd6\\x86=:)\\xcf\\x8dv9\\xcc\\x9b\\x15\\xff\\xa2\\xc3d\\xb7\\x88\\xc0\\x9f\\xe7vM\\x11\\x15x\\xf9s\\xa7\\xf3d/\\x12\\xcf\\x17l\\x93\\xc8\\xeb3\\xa5\\xe7q\\x05\\xd7\\x06f\\xb1\\xb9,\\xb3\\xde\\xf7\\x8c\\x06\\xc7ma\\xd12\\xb3\\x82K~\\xbajf\\x96\\x1d\\xb1\\x0e\\xff0\\x8a\\x08g\\x96\\x18aM*\\x98\\xe8O\\x94\\x99\\xc54ft\\xd2\\x9dO\\xf88U0+W\\x80\\x8f\\xa7\\xbd\\x18vw*N\\xac\\xb6\\x99\\xe5\\x05?\\x17\\xc5\\xca\\xcc\\xb2$\\x96\\xbe\\xf9=\\x81\\xa4\\xabR1\\xc9\\xdb\\x9fb\\'A\\x9dY\\xb9\\xbd!b\\tBA\\x9c\\xaa\\x98\\xe5\\xcdT\\xbb\\xd0M\\xf8\\x97\\xc6\\xb6\\x99\\xe5\\x05\\x1f\\nb\\xa5f\\xd9hm\\x88\\xd0\\x8d\\x7f\\xcf\\xa0\\xe9\\xaa\\xd8\\xe4p.==\\x94\\x9e\\x13e\\x0fCR\\xc9\\x17\\xb5/\\x8d\\xf2\\x1b\\xa7\\x96Z\\xedXyH_\\x9e\\x95\\x86%/\\x95\\xb2[fE\\xd5\\xf8K\\xd6\\xab\\xd4,;b]\\xe8\\x06)\\x13\\xd8t\\x95\\xec\\x1e)\\xde\\xed7\\xc5\\x17o\\xac\\x1b\\xef\\xe6\\x16\\xd0G\"l\\xb9\\xcco\\x8ai\\xcf,v\\x93&\\x83\\x1bi\\xa1Y\\x9e\\xb7\\xbc\\xbd\\xb9|\\xf7\\x925\\xcb\\x82X\\x17\\x17\\xd7\\x86;\\x1b\\xc6\\xe4\\xd3u\\xc4W\\xbe\\xb5\\xdbs\\x0b6m\\x1e\\x0f\\xd3\\xed\\xec\\xb2\\x0f$\\xd7`7\\xf2\\xb5i\\x96\\x17\\x0c\\xf8|K\\xb6Cy+\\xcd\\xe28\\x97\\x8be\\x9c\\x0b\\x95\\x83K\\xd7Y\\xc8<\\x94IO\\xbb\\xcb\\xbc\\x17o:H3\\xbb\\xee\\xb47\\xe3\\xa7\\x8eI\\x1fZ0\\xeb\\xa5\\xdbh2f\\x8d\\xfc\\x14\\xf9\\xea\\x16\\xfaC\\xfa\\xf3)U\\xbe;\\x9cI\\x0f4\\x08-;B\\xb5B\\x81\\xe3\\x9c\\xcbs\\xacm\\x99\\x15\\xe3\\xfb\\xf3^o\\xe0\\x9bX\\xc5\\x9c\\xc3\\'\\xbc\\xaf5\\xabf\\xd6>\\xc8w\\x1e\\xf8v8\\x97\\x17\\x85\\xdb4\\xcb\\x16\\x8d\\x9b\\x052\\xce\\xe5u\\xac\\xab_\\x85\\\\Dl\\x12\\xe2v\\xcc*\\x95\\xfb\\x81\\x1a8\\xafTy\\xdf$\\xc4\\xed\\x98U\\xc3\\xb5A)\\xce+\\xf5Ao\\x12\"\\xcc\\xfa68\\xaf\\xd4\\x07\\xbdI\\x88\\xb5\\x9a\\x95\\xf5\\xb4\\xa8\\x97Z\\x00[\\xe0\\xbcR\\x8f\\xce&!\\xd6jV6\\x1a\\xc2\\xf9]r\\xdb\\xcf]\\xa5\\xae\\xc2MB\\xac\\xd5\\xac\\xac\\x91=\\xac\\xe1\\xda\\xa0\\x14w\\x95\\xfa\\xa07\\t\\xb1V\\xb3\\xb2\\x8b\\xcb\\xfb\\x1d\\xc1\\x96\\xb83{)\\xfc\\xf5\\x0f\\xcf{}Mzt6\\t\\xb1V\\xb3\\xd0\\x9c\\xe5\\x0cwFb\\xa5\\x83EO\\xb2\\xae\\xc2MB\\xac\\xd3,2\\xc0\\xd3\\xfe\\xa5AI\\xeeL\\xc4\\xfa\\x9a\\r\\x16\\xbd>t\\xdb\\xac\\xac\\x9a\\x85\\n|\\xf3\\xdc\\x99\\xb4\\x8f\\x92Y\\x84G\\xc6\\xf3U\\xe5\\xd4h\\x16\\x196\\x8ajV\\xf3H\\xf7\\x83f+\\xef\\xb4\\x07\\xf1b=lf\\x93\\x10k4k\\x9a]\\x1a=\\xc2\\xcdsb\\xd2\\xa3S4K\\xbb\\xef\\xaa\\x8a\\xfa\\xcc\"\\x03\\xd2U+\\xa5\\x81ma\\xd2UX,\\r\\xb5\\xab\\xaf\\xa9\\xa8\\xcd,:\\xd3\\x01Y\\x96\\x0b\\x14\\xf7\\x94\\x13\\xf5A\\x93z\\xd5\\xb5\\xf9\\x84U)u\\x99E\\'#\\xaa\\xf7\\x94\\x00[\\xe2L\\xd8>Z\\xe8\\x83N[\\x1d\\xceJLX\\x95R\\x8fYt\\xde(^\\x0c]\\xe1\\x7f&\\r\\xef\\x17IKi\\x899\\xf6r\\xea0\\x8b\\x9d\\xa911\\xdcO\\x0f\\xd4\\xcd\\xd1\\x95Y\\x8f\\x0ea\\xa3ZV\\rf\\xf9!;\\xe3\\x02b\\xb9C\\xa2\\xd6\\xd6\\xc4\\xb2j\\x96?`\\xa6Z\\xac_\\x0b!\\x96C\\x1c\\xbd1\\x9e\\xae\\xba\\xb9X\\xb6\\xcc\\xf2\\xc3.?9\\xec@\\xb4\\x84\\x11h\\x90\\xbb\\xc7\\x86b]\\x94\\x98X(\\xc1\\x92Y3N\\xabN\\'D\\x86\\xe5\\x1cGoM\\xc4\\xfa\\xbaq\\x86\\xe5Y3+(ju\\x10\\xa2\\x19\\xcbI^\\xdf=\\xd4M\\xb07[kF\\x07Y\\xffg\\xc3zV~N\\xf2d\\x80\\xfc\\xca]\\xfex+\\x17\\xeb\\xe2\\xfdfm\\r,\\xc1z\\xa1\\xac\\r\\xcd\\xa2K\\x87\\x1cL\\xe7\\xc8\\xae\\\\\\xe7\\xec\\xee\\xb7\\xafE\\xb1\\x9e_\\\\[\\x9f\\xd4\\xda\\xef\\x8d75+\\xa9h\\x8d\\xbb\\xe1\\x1cS\\x0bw\\x85\\xa3\\x93\\xf7\\xd7\\xd7\\x17\\t\\x7f_\\xbf?\\xb1\\x97W\\xe5\\x19m\\x98\\xcf\\x04\\xe5\\xe6\\xea\\x03\\x00\\x00\\x00\\x00\\x00\\xd0F\\xbeS\\xd2t\\xec\\xc0\\xce\\xa1\\x16\\n\\x86\\x81\\n\\x94\\x94\\n~\\x01=ri\\x82<\\xb0\\x0b\\x98c \\x94\\x00\\xd8\\x05\\x94T\\x91J\\xa1W\\xd3\\xb7\\x03\\x1cAc\\xd5?\\x85\\xa8\\xedj\\xfa\\x96\\x80\\x0b(\\xb4\\x12K%\\xd6\\x0bn\\x81\\x1c\\xf2\\xfc\\x8a\\n\\xd4/\"\\x96\\x0bj\\x01\\x06\\xadW\\x9cVE\\xbb\\xa0\\x16\\x10 \\xcb\\xb1t^\\xb1nA-\\xc0SF\\xacQ\\x04\\xcc\\x02fl\\x90g\\xe9\\x8a\\xc3\\xa6o\\r4\\x0b\\xeaY\\xa0&d\\xb9\\x16\\xdb\\xe4 \\x93\\n\\xef\\x86@\\xc1wR\\xb7t\\xedY\\xec\\xa1h\\xcf\\x02\\x1c\\xdf)\\xdc\\x92\\xf9U8\\xa4x\\x89\\xa6o\\t\\xb8B\\xd1\\x8c2\\xfd\\x86\\xdc\\xb9\\xf0\\n0\\xf0~\\x18\\xe8%:\\xa9\\xe9\\x1b\\x01\\x0e\"\\x12\\x85\\x97Lq\\x14\\xb4\\x02RT\\xde(i:\\xe2`\\'\\x80T\\xa0f\\xe0\\x13\\x00\\x00\\x00\\x00\\x00\\x00\\x00\\x00\\x00\\x00\\x00\\x00\\x00\\x00\\x00\\x00\\x00\\x00\\x00\\x00\\x00\\x00\\x00\\x00\\x00\\x00\\x00\\x00\\x00\\x00\\x00\\x00\\x00\\x00\\x00\\x00\\x00\\x00\\x00\\x00\\x00\\x00\\x00\\x00\\x00\\x00\\xc0\\r\\xfe\\x0f\\xf4\\r\\xce\\x9d\\xbe\\xcb\\ro\\x00\\x00\\x00\\x00IEND\\xaeB`\\x82'\n"
          ],
          "name": "stdout"
        },
        {
          "output_type": "display_data",
          "data": {
            "image/png": "[encoded data removed]",
            "text/plain": [
              "<PIL.PngImagePlugin.PngImageFile image mode=P size=601x203 at 0x7F91BDE06470>"
            ]
          },
          "metadata": {
            "tags": []
          }
        }
      ]
    },
    {
      "cell_type": "markdown",
      "metadata": {
        "id": "uPvz1COw02YV",
        "colab_type": "text"
      },
      "source": [
        "Copying a subrectangle from an image:"
      ]
    },
    {
      "cell_type": "code",
      "metadata": {
        "id": "ZW3VI_Sw0mJl",
        "colab_type": "code",
        "outputId": "4592996d-7d09-4779-a5d0-0fe9b8800902",
        "colab": {
          "base_uri": "https://localhost:8080/",
          "height": 217
        }
      },
      "source": [
        "box1 = (150, 150, 300, 300)\n",
        "box2 = (200, 100, 250, 200)\n",
        "box3 = (100, 0, 200, 200)\n",
        "box4 = (100, 400, 200, 200)\n",
        "box5 = (0, 0, 100, 100)\n",
        "box6 = (200, 0, 200, 200)\n",
        "box7 = (0, 0, 200, 200) #This is the value which gives the complete python image\n",
        "box8 = (100, 100, 200, 200)\n",
        "box9 = (100, 250, 400, 300)\n",
        "region = img.crop(box7)\n",
        "display(region)"
      ],
      "execution_count": 0,
      "outputs": [
        {
          "output_type": "display_data",
          "data": {
            "image/png": "[encoded data removed]",
            "text/plain": [
              "<PIL.Image.Image image mode=P size=200x200 at 0x7F91BDE06AC8>"
            ]
          },
          "metadata": {
            "tags": []
          }
        }
      ]
    },
    {
      "cell_type": "markdown",
      "metadata": {
        "id": "MA2lphrQcWvW",
        "colab_type": "text"
      },
      "source": [
        "# Quiz Question 13\n",
        "\n",
        "Which box value shall be used in img.crop such that the colorful Python Logo is completely visible?"
      ]
    },
    {
      "cell_type": "markdown",
      "metadata": {
        "id": "38xNwb1td0u3",
        "colab_type": "text"
      },
      "source": [
        "## Playing with images\n"
      ]
    },
    {
      "cell_type": "code",
      "metadata": {
        "id": "nzDtSnzu069u",
        "colab_type": "code",
        "outputId": "415032ed-9a6f-4557-a677-43433f6ae972",
        "colab": {
          "base_uri": "https://localhost:8080/",
          "height": 441
        }
      },
      "source": [
        "from PIL import Image\n",
        "\n",
        "#Let's first convert our png (4 channel, R, G, B , Alpha) image into jpg (3 channel, R, G, B) image.\n",
        "img_jpg = Image.new(\"RGB\", img.size, (255, 255, 255))\n",
        "img_jpg.paste(img)\n",
        "# display jpg image\n",
        "#print(img)\n",
        "display(img)\n",
        "\n",
        "#convert our image into numpy array\n",
        "npimg = np.asarray(img_jpg)\n",
        "print(npimg.shape)\n",
        "\n",
        "#convert numpy image back to PIL image and display it\n",
        "npimg = Image.fromarray(npimg )\n",
        "#Image.merge(\"RGB\", (npimg[0], npimg[1], npimg[2]))\n",
        "display(npimg)"
      ],
      "execution_count": 0,
      "outputs": [
        {
          "output_type": "display_data",
          "data": {
            "image/png": "[encoded data removed]",
            "text/plain": [
              "<PIL.PngImagePlugin.PngImageFile image mode=P size=601x203 at 0x7F91BDE06470>"
            ]
          },
          "metadata": {
            "tags": []
          }
        },
        {
          "output_type": "stream",
          "text": [
            "(203, 601, 3)\n"
          ],
          "name": "stdout"
        },
        {
          "output_type": "display_data",
          "data": {
            "image/png": "[encoded data removed]",
            "text/plain": [
              "<PIL.Image.Image image mode=RGB size=601x203 at 0x7F91BDE75EF0>"
            ]
          },
          "metadata": {
            "tags": []
          }
        }
      ]
    },
    {
      "cell_type": "code",
      "metadata": {
        "id": "vGGLY19mgk3F",
        "colab_type": "code",
        "outputId": "9b7951ec-2069-4cf4-f031-e028231e1cc5",
        "colab": {
          "base_uri": "https://localhost:8080/",
          "height": 220
        }
      },
      "source": [
        "npimg = np.array(img_jpg)\n",
        "# print(img_jpg.size)\n",
        "# print(npimg.shape)\n",
        "# Operation 1: \n",
        "# npimg[0:0, 100:100] = 255\n",
        "# Operation 2: \n",
        "# npimg[50:200, 50:200] = 255\n",
        "# Operation 3: \n",
        "#npimg[100:150, 0:100] = 255\n",
        "# Operation 4: \n",
        "#print(npimg)\n",
        "npimg[0:150, 50:200] = 255 #This will hide the image because 0-150 rows 50-200 columns are assigned to 255 which is white color\n",
        "#print(npimg)\n",
        "\n",
        "npimg = Image.fromarray(npimg)\n",
        "display(npimg)"
      ],
      "execution_count": 0,
      "outputs": [
        {
          "output_type": "display_data",
          "data": {
            "image/png": "[encoded data removed]",
            "text/plain": [
              "<PIL.Image.Image image mode=RGB size=601x203 at 0x7F91BDDD9E80>"
            ]
          },
          "metadata": {
            "tags": []
          }
        }
      ]
    },
    {
      "cell_type": "markdown",
      "metadata": {
        "id": "xs3pNYEcjvh4",
        "colab_type": "text"
      },
      "source": [
        "# Quiz Question 14\n",
        "Which Operation will hide the Colorful Python logo completely?\n",
        "\n",
        "# Quiz Question 15\n",
        "Numpy Axies are (y, x), where as PIL axies are (x, y). True or False?"
      ]
    },
    {
      "cell_type": "markdown",
      "metadata": {
        "id": "N5Bl4tULmA-f",
        "colab_type": "text"
      },
      "source": [
        "## Gradients\n",
        "Notice how cleanly we calculated (x or y? you can find out if your 15th answer was correct) gradient!"
      ]
    },
    {
      "cell_type": "code",
      "metadata": {
        "id": "dnfMUmOYdBQP",
        "colab_type": "code",
        "outputId": "b1ddb433-93df-474a-b8db-1d7266e4956f",
        "colab": {
          "base_uri": "https://localhost:8080/",
          "height": 219
        }
      },
      "source": [
        "npimg = np.array(img_jpg)\n",
        "# Gradient Operation\n",
        "newimg = npimg[:-1, :] - npimg[1:, :]\n",
        "npimg = Image.fromarray(newimg)\n",
        "display(npimg)"
      ],
      "execution_count": 0,
      "outputs": [
        {
          "output_type": "display_data",
          "data": {
            "image/png": "[encoded data removed]",
            "text/plain": [
              "<PIL.Image.Image image mode=RGB size=601x202 at 0x7F91BDCF5F28>"
            ]
          },
          "metadata": {
            "tags": []
          }
        }
      ]
    },
    {
      "cell_type": "markdown",
      "metadata": {
        "id": "e6aALYGYld2d",
        "colab_type": "text"
      },
      "source": [
        "# Quiz Question 16\n",
        "\n",
        "From the options available below, which operation will give us \"other\" gradient? (Other means if we got x-gradient above then y-gradients and vice-verse)\n",
        "\n",
        "1. newimg = npimg[:-1, :] - npimg[1:, :]\n",
        "2. newimg = npimg[:, 1:] - npimg[1:, :]\n",
        "3. newimg = npimg[:-1, :] - npimg[:, 1:]\n",
        "4. newimg = npimg[:, :-1] - npimg[:, 1:]\n",
        "\n"
      ]
    },
    {
      "cell_type": "markdown",
      "metadata": {
        "id": "Wvq1z8Rqnqds",
        "colab_type": "text"
      },
      "source": [
        "What you have done above is one of the very important operation as you will see in future. This is used in Loss function as well.\n",
        "\n",
        "## Convolution\n",
        "\n",
        "We are going to use filter2D function which is built into OpenCV to perform Convolution.\n"
      ]
    },
    {
      "cell_type": "code",
      "metadata": {
        "id": "xDXsqPRXk5-y",
        "colab_type": "code",
        "colab": {}
      },
      "source": [
        "# import the necessary packages\n",
        "import numpy as np\n",
        "from urllib.request import urlopen\n",
        "import cv2\n",
        "from matplotlib import pyplot as plt\n",
        "\n",
        "# METHOD #1: OpenCV, NumPy, and urllib\n",
        "def url_to_image(url):\n",
        "\t# download the image, convert it to a NumPy array, and then read\n",
        "\t# it into OpenCV format\n",
        "\tresp = urlopen(url)\n",
        "\timage = np.asarray(bytearray(resp.read()), dtype=\"uint8\")\n",
        "\timage = cv2.imdecode(image, cv2.IMREAD_COLOR)\n",
        " \n",
        "\t# return the image\n",
        "\treturn image"
      ],
      "execution_count": 0,
      "outputs": []
    },
    {
      "cell_type": "code",
      "metadata": {
        "id": "Vdg5KfQXohjP",
        "colab_type": "code",
        "outputId": "0da7644a-7457-4422-e63c-ea9efb39e63f",
        "colab": {
          "base_uri": "https://localhost:8080/",
          "height": 220
        }
      },
      "source": [
        "image = url_to_image(\"https://encrypted-tbn0.gstatic.com/images?q=tbn%3AANd9GcRZpTmijaNOH6MmycM_eiPKcEl5mVvbwl7a8YKVGpEEMIanDcSt\")\n",
        "from google.colab.patches import cv2_imshow\n",
        "cv2_imshow(image)"
      ],
      "execution_count": 0,
      "outputs": [
        {
          "output_type": "display_data",
          "data": {
            "image/png": "[encoded data removed]",
            "text/plain": [
              "<PIL.Image.Image image mode=RGB size=601x203 at 0x7F91BDDD9A58>"
            ]
          },
          "metadata": {
            "tags": []
          }
        }
      ]
    },
    {
      "cell_type": "markdown",
      "metadata": {
        "id": "vJMKdEkUrlyF",
        "colab_type": "text"
      },
      "source": [
        "# Canny Edge Detection"
      ]
    },
    {
      "cell_type": "code",
      "metadata": {
        "id": "-XSF96c0o1MS",
        "colab_type": "code",
        "outputId": "15574ac0-5d77-433b-f254-588849d72534",
        "colab": {
          "base_uri": "https://localhost:8080/",
          "height": 220
        }
      },
      "source": [
        "edges = cv2.Canny(image,100,200)\n",
        "cv2_imshow(edges)"
      ],
      "execution_count": 0,
      "outputs": [
        {
          "output_type": "display_data",
          "data": {
            "image/png": "[encoded data removed]",
            "text/plain": [
              "<PIL.Image.Image image mode=L size=601x203 at 0x7F91BDDA15F8>"
            ]
          },
          "metadata": {
            "tags": []
          }
        }
      ]
    },
    {
      "cell_type": "markdown",
      "metadata": {
        "id": "3m0m7w1Dru_d",
        "colab_type": "text"
      },
      "source": [
        "## Convolution\n",
        "\n",
        "As mentioned above we'll use OpenCV's inbuilt function `filter2D` to perform our convolution operation. We are defining a vertical Edge detector below to perform our convolution. "
      ]
    },
    {
      "cell_type": "code",
      "metadata": {
        "id": "XZejR_S7rqYf",
        "colab_type": "code",
        "outputId": "c64c059b-b5e1-4ff7-ce07-c3eb748e8f9b",
        "colab": {
          "base_uri": "https://localhost:8080/",
          "height": 220
        }
      },
      "source": [
        "kernel = np.float32([[-1,0,1],[-1,0,1],[-1,0,1]])\n",
        "\n",
        "dst = cv2.filter2D(image,-1,kernel)\n",
        "#print(dst)\n",
        "cv2_imshow(dst)"
      ],
      "execution_count": 0,
      "outputs": [
        {
          "output_type": "display_data",
          "data": {
            "image/png": "[encoded data removed]",
            "text/plain": [
              "<PIL.Image.Image image mode=RGB size=601x203 at 0x7F91BDD310F0>"
            ]
          },
          "metadata": {
            "tags": []
          }
        }
      ]
    },
    {
      "cell_type": "markdown",
      "metadata": {
        "id": "3nJIICgqr9kp",
        "colab_type": "text"
      },
      "source": [
        "# Quiz Question 17\n",
        "Which kernel among these options will give us horizontal edge? \n",
        "\n",
        "1. kernel = np.float32([[-1, -1, -1],[0,0,0],[1,1,1]])\n",
        "2. kernel = np.float32([[-1, -2, -1],[0,0,0],[1,2,1]])\n",
        "3. kernel = np.float32([[-4, -1, -4],[0,0,0],[4,1,4]])\n",
        "4. kernel = np.float32([[-4, -4, -4],[0,0,0],[4,4,4]])"
      ]
    },
    {
      "cell_type": "code",
      "metadata": {
        "id": "SFQxVsLMrtog",
        "colab_type": "code",
        "outputId": "8963f0f0-88a0-4376-94d9-c491226a4ca1",
        "colab": {
          "base_uri": "https://localhost:8080/",
          "height": 220
        }
      },
      "source": [
        "kernel = np.float32([[0,0,0],[0,1,0],[0,0,0]]) # use the correct kernel from above\n",
        "dst = cv2.filter2D(image,-1,kernel)\n",
        "cv2_imshow(dst)"
      ],
      "execution_count": 0,
      "outputs": [
        {
          "output_type": "display_data",
          "data": {
            "image/png": "[encoded data removed]",
            "text/plain": [
              "<PIL.Image.Image image mode=RGB size=601x203 at 0x7F91BDDA1CC0>"
            ]
          },
          "metadata": {
            "tags": []
          }
        }
      ]
    },
    {
      "cell_type": "markdown",
      "metadata": {
        "id": "hBj3L7a5wi-1",
        "colab_type": "text"
      },
      "source": [
        "# Quiz Question 18\n",
        "\n",
        "What would this kernel do?\n",
        "\n",
        "*   kernel = 1/9*np.float32([[1,1,1],[1,1,1],[1,1,1]])\n",
        "\n",
        "\n",
        "\n"
      ]
    },
    {
      "cell_type": "markdown",
      "metadata": {
        "id": "ac9S7sDaxBXD",
        "colab_type": "text"
      },
      "source": [
        "# Quiz Question 19\n",
        "\n",
        "What would this kernel do?\n",
        "\n",
        "*   kernal = np.float32([[0,0,0],[0,1,0],[0,0,0]])"
      ]
    },
    {
      "cell_type": "markdown",
      "metadata": {
        "id": "cGS5GSwst_Bx",
        "colab_type": "text"
      },
      "source": [
        "# RGB to Grayscale Conversion\n",
        "There are many ways to convert RGB to Grayscale, below is just one of them (averaging the colors) which we are trying but is wrong. "
      ]
    },
    {
      "cell_type": "code",
      "metadata": {
        "id": "ccHf9t0rsdEg",
        "colab_type": "code",
        "outputId": "f4158801-eaee-4759-bf9c-3313482535d6",
        "colab": {
          "base_uri": "https://localhost:8080/",
          "height": 477
        }
      },
      "source": [
        "npimg = np.array(img_jpg)\n",
        "# this operation is wrong, how can we fix it?\n",
        "print(npimg.shape)\n",
        "npimg = np.sum(npimg, axis=-1)/3\n",
        "print(npimg.shape)\n",
        "npimg = Image.fromarray(npimg.astype('uint8'))\n",
        "display(npimg)\n",
        "npimg = np.array(img_jpg)\n",
        "npimg = np.sum(npimg/3, axis=-1)\n",
        "print(npimg.shape)\n",
        "npimg = Image.fromarray(npimg.astype('uint8'))\n",
        "display(npimg)"
      ],
      "execution_count": 0,
      "outputs": [
        {
          "output_type": "stream",
          "text": [
            "(203, 601, 3)\n",
            "(203, 601)\n"
          ],
          "name": "stdout"
        },
        {
          "output_type": "display_data",
          "data": {
            "image/png": "[encoded data removed]",
            "text/plain": [
              "<PIL.Image.Image image mode=L size=601x203 at 0x7F91BDE06128>"
            ]
          },
          "metadata": {
            "tags": []
          }
        },
        {
          "output_type": "stream",
          "text": [
            "(203, 601)\n"
          ],
          "name": "stdout"
        },
        {
          "output_type": "display_data",
          "data": {
            "image/png": "[encoded data removed]",
            "text/plain": [
              "<PIL.Image.Image image mode=L size=601x203 at 0x7F91BDE06A90>"
            ]
          },
          "metadata": {
            "tags": []
          }
        }
      ]
    },
    {
      "cell_type": "markdown",
      "metadata": {
        "id": "JMiiFjLzve1_",
        "colab_type": "text"
      },
      "source": [
        "# Quiz Question 20\n",
        "Which is the below is correct way of average the channels to get grayscale image?\n",
        "1. npimg = np.sum(npimg/3, axis=-1)\n",
        "2. npimg = np.sum(npimg, axis=-1)/3"
      ]
    },
    {
      "cell_type": "code",
      "metadata": {
        "id": "Z9Q8jENAxmmG",
        "colab_type": "code",
        "colab": {}
      },
      "source": [
        ""
      ],
      "execution_count": 0,
      "outputs": []
    }
  ]
}