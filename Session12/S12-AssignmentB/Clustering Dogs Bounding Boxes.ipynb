{
 "cells": [
  {
   "cell_type": "markdown",
   "metadata": {},
   "source": [
    "# Finding the best no of Bounding Box Templates"
   ]
  },
  {
   "cell_type": "markdown",
   "metadata": {},
   "source": [
    "### **Process** \n",
    "1. Download 50 images from the internet\n",
    "2. Annotate via vgg Annotator\n",
    "3. Download the COCO format json\n",
    "4. Preprocess -Like normalising data, droping unnessary tables etc.\n",
    "5. Find Optimal no of k using elbow method , apply mean IOU for all centroids.\n",
    "6. Plot the graph- find the number of clusters,and its centroids\n"
   ]
  },
  {
   "cell_type": "markdown",
   "metadata": {},
   "source": [
    "\n",
    "### Organisation of json file :\n",
    "#### **keys** : \n",
    "       1. info - some info about the file like name, url, date created,description,version,contributer etc...\n",
    "       2. images - this contains information of images\n",
    "            * id - unique value\n",
    "            * width\t- width of the image\n",
    "            * height - height of the image\n",
    "            * file_name\t- name of the file\n",
    "            * license\t- licence if any\n",
    "            * date_captured - date when captured\n",
    "       3   annotation - information about annotation that is done manually in vgg annotator\n",
    "            * id  - unique value\n",
    "            * image_id - which is the id of images. By this we can join images and annottaion fields\n",
    "            * segmentation- Co-Ordinates of the bbox. For rectangle there will be 8 coordinates(4 x,y groups) - top-left,top-                 right, bottom-left, bottom-right.\n",
    "            * area- area of bounding box\n",
    "            * bbox - 4 points. top-left x point,top-left y point, width of bbox, height of bbox \n",
    "            * iscrowd - It defines whether there is a single image(iscrowd = 0) or group of objects(iscrowd = 1) \n",
    "       4   licence\n",
    "       5   Categories - This will have the information of the field we annotated.like class, type -- whatever fields we chose\n",
    "           Each category will have id , name, supercategory\n",
    "           For example if we take a category about illumination. It will its own id , name , supercategory\n",
    "       \n",
    "**In this we only use images, annotation fields**\n",
    "##   Load JSON and Form DataFrame \n",
    "         \n"
   ]
  },
  {
   "cell_type": "code",
   "execution_count": 1,
   "metadata": {},
   "outputs": [
    {
     "name": "stdout",
     "output_type": "stream",
     "text": [
      "dict_keys(['info', 'images', 'annotations', 'licenses', 'categories'])\n",
      "\n",
      "\n",
      "\n"
     ]
    }
   ],
   "source": [
    "# Python program to read \n",
    "# json file \n",
    "  \n",
    "  \n",
    "import json \n",
    "import pandas as pd\n",
    "  \n",
    "# Opening JSON file \n",
    "f = open('dogscoco.json') \n",
    "  \n",
    "# returns JSON object as  \n",
    "\n",
    "data = json.load(f) \n",
    "  \n",
    "\n",
    "# list \n",
    "print(data.keys())\n",
    "print('\\n\\n')\n",
    "images = pd.DataFrame(data['images'], columns = data['images'][0].keys())\n",
    "annotations = pd.DataFrame(data['annotations'], columns = data['annotations'][0].keys())\n",
    "\n",
    "\n",
    "  \n",
    "# Closing file \n",
    "f.close() "
   ]
  },
  {
   "cell_type": "code",
   "execution_count": 2,
   "metadata": {},
   "outputs": [
    {
     "data": {
      "text/html": [
       "<div>\n",
       "<style scoped>\n",
       "    .dataframe tbody tr th:only-of-type {\n",
       "        vertical-align: middle;\n",
       "    }\n",
       "\n",
       "    .dataframe tbody tr th {\n",
       "        vertical-align: top;\n",
       "    }\n",
       "\n",
       "    .dataframe thead th {\n",
       "        text-align: right;\n",
       "    }\n",
       "</style>\n",
       "<table border=\"1\" class=\"dataframe\">\n",
       "  <thead>\n",
       "    <tr style=\"text-align: right;\">\n",
       "      <th></th>\n",
       "      <th>id</th>\n",
       "      <th>width</th>\n",
       "      <th>height</th>\n",
       "      <th>file_name</th>\n",
       "      <th>license</th>\n",
       "      <th>date_captured</th>\n",
       "    </tr>\n",
       "  </thead>\n",
       "  <tbody>\n",
       "    <tr>\n",
       "      <th>0</th>\n",
       "      <td>0</td>\n",
       "      <td>275</td>\n",
       "      <td>183</td>\n",
       "      <td>dog1.jpeg</td>\n",
       "      <td>1</td>\n",
       "      <td></td>\n",
       "    </tr>\n",
       "    <tr>\n",
       "      <th>1</th>\n",
       "      <td>1</td>\n",
       "      <td>349</td>\n",
       "      <td>144</td>\n",
       "      <td>dog2.jpeg</td>\n",
       "      <td>1</td>\n",
       "      <td></td>\n",
       "    </tr>\n",
       "    <tr>\n",
       "      <th>2</th>\n",
       "      <td>2</td>\n",
       "      <td>297</td>\n",
       "      <td>170</td>\n",
       "      <td>dog3.jpeg</td>\n",
       "      <td>1</td>\n",
       "      <td></td>\n",
       "    </tr>\n",
       "    <tr>\n",
       "      <th>3</th>\n",
       "      <td>3</td>\n",
       "      <td>260</td>\n",
       "      <td>194</td>\n",
       "      <td>dog4.jpeg</td>\n",
       "      <td>1</td>\n",
       "      <td></td>\n",
       "    </tr>\n",
       "    <tr>\n",
       "      <th>4</th>\n",
       "      <td>4</td>\n",
       "      <td>300</td>\n",
       "      <td>168</td>\n",
       "      <td>dog5.jpeg</td>\n",
       "      <td>1</td>\n",
       "      <td></td>\n",
       "    </tr>\n",
       "  </tbody>\n",
       "</table>\n",
       "</div>"
      ],
      "text/plain": [
       "   id  width  height  file_name  license date_captured\n",
       "0   0    275     183  dog1.jpeg        1              \n",
       "1   1    349     144  dog2.jpeg        1              \n",
       "2   2    297     170  dog3.jpeg        1              \n",
       "3   3    260     194  dog4.jpeg        1              \n",
       "4   4    300     168  dog5.jpeg        1              "
      ]
     },
     "execution_count": 2,
     "metadata": {},
     "output_type": "execute_result"
    }
   ],
   "source": [
    "images.head()"
   ]
  },
  {
   "cell_type": "code",
   "execution_count": 3,
   "metadata": {},
   "outputs": [
    {
     "data": {
      "text/html": [
       "<div>\n",
       "<style scoped>\n",
       "    .dataframe tbody tr th:only-of-type {\n",
       "        vertical-align: middle;\n",
       "    }\n",
       "\n",
       "    .dataframe tbody tr th {\n",
       "        vertical-align: top;\n",
       "    }\n",
       "\n",
       "    .dataframe thead th {\n",
       "        text-align: right;\n",
       "    }\n",
       "</style>\n",
       "<table border=\"1\" class=\"dataframe\">\n",
       "  <thead>\n",
       "    <tr style=\"text-align: right;\">\n",
       "      <th></th>\n",
       "      <th>id</th>\n",
       "      <th>image_id</th>\n",
       "      <th>segmentation</th>\n",
       "      <th>area</th>\n",
       "      <th>bbox</th>\n",
       "      <th>iscrowd</th>\n",
       "    </tr>\n",
       "  </thead>\n",
       "  <tbody>\n",
       "    <tr>\n",
       "      <th>0</th>\n",
       "      <td>0</td>\n",
       "      <td>0</td>\n",
       "      <td>[108, 3, 261, 3, 261, 180, 108, 180]</td>\n",
       "      <td>27081</td>\n",
       "      <td>[108, 3, 153, 177]</td>\n",
       "      <td>0</td>\n",
       "    </tr>\n",
       "    <tr>\n",
       "      <th>1</th>\n",
       "      <td>1</td>\n",
       "      <td>1</td>\n",
       "      <td>[4, 3, 223, 3, 223, 140, 4, 140]</td>\n",
       "      <td>30003</td>\n",
       "      <td>[4, 3, 219, 137]</td>\n",
       "      <td>0</td>\n",
       "    </tr>\n",
       "    <tr>\n",
       "      <th>2</th>\n",
       "      <td>2</td>\n",
       "      <td>2</td>\n",
       "      <td>[40, 2, 259, 2, 259, 169, 40, 169]</td>\n",
       "      <td>36573</td>\n",
       "      <td>[40, 2, 219, 167]</td>\n",
       "      <td>0</td>\n",
       "    </tr>\n",
       "    <tr>\n",
       "      <th>3</th>\n",
       "      <td>3</td>\n",
       "      <td>3</td>\n",
       "      <td>[21, 5, 249, 5, 249, 192, 21, 192]</td>\n",
       "      <td>42636</td>\n",
       "      <td>[21, 5, 228, 187]</td>\n",
       "      <td>0</td>\n",
       "    </tr>\n",
       "    <tr>\n",
       "      <th>4</th>\n",
       "      <td>4</td>\n",
       "      <td>4</td>\n",
       "      <td>[83, 17, 220, 17, 220, 164, 83, 164]</td>\n",
       "      <td>20139</td>\n",
       "      <td>[83, 17, 137, 147]</td>\n",
       "      <td>0</td>\n",
       "    </tr>\n",
       "  </tbody>\n",
       "</table>\n",
       "</div>"
      ],
      "text/plain": [
       "   id image_id                          segmentation   area  \\\n",
       "0   0        0  [108, 3, 261, 3, 261, 180, 108, 180]  27081   \n",
       "1   1        1      [4, 3, 223, 3, 223, 140, 4, 140]  30003   \n",
       "2   2        2    [40, 2, 259, 2, 259, 169, 40, 169]  36573   \n",
       "3   3        3    [21, 5, 249, 5, 249, 192, 21, 192]  42636   \n",
       "4   4        4  [83, 17, 220, 17, 220, 164, 83, 164]  20139   \n",
       "\n",
       "                 bbox  iscrowd  \n",
       "0  [108, 3, 153, 177]        0  \n",
       "1    [4, 3, 219, 137]        0  \n",
       "2   [40, 2, 219, 167]        0  \n",
       "3   [21, 5, 228, 187]        0  \n",
       "4  [83, 17, 137, 147]        0  "
      ]
     },
     "execution_count": 3,
     "metadata": {},
     "output_type": "execute_result"
    }
   ],
   "source": [
    "annotations.head()"
   ]
  },
  {
   "cell_type": "markdown",
   "metadata": {},
   "source": [
    "## Preprocessing - Remove all unnecessary columns, spilt the bbox column"
   ]
  },
  {
   "cell_type": "code",
   "execution_count": 4,
   "metadata": {},
   "outputs": [
    {
     "data": {
      "text/html": [
       "<div>\n",
       "<style scoped>\n",
       "    .dataframe tbody tr th:only-of-type {\n",
       "        vertical-align: middle;\n",
       "    }\n",
       "\n",
       "    .dataframe tbody tr th {\n",
       "        vertical-align: top;\n",
       "    }\n",
       "\n",
       "    .dataframe thead th {\n",
       "        text-align: right;\n",
       "    }\n",
       "</style>\n",
       "<table border=\"1\" class=\"dataframe\">\n",
       "  <thead>\n",
       "    <tr style=\"text-align: right;\">\n",
       "      <th></th>\n",
       "      <th>bbwidth</th>\n",
       "      <th>bbheight</th>\n",
       "    </tr>\n",
       "  </thead>\n",
       "  <tbody>\n",
       "    <tr>\n",
       "      <th>0</th>\n",
       "      <td>153</td>\n",
       "      <td>177</td>\n",
       "    </tr>\n",
       "    <tr>\n",
       "      <th>1</th>\n",
       "      <td>219</td>\n",
       "      <td>137</td>\n",
       "    </tr>\n",
       "    <tr>\n",
       "      <th>2</th>\n",
       "      <td>219</td>\n",
       "      <td>167</td>\n",
       "    </tr>\n",
       "    <tr>\n",
       "      <th>3</th>\n",
       "      <td>228</td>\n",
       "      <td>187</td>\n",
       "    </tr>\n",
       "    <tr>\n",
       "      <th>4</th>\n",
       "      <td>137</td>\n",
       "      <td>147</td>\n",
       "    </tr>\n",
       "  </tbody>\n",
       "</table>\n",
       "</div>"
      ],
      "text/plain": [
       "   bbwidth  bbheight\n",
       "0      153       177\n",
       "1      219       137\n",
       "2      219       167\n",
       "3      228       187\n",
       "4      137       147"
      ]
     },
     "execution_count": 4,
     "metadata": {},
     "output_type": "execute_result"
    }
   ],
   "source": [
    "bbwidth = []\n",
    "bbheight = []\n",
    "bbx = []\n",
    "bby = []\n",
    "bbox = list(annotations['bbox'])\n",
    "for i in bbox:\n",
    "    bbx.append(i[0])\n",
    "    bby.append(i[1])\n",
    "    bbwidth.append(i[2])\n",
    "    bbheight.append(i[3])\n",
    "annotations['bbx'] = bbx\n",
    "annotations['bby'] = bby\n",
    "annotations['bbwidth'] = bbwidth\n",
    "annotations['bbheight'] = bbheight\n",
    "annotations = annotations.rename(columns={\"image_id\": \"id\"})\n",
    "annotations = annotations.drop([\"bbox\",\"bbx\",\"bby\",\"id\",\"segmentation\",\"area\",\"iscrowd\"],axis =1)\n",
    "annotations.head()\n"
   ]
  },
  {
   "cell_type": "code",
   "execution_count": 5,
   "metadata": {},
   "outputs": [
    {
     "data": {
      "text/html": [
       "<div>\n",
       "<style scoped>\n",
       "    .dataframe tbody tr th:only-of-type {\n",
       "        vertical-align: middle;\n",
       "    }\n",
       "\n",
       "    .dataframe tbody tr th {\n",
       "        vertical-align: top;\n",
       "    }\n",
       "\n",
       "    .dataframe thead th {\n",
       "        text-align: right;\n",
       "    }\n",
       "</style>\n",
       "<table border=\"1\" class=\"dataframe\">\n",
       "  <thead>\n",
       "    <tr style=\"text-align: right;\">\n",
       "      <th></th>\n",
       "      <th>id</th>\n",
       "      <th>width</th>\n",
       "      <th>height</th>\n",
       "      <th>file_name</th>\n",
       "    </tr>\n",
       "  </thead>\n",
       "  <tbody>\n",
       "    <tr>\n",
       "      <th>0</th>\n",
       "      <td>0</td>\n",
       "      <td>275</td>\n",
       "      <td>183</td>\n",
       "      <td>dog1.jpeg</td>\n",
       "    </tr>\n",
       "    <tr>\n",
       "      <th>1</th>\n",
       "      <td>1</td>\n",
       "      <td>349</td>\n",
       "      <td>144</td>\n",
       "      <td>dog2.jpeg</td>\n",
       "    </tr>\n",
       "    <tr>\n",
       "      <th>2</th>\n",
       "      <td>2</td>\n",
       "      <td>297</td>\n",
       "      <td>170</td>\n",
       "      <td>dog3.jpeg</td>\n",
       "    </tr>\n",
       "    <tr>\n",
       "      <th>3</th>\n",
       "      <td>3</td>\n",
       "      <td>260</td>\n",
       "      <td>194</td>\n",
       "      <td>dog4.jpeg</td>\n",
       "    </tr>\n",
       "    <tr>\n",
       "      <th>4</th>\n",
       "      <td>4</td>\n",
       "      <td>300</td>\n",
       "      <td>168</td>\n",
       "      <td>dog5.jpeg</td>\n",
       "    </tr>\n",
       "  </tbody>\n",
       "</table>\n",
       "</div>"
      ],
      "text/plain": [
       "   id  width  height  file_name\n",
       "0   0    275     183  dog1.jpeg\n",
       "1   1    349     144  dog2.jpeg\n",
       "2   2    297     170  dog3.jpeg\n",
       "3   3    260     194  dog4.jpeg\n",
       "4   4    300     168  dog5.jpeg"
      ]
     },
     "execution_count": 5,
     "metadata": {},
     "output_type": "execute_result"
    }
   ],
   "source": [
    "images = images.drop([\"license\",\"date_captured\"],axis = 1)\n",
    "images.head()"
   ]
  },
  {
   "cell_type": "markdown",
   "metadata": {},
   "source": [
    "## Concatinate Both the files"
   ]
  },
  {
   "cell_type": "code",
   "execution_count": 6,
   "metadata": {},
   "outputs": [
    {
     "data": {
      "text/html": [
       "<div>\n",
       "<style scoped>\n",
       "    .dataframe tbody tr th:only-of-type {\n",
       "        vertical-align: middle;\n",
       "    }\n",
       "\n",
       "    .dataframe tbody tr th {\n",
       "        vertical-align: top;\n",
       "    }\n",
       "\n",
       "    .dataframe thead th {\n",
       "        text-align: right;\n",
       "    }\n",
       "</style>\n",
       "<table border=\"1\" class=\"dataframe\">\n",
       "  <thead>\n",
       "    <tr style=\"text-align: right;\">\n",
       "      <th></th>\n",
       "      <th>width</th>\n",
       "      <th>height</th>\n",
       "      <th>file_name</th>\n",
       "      <th>bbwidth</th>\n",
       "      <th>bbheight</th>\n",
       "    </tr>\n",
       "  </thead>\n",
       "  <tbody>\n",
       "    <tr>\n",
       "      <th>0</th>\n",
       "      <td>275</td>\n",
       "      <td>183</td>\n",
       "      <td>dog1.jpeg</td>\n",
       "      <td>153</td>\n",
       "      <td>177</td>\n",
       "    </tr>\n",
       "    <tr>\n",
       "      <th>1</th>\n",
       "      <td>349</td>\n",
       "      <td>144</td>\n",
       "      <td>dog2.jpeg</td>\n",
       "      <td>219</td>\n",
       "      <td>137</td>\n",
       "    </tr>\n",
       "    <tr>\n",
       "      <th>2</th>\n",
       "      <td>297</td>\n",
       "      <td>170</td>\n",
       "      <td>dog3.jpeg</td>\n",
       "      <td>219</td>\n",
       "      <td>167</td>\n",
       "    </tr>\n",
       "    <tr>\n",
       "      <th>3</th>\n",
       "      <td>260</td>\n",
       "      <td>194</td>\n",
       "      <td>dog4.jpeg</td>\n",
       "      <td>228</td>\n",
       "      <td>187</td>\n",
       "    </tr>\n",
       "    <tr>\n",
       "      <th>4</th>\n",
       "      <td>300</td>\n",
       "      <td>168</td>\n",
       "      <td>dog5.jpeg</td>\n",
       "      <td>137</td>\n",
       "      <td>147</td>\n",
       "    </tr>\n",
       "  </tbody>\n",
       "</table>\n",
       "</div>"
      ],
      "text/plain": [
       "   width  height  file_name  bbwidth  bbheight\n",
       "0    275     183  dog1.jpeg      153       177\n",
       "1    349     144  dog2.jpeg      219       137\n",
       "2    297     170  dog3.jpeg      219       167\n",
       "3    260     194  dog4.jpeg      228       187\n",
       "4    300     168  dog5.jpeg      137       147"
      ]
     },
     "execution_count": 6,
     "metadata": {},
     "output_type": "execute_result"
    }
   ],
   "source": [
    "finalfile = pd.concat([images,annotations],axis = 1)\n",
    "finalfile = finalfile.drop([\"id\"],axis =1)\n",
    "finalfile.head()"
   ]
  },
  {
   "cell_type": "markdown",
   "metadata": {},
   "source": [
    "## Normalise the image"
   ]
  },
  {
   "cell_type": "code",
   "execution_count": 7,
   "metadata": {},
   "outputs": [
    {
     "data": {
      "text/html": [
       "<div>\n",
       "<style scoped>\n",
       "    .dataframe tbody tr th:only-of-type {\n",
       "        vertical-align: middle;\n",
       "    }\n",
       "\n",
       "    .dataframe tbody tr th {\n",
       "        vertical-align: top;\n",
       "    }\n",
       "\n",
       "    .dataframe thead th {\n",
       "        text-align: right;\n",
       "    }\n",
       "</style>\n",
       "<table border=\"1\" class=\"dataframe\">\n",
       "  <thead>\n",
       "    <tr style=\"text-align: right;\">\n",
       "      <th></th>\n",
       "      <th>width</th>\n",
       "      <th>height</th>\n",
       "      <th>file_name</th>\n",
       "      <th>bbwidth</th>\n",
       "      <th>bbheight</th>\n",
       "    </tr>\n",
       "  </thead>\n",
       "  <tbody>\n",
       "    <tr>\n",
       "      <th>0</th>\n",
       "      <td>1.0</td>\n",
       "      <td>1.0</td>\n",
       "      <td>dog1.jpeg</td>\n",
       "      <td>0.556364</td>\n",
       "      <td>0.967213</td>\n",
       "    </tr>\n",
       "    <tr>\n",
       "      <th>1</th>\n",
       "      <td>1.0</td>\n",
       "      <td>1.0</td>\n",
       "      <td>dog2.jpeg</td>\n",
       "      <td>0.627507</td>\n",
       "      <td>0.951389</td>\n",
       "    </tr>\n",
       "    <tr>\n",
       "      <th>2</th>\n",
       "      <td>1.0</td>\n",
       "      <td>1.0</td>\n",
       "      <td>dog3.jpeg</td>\n",
       "      <td>0.737374</td>\n",
       "      <td>0.982353</td>\n",
       "    </tr>\n",
       "    <tr>\n",
       "      <th>3</th>\n",
       "      <td>1.0</td>\n",
       "      <td>1.0</td>\n",
       "      <td>dog4.jpeg</td>\n",
       "      <td>0.876923</td>\n",
       "      <td>0.963918</td>\n",
       "    </tr>\n",
       "    <tr>\n",
       "      <th>4</th>\n",
       "      <td>1.0</td>\n",
       "      <td>1.0</td>\n",
       "      <td>dog5.jpeg</td>\n",
       "      <td>0.456667</td>\n",
       "      <td>0.875000</td>\n",
       "    </tr>\n",
       "  </tbody>\n",
       "</table>\n",
       "</div>"
      ],
      "text/plain": [
       "   width  height  file_name   bbwidth  bbheight\n",
       "0    1.0     1.0  dog1.jpeg  0.556364  0.967213\n",
       "1    1.0     1.0  dog2.jpeg  0.627507  0.951389\n",
       "2    1.0     1.0  dog3.jpeg  0.737374  0.982353\n",
       "3    1.0     1.0  dog4.jpeg  0.876923  0.963918\n",
       "4    1.0     1.0  dog5.jpeg  0.456667  0.875000"
      ]
     },
     "execution_count": 7,
     "metadata": {},
     "output_type": "execute_result"
    }
   ],
   "source": [
    "finalfile['bbwidth'] = finalfile['bbwidth'].div(finalfile['width'])\n",
    "finalfile['bbheight'] = finalfile['bbheight'].div(finalfile['height'])\n",
    "finalfile['height'] = finalfile['height'].div(finalfile['height'])\n",
    "finalfile['width'] = finalfile['width'].div(finalfile['width'])\n",
    "\n",
    "finalfile.head()"
   ]
  },
  {
   "cell_type": "markdown",
   "metadata": {},
   "source": [
    "## Finally select only those columns which goes for Clustering (bound box height, bounding box width)"
   ]
  },
  {
   "cell_type": "code",
   "execution_count": 8,
   "metadata": {},
   "outputs": [
    {
     "data": {
      "text/html": [
       "<div>\n",
       "<style scoped>\n",
       "    .dataframe tbody tr th:only-of-type {\n",
       "        vertical-align: middle;\n",
       "    }\n",
       "\n",
       "    .dataframe tbody tr th {\n",
       "        vertical-align: top;\n",
       "    }\n",
       "\n",
       "    .dataframe thead th {\n",
       "        text-align: right;\n",
       "    }\n",
       "</style>\n",
       "<table border=\"1\" class=\"dataframe\">\n",
       "  <thead>\n",
       "    <tr style=\"text-align: right;\">\n",
       "      <th></th>\n",
       "      <th>bbwidth</th>\n",
       "      <th>bbheight</th>\n",
       "    </tr>\n",
       "  </thead>\n",
       "  <tbody>\n",
       "    <tr>\n",
       "      <th>0</th>\n",
       "      <td>0.556364</td>\n",
       "      <td>0.967213</td>\n",
       "    </tr>\n",
       "    <tr>\n",
       "      <th>1</th>\n",
       "      <td>0.627507</td>\n",
       "      <td>0.951389</td>\n",
       "    </tr>\n",
       "    <tr>\n",
       "      <th>2</th>\n",
       "      <td>0.737374</td>\n",
       "      <td>0.982353</td>\n",
       "    </tr>\n",
       "    <tr>\n",
       "      <th>3</th>\n",
       "      <td>0.876923</td>\n",
       "      <td>0.963918</td>\n",
       "    </tr>\n",
       "    <tr>\n",
       "      <th>4</th>\n",
       "      <td>0.456667</td>\n",
       "      <td>0.875000</td>\n",
       "    </tr>\n",
       "  </tbody>\n",
       "</table>\n",
       "</div>"
      ],
      "text/plain": [
       "    bbwidth  bbheight\n",
       "0  0.556364  0.967213\n",
       "1  0.627507  0.951389\n",
       "2  0.737374  0.982353\n",
       "3  0.876923  0.963918\n",
       "4  0.456667  0.875000"
      ]
     },
     "execution_count": 8,
     "metadata": {},
     "output_type": "execute_result"
    }
   ],
   "source": [
    "table_for_algo = finalfile.drop([\"width\",\"height\",\"file_name\"],axis = 1)\n",
    "table_for_algo.head()"
   ]
  },
  {
   "cell_type": "markdown",
   "metadata": {},
   "source": [
    "## Visualise the data"
   ]
  },
  {
   "cell_type": "code",
   "execution_count": 9,
   "metadata": {},
   "outputs": [
    {
     "data": {
      "text/plain": [
       "[<matplotlib.lines.Line2D at 0x1b7f6238b70>]"
      ]
     },
     "execution_count": 9,
     "metadata": {},
     "output_type": "execute_result"
    }
   ],
   "source": [
    "import matplotlib.pyplot as plt\n",
    "plt.plot(table_for_algo['bbwidth'],table_for_algo['bbheight'],'.')\n"
   ]
  },
  {
   "cell_type": "markdown",
   "metadata": {},
   "source": [
    "## Apply elbow method to find out k"
   ]
  },
  {
   "cell_type": "code",
   "execution_count": 143,
   "metadata": {},
   "outputs": [
    {
     "data": {
      "image/png": "[encoded data removed]",
      "text/plain": [
       "<Figure size 432x288 with 1 Axes>"
      ]
     },
     "metadata": {},
     "output_type": "display_data"
    }
   ],
   "source": [
    "from sklearn.cluster import KMeans\n",
    "from sklearn import metrics\n",
    "from scipy.spatial.distance import cdist\n",
    "import numpy as np\n",
    "import matplotlib.pyplot as plt\n",
    "\n",
    "\n",
    "\n",
    "# k means determine k\n",
    "distortions = []\n",
    "K = range(1,10)\n",
    "for k in K:\n",
    "    kmeanModel = KMeans(n_clusters=k).fit(table_for_algo)\n",
    "    kmeanModel.fit(table_for_algo)\n",
    "    distortions.append(sum(np.min(cdist(table_for_algo, kmeanModel.cluster_centers_, 'euclidean'), axis=1)) /table_for_algo.shape[0])\n",
    "\n",
    "# Plot the elbow\n",
    "plt.plot(K, distortions, '.-')\n",
    "plt.xlabel('k')\n",
    "plt.ylabel('Distortion')\n",
    "plt.title('The Elbow Method showing the optimal k')\n",
    "plt.show()"
   ]
  },
  {
   "cell_type": "markdown",
   "metadata": {},
   "source": [
    "## **Iou Method to find out K**\n",
    "\n",
    "### IOU(Intersection over union) = intersected area of bbox and anchor box/ Union area of bbox and anchor box\n",
    "#### bw = bounding box width, bh - bounding box height, aw - anchor box width, ah - anchor box height\n",
    "#### IOU = min(bw,aw) * min(bh, ah)/bw*bh + aw*ah - min(bw,aw) * min(bh, ah)\n",
    "#### mean IOU = sum(IOU)/len(IOU)"
   ]
  },
  {
   "cell_type": "code",
   "execution_count": 130,
   "metadata": {},
   "outputs": [],
   "source": [
    "height = list(table_for_algo['bbheight'])\n",
    "width = list(table_for_algo['bbwidth'])\n",
    "ks = range(1,10)\n",
    "meaniou = []\n",
    "for k in ks:\n",
    "    cl = KMeans(n_clusters=k)\n",
    "    cl.fit(table_for_algo)\n",
    "    cx = []\n",
    "    cy = []\n",
    "    mapcx  = {}\n",
    "    mapcy = {}\n",
    "    iou = []\n",
    "    for i in range(50):\n",
    "        \n",
    "        l = cl.labels_[i]\n",
    "        cx.append(cl.cluster_centers_[l][0])\n",
    "        cy.append(cl.cluster_centers_[l][1])\n",
    "        iou.append(min(width[i] ,cx[i])* min(height[i] , cy[i])/(height[i]*width[i]+ cx[i]*cy[i]- min(width[i] , cx[i])* min(height[i] ,cy[i])))\n",
    "    meaniou.append(sum(iou)/50)  \n",
    "        \n",
    "        \n",
    " \n",
    "        \n",
    "        \n",
    "        \n",
    "        \n",
    "        "
   ]
  },
  {
   "cell_type": "code",
   "execution_count": 133,
   "metadata": {},
   "outputs": [
    {
     "data": {
      "image/png": "[encoded data removed]",
      "text/plain": [
       "<Figure size 432x288 with 1 Axes>"
      ]
     },
     "metadata": {},
     "output_type": "display_data"
    }
   ],
   "source": [
    "\n",
    "plt.plot(range(1,10),meaniou,'.-',label = \"iou\")\n",
    "plt.plot([3,3],[0.75,0.95],label = \"k = 3\")\n",
    "plt.plot([4,4],[0.75,0.95],label = \"k = 5\")\n",
    "plt.xlabel('centroids')\n",
    "plt.ylabel('Mean Iou')\n",
    "plt.title('The Mean IOU for each k')\n",
    "plt.legend()\n",
    "plt.show()"
   ]
  },
  {
   "cell_type": "code",
   "execution_count": 137,
   "metadata": {},
   "outputs": [
    {
     "data": {
      "text/plain": [
       "(0.8859164595183125,\n",
       " 0.9065447940227446,\n",
       " 0.9186466651868428,\n",
       " 0.9236857654671055)"
      ]
     },
     "execution_count": 137,
     "metadata": {},
     "output_type": "execute_result"
    }
   ],
   "source": [
    "meaniou[3],meaniou[4],meaniou[5],meaniou[6]\n"
   ]
  },
  {
   "cell_type": "markdown",
   "metadata": {},
   "source": [
    "##  We got K = 3 from elbow method, K = 4 from Mean IOU\n",
    "### To visualise how both look we will plot a graph "
   ]
  },
  {
   "cell_type": "markdown",
   "metadata": {},
   "source": [
    "## For k = 3"
   ]
  },
  {
   "cell_type": "code",
   "execution_count": 144,
   "metadata": {},
   "outputs": [
    {
     "data": {
      "image/png": "[encoded data removed]",
      "text/plain": [
       "<Figure size 432x288 with 1 Axes>"
      ]
     },
     "metadata": {},
     "output_type": "display_data"
    }
   ],
   "source": [
    "cl3 = KMeans(3)\n",
    "cl3.fit(array_points)\n",
    "\n",
    "plt.scatter(cl3.cluster_centers_[:,0] ,cl3.cluster_centers_[:,1], color='red',s = 100,marker = 'o', label='centroids')\n",
    "plt.scatter(list(table_for_algo['bbwidth']), list(table_for_algo['bbheight']), marker=\"v\",c=list(cl3.labels_.astype(float)), label = \"data\")\n",
    "plt.legend()\n",
    "plt.xlabel('bbwidth')\n",
    "plt.ylabel('bbheight')\n",
    "plt.title('K Means for k = 3')\n",
    "plt.legend()\n",
    "plt.show()"
   ]
  },
  {
   "cell_type": "code",
   "execution_count": 145,
   "metadata": {},
   "outputs": [
    {
     "data": {
      "image/png": "[encoded data removed]",
      "text/plain": [
       "<Figure size 432x288 with 1 Axes>"
      ]
     },
     "metadata": {},
     "output_type": "display_data"
    }
   ],
   "source": [
    "cl3 = KMeans(4)\n",
    "cl3.fit(array_points)\n",
    "\n",
    "plt.scatter(cl3.cluster_centers_[:,0] ,cl3.cluster_centers_[:,1], color='red',s = 100,marker = 'o', label='centroids')\n",
    "plt.scatter(list(table_for_algo['bbwidth']), list(table_for_algo['bbheight']),marker=\"v\", c=list(cl3.labels_.astype(float)), label = \"data\")\n",
    "plt.legend(scatterpoints=1)\n",
    "plt.xlabel('bbwidth')\n",
    "plt.ylabel('bbheight')\n",
    "plt.title('K Means for k = 4')\n",
    "plt.legend()\n",
    "plt.show()"
   ]
  },
  {
   "cell_type": "markdown",
   "metadata": {},
   "source": [
    "### From the visualisation we can see that for k = 3 and k = 4. There isn't much difference and mean iou difference is 0.02. 3 May work fine.  Can play around with 3 and 4.\n"
   ]
  }
 ],
 "metadata": {
  "kernelspec": {
   "display_name": "Python 3",
   "language": "python",
   "name": "python3"
  },
  "language_info": {
   "codemirror_mode": {
    "name": "ipython",
    "version": 3
   },
   "file_extension": ".py",
   "mimetype": "text/x-python",
   "name": "python",
   "nbconvert_exporter": "python",
   "pygments_lexer": "ipython3",
   "version": "3.6.5"
  }
 },
 "nbformat": 4,
 "nbformat_minor": 2
}
