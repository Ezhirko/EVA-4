{
  "nbformat": 4,
  "nbformat_minor": 0,
  "metadata": {
    "kernelspec": {
      "name": "python3",
      "display_name": "Python 3"
    },
    "language_info": {
      "codemirror_mode": {
        "name": "ipython",
        "version": 3
      },
      "file_extension": ".py",
      "mimetype": "text/x-python",
      "name": "python",
      "nbconvert_exporter": "python",
      "pygments_lexer": "ipython3",
      "version": "3.6.6"
    },
    "colab": {
      "name": "Copy of Copy of S7.ipynb",
      "provenance": [],
      "collapsed_sections": [],
      "include_colab_link": true
    },
    "accelerator": "GPU",
    "widgets": {
      "application/vnd.jupyter.widget-state+json": {
        "f16e25868e7442d2837e4231b962bcfd": {
          "model_module": "@jupyter-widgets/controls",
          "model_name": "HBoxModel",
          "state": {
            "_view_name": "HBoxView",
            "_dom_classes": [],
            "_model_name": "HBoxModel",
            "_view_module": "@jupyter-widgets/controls",
            "_model_module_version": "1.5.0",
            "_view_count": null,
            "_view_module_version": "1.5.0",
            "box_style": "",
            "layout": "IPY_MODEL_4ea9dfa973694d4a9f1b90fea94ac47c",
            "_model_module": "@jupyter-widgets/controls",
            "children": [
              "IPY_MODEL_be050fb2a308412ea9ade14d1597c297",
              "IPY_MODEL_1a6cc9c09d9147dc913ec9e743236648"
            ]
          }
        },
        "4ea9dfa973694d4a9f1b90fea94ac47c": {
          "model_module": "@jupyter-widgets/base",
          "model_name": "LayoutModel",
          "state": {
            "_view_name": "LayoutView",
            "grid_template_rows": null,
            "right": null,
            "justify_content": null,
            "_view_module": "@jupyter-widgets/base",
            "overflow": null,
            "_model_module_version": "1.2.0",
            "_view_count": null,
            "flex_flow": null,
            "width": null,
            "min_width": null,
            "border": null,
            "align_items": null,
            "bottom": null,
            "_model_module": "@jupyter-widgets/base",
            "top": null,
            "grid_column": null,
            "overflow_y": null,
            "overflow_x": null,
            "grid_auto_flow": null,
            "grid_area": null,
            "grid_template_columns": null,
            "flex": null,
            "_model_name": "LayoutModel",
            "justify_items": null,
            "grid_row": null,
            "max_height": null,
            "align_content": null,
            "visibility": null,
            "align_self": null,
            "height": null,
            "min_height": null,
            "padding": null,
            "grid_auto_rows": null,
            "grid_gap": null,
            "max_width": null,
            "order": null,
            "_view_module_version": "1.2.0",
            "grid_template_areas": null,
            "object_position": null,
            "object_fit": null,
            "grid_auto_columns": null,
            "margin": null,
            "display": null,
            "left": null
          }
        },
        "be050fb2a308412ea9ade14d1597c297": {
          "model_module": "@jupyter-widgets/controls",
          "model_name": "IntProgressModel",
          "state": {
            "_view_name": "ProgressView",
            "style": "IPY_MODEL_b3404b4d80b04b61917c8ab780acb530",
            "_dom_classes": [],
            "description": "",
            "_model_name": "IntProgressModel",
            "bar_style": "info",
            "max": 1,
            "_view_module": "@jupyter-widgets/controls",
            "_model_module_version": "1.5.0",
            "value": 1,
            "_view_count": null,
            "_view_module_version": "1.5.0",
            "orientation": "horizontal",
            "min": 0,
            "description_tooltip": null,
            "_model_module": "@jupyter-widgets/controls",
            "layout": "IPY_MODEL_fe391dc312a248a1aa36fba045c9756a"
          }
        },
        "1a6cc9c09d9147dc913ec9e743236648": {
          "model_module": "@jupyter-widgets/controls",
          "model_name": "HTMLModel",
          "state": {
            "_view_name": "HTMLView",
            "style": "IPY_MODEL_97ac0692b7414a48bd632c7804faf903",
            "_dom_classes": [],
            "description": "",
            "_model_name": "HTMLModel",
            "placeholder": "​",
            "_view_module": "@jupyter-widgets/controls",
            "_model_module_version": "1.5.0",
            "value": "170500096it [00:30, 13666263.61it/s]",
            "_view_count": null,
            "_view_module_version": "1.5.0",
            "description_tooltip": null,
            "_model_module": "@jupyter-widgets/controls",
            "layout": "IPY_MODEL_34249f6c0914435188fcaf680d690d57"
          }
        },
        "b3404b4d80b04b61917c8ab780acb530": {
          "model_module": "@jupyter-widgets/controls",
          "model_name": "ProgressStyleModel",
          "state": {
            "_view_name": "StyleView",
            "_model_name": "ProgressStyleModel",
            "description_width": "",
            "_view_module": "@jupyter-widgets/base",
            "_model_module_version": "1.5.0",
            "_view_count": null,
            "_view_module_version": "1.2.0",
            "bar_color": null,
            "_model_module": "@jupyter-widgets/controls"
          }
        },
        "fe391dc312a248a1aa36fba045c9756a": {
          "model_module": "@jupyter-widgets/base",
          "model_name": "LayoutModel",
          "state": {
            "_view_name": "LayoutView",
            "grid_template_rows": null,
            "right": null,
            "justify_content": null,
            "_view_module": "@jupyter-widgets/base",
            "overflow": null,
            "_model_module_version": "1.2.0",
            "_view_count": null,
            "flex_flow": null,
            "width": null,
            "min_width": null,
            "border": null,
            "align_items": null,
            "bottom": null,
            "_model_module": "@jupyter-widgets/base",
            "top": null,
            "grid_column": null,
            "overflow_y": null,
            "overflow_x": null,
            "grid_auto_flow": null,
            "grid_area": null,
            "grid_template_columns": null,
            "flex": null,
            "_model_name": "LayoutModel",
            "justify_items": null,
            "grid_row": null,
            "max_height": null,
            "align_content": null,
            "visibility": null,
            "align_self": null,
            "height": null,
            "min_height": null,
            "padding": null,
            "grid_auto_rows": null,
            "grid_gap": null,
            "max_width": null,
            "order": null,
            "_view_module_version": "1.2.0",
            "grid_template_areas": null,
            "object_position": null,
            "object_fit": null,
            "grid_auto_columns": null,
            "margin": null,
            "display": null,
            "left": null
          }
        },
        "97ac0692b7414a48bd632c7804faf903": {
          "model_module": "@jupyter-widgets/controls",
          "model_name": "DescriptionStyleModel",
          "state": {
            "_view_name": "StyleView",
            "_model_name": "DescriptionStyleModel",
            "description_width": "",
            "_view_module": "@jupyter-widgets/base",
            "_model_module_version": "1.5.0",
            "_view_count": null,
            "_view_module_version": "1.2.0",
            "_model_module": "@jupyter-widgets/controls"
          }
        },
        "34249f6c0914435188fcaf680d690d57": {
          "model_module": "@jupyter-widgets/base",
          "model_name": "LayoutModel",
          "state": {
            "_view_name": "LayoutView",
            "grid_template_rows": null,
            "right": null,
            "justify_content": null,
            "_view_module": "@jupyter-widgets/base",
            "overflow": null,
            "_model_module_version": "1.2.0",
            "_view_count": null,
            "flex_flow": null,
            "width": null,
            "min_width": null,
            "border": null,
            "align_items": null,
            "bottom": null,
            "_model_module": "@jupyter-widgets/base",
            "top": null,
            "grid_column": null,
            "overflow_y": null,
            "overflow_x": null,
            "grid_auto_flow": null,
            "grid_area": null,
            "grid_template_columns": null,
            "flex": null,
            "_model_name": "LayoutModel",
            "justify_items": null,
            "grid_row": null,
            "max_height": null,
            "align_content": null,
            "visibility": null,
            "align_self": null,
            "height": null,
            "min_height": null,
            "padding": null,
            "grid_auto_rows": null,
            "grid_gap": null,
            "max_width": null,
            "order": null,
            "_view_module_version": "1.2.0",
            "grid_template_areas": null,
            "object_position": null,
            "object_fit": null,
            "grid_auto_columns": null,
            "margin": null,
            "display": null,
            "left": null
          }
        }
      }
    }
  },
  "cells": [
    {
      "cell_type": "markdown",
      "metadata": {
        "id": "view-in-github",
        "colab_type": "text"
      },
      "source": [
        "<a href=\"https://colab.research.google.com/github/Sushmitha-Katti/EVA-4/blob/master/Session7/V4.ipynb\" target=\"_parent\"><img src=\"https://colab.research.google.com/assets/colab-badge.svg\" alt=\"Open In Colab\"/></a>"
      ]
    },
    {
      "cell_type": "code",
      "metadata": {
        "id": "QVbdg0z4poCc",
        "colab_type": "code",
        "colab": {}
      },
      "source": [
        "%matplotlib inline"
      ],
      "execution_count": 0,
      "outputs": []
    },
    {
      "cell_type": "markdown",
      "metadata": {
        "id": "fPogbueepoCh",
        "colab_type": "text"
      },
      "source": [
        "\n",
        "Training a Classifier\n",
        "=====================\n",
        "\n",
        "This is it. You have seen how to define neural networks, compute loss and make\n",
        "updates to the weights of the network.\n",
        "\n",
        "Now you might be thinking,\n",
        "\n",
        "What about data?\n",
        "----------------\n",
        "\n",
        "Generally, when you have to deal with image, text, audio or video data,\n",
        "you can use standard python packages that load data into a numpy array.\n",
        "Then you can convert this array into a ``torch.*Tensor``.\n",
        "\n",
        "-  For images, packages such as Pillow, OpenCV are useful\n",
        "-  For audio, packages such as scipy and librosa\n",
        "-  For text, either raw Python or Cython based loading, or NLTK and\n",
        "   SpaCy are useful\n",
        "\n",
        "Specifically for vision, we have created a package called\n",
        "``torchvision``, that has data loaders for common datasets such as\n",
        "Imagenet, CIFAR10, MNIST, etc. and data transformers for images, viz.,\n",
        "``torchvision.datasets`` and ``torch.utils.data.DataLoader``.\n",
        "\n",
        "This provides a huge convenience and avoids writing boilerplate code.\n",
        "\n",
        "For this tutorial, we will use the CIFAR10 dataset.\n",
        "It has the classes: ‘airplane’, ‘automobile’, ‘bird’, ‘cat’, ‘deer’,\n",
        "‘dog’, ‘frog’, ‘horse’, ‘ship’, ‘truck’. The images in CIFAR-10 are of\n",
        "size 3x32x32, i.e. 3-channel color images of 32x32 pixels in size.\n",
        "\n",
        ".. figure:: /_static/img/cifar10.png\n",
        "   :alt: cifar10\n",
        "\n",
        "   cifar10\n",
        "\n",
        "\n",
        "Training an image classifier\n",
        "----------------------------\n",
        "\n",
        "We will do the following steps in order:\n",
        "\n",
        "1. Load and normalizing the CIFAR10 training and test datasets using\n",
        "   ``torchvision``\n",
        "2. Define a Convolution Neural Network\n",
        "3. Define a loss function\n",
        "4. Train the network on the training data\n",
        "5. Test the network on the test data\n",
        "\n",
        "1. Loading and normalizing CIFAR10\n",
        "^^^^^^^^^^^^^^^^^^^^^^^^^^^^^^^^^^\n",
        "\n",
        "Using ``torchvision``, it’s extremely easy to load CIFAR10.\n",
        "\n"
      ]
    },
    {
      "cell_type": "code",
      "metadata": {
        "id": "-yVpodAMpoCi",
        "colab_type": "code",
        "colab": {}
      },
      "source": [
        "import torch\n",
        "import torchvision\n",
        "import torchvision.transforms as transforms"
      ],
      "execution_count": 0,
      "outputs": []
    },
    {
      "cell_type": "code",
      "metadata": {
        "id": "WlKu8ZgqfM6F",
        "colab_type": "code",
        "colab": {}
      },
      "source": [
        "import matplotlib.pyplot as plt\n",
        "import numpy as np"
      ],
      "execution_count": 0,
      "outputs": []
    },
    {
      "cell_type": "markdown",
      "metadata": {
        "id": "5kjt4e2TpoCk",
        "colab_type": "text"
      },
      "source": [
        "The output of torchvision datasets are PILImage images of range [0, 1].\n",
        "We transform them to Tensors of normalized range [-1, 1].\n",
        "\n"
      ]
    },
    {
      "cell_type": "code",
      "metadata": {
        "id": "D8Tjigo2poCl",
        "colab_type": "code",
        "outputId": "cc5b7e12-f0dd-4a47-8e6f-c9602dca3e66",
        "colab": {
          "base_uri": "https://localhost:8080/",
          "height": 120,
          "referenced_widgets": [
            "f16e25868e7442d2837e4231b962bcfd",
            "4ea9dfa973694d4a9f1b90fea94ac47c",
            "be050fb2a308412ea9ade14d1597c297",
            "1a6cc9c09d9147dc913ec9e743236648",
            "b3404b4d80b04b61917c8ab780acb530",
            "fe391dc312a248a1aa36fba045c9756a",
            "97ac0692b7414a48bd632c7804faf903",
            "34249f6c0914435188fcaf680d690d57"
          ]
        }
      },
      "source": [
        "transform = transforms.Compose(\n",
        "    [transforms.ToTensor(),\n",
        "     transforms.Normalize((0.5, 0.5, 0.5), (0.5, 0.5, 0.5))])\n",
        "\n",
        "SEED = 1\n",
        "\n",
        "\n",
        "# CUDA?\n",
        "cuda = torch.cuda.is_available()\n",
        "print(\"CUDA Available?\", cuda)\n",
        "\n",
        "# For reproducibility\n",
        "torch.manual_seed(SEED)\n",
        "\n",
        "if cuda:\n",
        "    torch.cuda.manual_seed(SEED)\n",
        "\n",
        "Batch_size = 64\n",
        "if cuda:\n",
        "  Batch_size = 128\n",
        "  \n",
        "\n",
        "# dataloader arguments - something you'll fetch these from cmdprmt\n",
        "dataloader_args = dict(shuffle=True, batch_size=Batch_size, num_workers=4, pin_memory=True) if cuda else dict(shuffle=True, batch_size=Batch_size)\n",
        "\n",
        "trainset = torchvision.datasets.CIFAR10(root='./data', train=True,\n",
        "                                        download=True, transform=transform)\n",
        "trainloader = torch.utils.data.DataLoader(trainset, **dataloader_args)\n",
        "\n",
        "testset = torchvision.datasets.CIFAR10(root='./data', train=False,\n",
        "                                       download=True, transform=transform)\n",
        "testloader = torch.utils.data.DataLoader(testset, **dataloader_args)\n",
        "\n",
        "classes = ('plane', 'car', 'bird', 'cat',\n",
        "           'deer', 'dog', 'frog', 'horse', 'ship', 'truck')"
      ],
      "execution_count": 4,
      "outputs": [
        {
          "output_type": "stream",
          "text": [
            "CUDA Available? True\n",
            "Downloading https://www.cs.toronto.edu/~kriz/cifar-10-python.tar.gz to ./data/cifar-10-python.tar.gz\n"
          ],
          "name": "stdout"
        },
        {
          "output_type": "display_data",
          "data": {
            "application/vnd.jupyter.widget-view+json": {
              "model_id": "f16e25868e7442d2837e4231b962bcfd",
              "version_minor": 0,
              "version_major": 2
            },
            "text/plain": [
              "HBox(children=(IntProgress(value=1, bar_style='info', max=1), HTML(value='')))"
            ]
          },
          "metadata": {
            "tags": []
          }
        },
        {
          "output_type": "stream",
          "text": [
            "Extracting ./data/cifar-10-python.tar.gz to ./data\n",
            "Files already downloaded and verified\n"
          ],
          "name": "stdout"
        }
      ]
    },
    {
      "cell_type": "markdown",
      "metadata": {
        "id": "_cj433rtpoCn",
        "colab_type": "text"
      },
      "source": [
        "Let us show some of the training images, for fun.\n",
        "\n"
      ]
    },
    {
      "cell_type": "code",
      "metadata": {
        "id": "D4SFB69Y5x8K",
        "colab_type": "code",
        "outputId": "23e5f929-7028-4187-b3a2-aad384731191",
        "colab": {
          "base_uri": "https://localhost:8080/",
          "height": 34
        }
      },
      "source": [
        "len(trainset)"
      ],
      "execution_count": 5,
      "outputs": [
        {
          "output_type": "execute_result",
          "data": {
            "text/plain": [
              "50000"
            ]
          },
          "metadata": {
            "tags": []
          },
          "execution_count": 5
        }
      ]
    },
    {
      "cell_type": "code",
      "metadata": {
        "id": "_WiQ0wjJ56ca",
        "colab_type": "code",
        "outputId": "914883c7-0017-49b8-d64b-52e6cbb55db3",
        "colab": {
          "base_uri": "https://localhost:8080/",
          "height": 34
        }
      },
      "source": [
        "50000/128"
      ],
      "execution_count": 6,
      "outputs": [
        {
          "output_type": "execute_result",
          "data": {
            "text/plain": [
              "390.625"
            ]
          },
          "metadata": {
            "tags": []
          },
          "execution_count": 6
        }
      ]
    },
    {
      "cell_type": "code",
      "metadata": {
        "id": "Kxs2OKcac1UH",
        "colab_type": "code",
        "outputId": "ebf53633-7fff-4d50-9c3e-b580f033abcc",
        "colab": {
          "base_uri": "https://localhost:8080/",
          "height": 34
        }
      },
      "source": [
        "type(trainset.data)"
      ],
      "execution_count": 7,
      "outputs": [
        {
          "output_type": "execute_result",
          "data": {
            "text/plain": [
              "numpy.ndarray"
            ]
          },
          "metadata": {
            "tags": []
          },
          "execution_count": 7
        }
      ]
    },
    {
      "cell_type": "code",
      "metadata": {
        "id": "q1RHOO45eVs7",
        "colab_type": "code",
        "outputId": "7a089c68-e1aa-4a43-a3f7-f1e2bb5630a9",
        "colab": {
          "base_uri": "https://localhost:8080/",
          "height": 52
        }
      },
      "source": [
        "print(np.min(trainset.data))\n",
        "print(\"mean \",np.mean(trainset.data))"
      ],
      "execution_count": 8,
      "outputs": [
        {
          "output_type": "stream",
          "text": [
            "0\n",
            "mean  120.70756512369792\n"
          ],
          "name": "stdout"
        }
      ]
    },
    {
      "cell_type": "code",
      "metadata": {
        "id": "daA7bADhpoCo",
        "colab_type": "code",
        "outputId": "c0c3d497-e162-4d55-df28-fa1f3535a0fc",
        "colab": {
          "base_uri": "https://localhost:8080/",
          "height": 304
        }
      },
      "source": [
        "\n",
        "\n",
        "# functions to show an image\n",
        "\n",
        "\n",
        "def imshow(img):\n",
        "    img = img / 2 + 0.5     # unnormalize\n",
        "    npimg = img.numpy()\n",
        "    print(npimg.shape,(np.transpose(npimg, (1, 2, 0))).shape)\n",
        "    plt.imshow(np.transpose(npimg, (1, 2, 0)))\n",
        "\n",
        "\n",
        "# get some random training images\n",
        "dataiter = iter(trainloader)\n",
        "images, labels = dataiter.next()\n",
        "\n",
        "# show images\n",
        "imshow(torchvision.utils.make_grid(images))\n",
        "# print labels\n",
        "print(' '.join('%5s' % classes[labels[j]] for j in range(4)))"
      ],
      "execution_count": 9,
      "outputs": [
        {
          "output_type": "stream",
          "text": [
            "(3, 546, 274) (546, 274, 3)\n",
            "plane   dog  deer  deer\n"
          ],
          "name": "stdout"
        },
        {
          "output_type": "display_data",
          "data": {
            "image/png": "[encoded data removed]",
            "text/plain": [
              "<Figure size 432x288 with 1 Axes>"
            ]
          },
          "metadata": {
            "tags": []
          }
        }
      ]
    },
    {
      "cell_type": "markdown",
      "metadata": {
        "id": "28OpHA_LpoCq",
        "colab_type": "text"
      },
      "source": [
        "2. Define a Convolution Neural Network\n",
        "^^^^^^^^^^^^^^^^^^^^^^^^^^^^^^^^^^^^^^\n",
        "Copy the neural network from the Neural Networks section before and modify it to\n",
        "take 3-channel images (instead of 1-channel images as it was defined).\n",
        "\n"
      ]
    },
    {
      "cell_type": "code",
      "metadata": {
        "colab_type": "code",
        "id": "mEeKN2pm-DuM",
        "colab": {}
      },
      "source": [
        "import torch.nn as nn\n",
        "import torch.nn.functional as F\n",
        "\n",
        "\n",
        "class Net(nn.Module):\n",
        "    def __init__(self):\n",
        "        super(Net, self).__init__()\n",
        "                                                              #RF = rin+(k-1)*jin\n",
        "                                                              #jout = jin*s\n",
        "        self.convblock1 = nn.Sequential(\n",
        "            nn.Conv2d(in_channels=3, out_channels=32, kernel_size=(3, 3), padding=1, bias=False), #Rf = 3, j = 1\n",
        "            nn.ReLU(),\n",
        "            nn.BatchNorm2d(32),\n",
        "            nn.Dropout(p=0.15),\n",
        "\n",
        "            nn.Conv2d(in_channels=32, out_channels=64, kernel_size=(3, 3), padding=1, bias=False),#Rf = 5, , j = 1\n",
        "            nn.ReLU(),\n",
        "            nn.BatchNorm2d(64),\n",
        "            nn.Dropout(p=0.15),\n",
        "\n",
        "            nn.Conv2d(in_channels=64, out_channels=128, kernel_size=(3, 3), padding=1, bias=False), #Rf = , j = 1\n",
        "            nn.ReLU(),\n",
        "            nn.BatchNorm2d(128),\n",
        "            nn.Dropout(p=0.15),\n",
        "\n",
        "            nn.Conv2d(in_channels=128, out_channels=256, kernel_size=(3, 3), padding=1, bias=False), #Rf = 9, , j = 1\n",
        "            nn.ReLU(),\n",
        "            nn.BatchNorm2d(256),\n",
        "            nn.Dropout(p=0.15),\n",
        "            \n",
        "            )\n",
        "        self.convblock2 = nn.Sequential(\n",
        "           nn.Conv2d(in_channels=256, out_channels=16, kernel_size=(3, 3), padding=1,dilation=2, bias=False), #jin=jout=2, kernel_size = 5, rf = 10+(4)*2 = 18\n",
        "            nn.ReLU(),\n",
        "            nn.BatchNorm2d(16),\n",
        "            nn.Dropout(p=0.15),\n",
        "\n",
        "            nn.Conv2d(in_channels=16, out_channels=32, kernel_size=(3, 3), padding=1,dilation=1, bias=False), #jin=jout=2, kernel_size = 5, rf = 18+(2)*2 = 22\n",
        "            nn.ReLU(),\n",
        "            nn.BatchNorm2d(32),\n",
        "            nn.Dropout(p=0.15),\n",
        "\n",
        "            nn.Conv2d(in_channels=32, out_channels=64, kernel_size=(3, 3), padding=1,dilation=1, bias=False), #jin=jout=2, kernel_size = 5, rf = 22+(2)*2 = 26\n",
        "            nn.ReLU(),\n",
        "            nn.BatchNorm2d(64),\n",
        "            nn.Dropout(p=0.15),\n",
        "\n",
        "            nn.Conv2d(in_channels=64, out_channels=128, kernel_size=(3, 3), padding=1,dilation=1, bias=False), #jin=jout=2, kernel_size = 5, rf = 26+(2)*2 = 30\n",
        "            nn.ReLU(),\n",
        "            nn.BatchNorm2d(128),\n",
        "            nn.Dropout(p=0.15),\n",
        "            )\n",
        "\n",
        "        self.convblock3 = nn.Sequential(\n",
        "            nn.Conv2d(in_channels=128, out_channels=16, kernel_size=(3, 3), padding=1, bias=False), #jin = jout = 4, rf = 32+(2)*4 = 40\n",
        "            nn.ReLU(),\n",
        "            nn.BatchNorm2d(16),\n",
        "            nn.Dropout(p=0.15),\n",
        "\n",
        "            nn.Conv2d(in_channels=16, out_channels=32, kernel_size=(3, 3), padding=1,groups=16, bias=False), #jin = jout = 4, rf = 40+(2)*4 = 48\n",
        "            nn.ReLU(),\n",
        "            nn.BatchNorm2d(32),\n",
        "            nn.Dropout(p=0.15),\n",
        "\n",
        "            nn.Conv2d(in_channels=32, out_channels=64, kernel_size=(3, 3), padding=1,groups=32, bias=False),#jin = jout = 4, rf = 48+(2)*4 = 56\n",
        "            nn.ReLU(),\n",
        "            nn.BatchNorm2d(64),\n",
        "            nn.Dropout(p=0.15),\n",
        "\n",
        "            nn.Conv2d(in_channels=64, out_channels=128, kernel_size=(3, 3), padding=1,groups=64, bias=False), #jin = jout = 4, rf = 56+(2)*4 = 64\n",
        "            nn.ReLU(),\n",
        "            nn.BatchNorm2d(128),\n",
        "            nn.Dropout(p=0.15),\n",
        "            \n",
        "            )\n",
        "        self.convblock4 = nn.Sequential(\n",
        "          nn.Conv2d(in_channels=128, out_channels=16, kernel_size=(3, 3), padding=1, bias=False), #jin = jout = 8, rf = 68+(2)*8 = 84\n",
        "            nn.ReLU(),\n",
        "            nn.BatchNorm2d(16),\n",
        "            nn.Dropout(p=0.15),\n",
        "\n",
        "            nn.Conv2d(in_channels=16, out_channels=32, kernel_size=(3, 3), padding=1, bias=False), #jin = jout = 8, rf = 84+(2)*8 = 100\n",
        "            nn.ReLU(),\n",
        "            nn.BatchNorm2d(32),\n",
        "            nn.Dropout(p=0.15),\n",
        "\n",
        "            nn.Conv2d(in_channels=32, out_channels=64, kernel_size=(3, 3), padding=1, bias=False), #jin = jout = 8, rf = 100+(2)*8 = 116\n",
        "            nn.ReLU(),\n",
        "            nn.BatchNorm2d(64),\n",
        "            nn.Dropout(p=0.15),\n",
        "\n",
        "            nn.Conv2d(in_channels=64, out_channels=128, kernel_size=(3, 3), padding=1, bias=False), #jin = jout = 8, rf = 116+(2)*8 = 132\n",
        "            nn.ReLU(),\n",
        "            nn.BatchNorm2d(128),\n",
        "            nn.Dropout(p=0.15), # i/p= 28 o/p=26 r=3\n",
        "\n",
        "            nn.AdaptiveAvgPool2d(1),\n",
        "\n",
        "\n",
        "\n",
        "            nn.Conv2d(in_channels=128, out_channels=10, kernel_size=(1, 1), padding=0, bias=False)#Op_size = 1, \n",
        "            \n",
        "\n",
        "            \n",
        "            )\n",
        "\n",
        "        self.pool = nn.MaxPool2d(2, 2)\n",
        "\n",
        "        self.gap = nn.AdaptiveAvgPool2d(4)\n",
        "\n",
        "        self.fc1 = nn.Linear(16 * 5 * 5, 120)\n",
        "        self.fc2 = nn.Linear(120, 84)\n",
        "        self.fc3 = nn.Linear(1, 256)\n",
        "\n",
        "    def forward(self, x):\n",
        "\n",
        "        x = self.convblock1(x) # i/p= 32 o/p=32 Rf = 9\n",
        "        x = self.pool(x) # jin = 1, Rf = 10 j out= 2\n",
        "        x = self.convblock2(x) # Rf = 30 jout = 2, \n",
        "        x = self.pool(x) # jout = 4, s =2, Rf = 30+1*2 = 32\n",
        "        x = self.convblock3(x) # jin = 4, s = 2 , jout = 8, Rf = 64+1*4 = 68\n",
        "        x = self.pool(x) # 4\n",
        "        x = self.convblock4(x)  # 4\n",
        "     \n",
        "        x = x.view(-1, 10)\n",
        "      \n",
        "        return x\n",
        "\n",
        "\n",
        "# net = Net()"
      ],
      "execution_count": 0,
      "outputs": []
    },
    {
      "cell_type": "code",
      "metadata": {
        "id": "c8xmU33aqgJX",
        "colab_type": "code",
        "outputId": "4a1c725f-aa7b-4ba6-a3a7-5b942d12e8f1",
        "colab": {
          "base_uri": "https://localhost:8080/",
          "height": 1000
        }
      },
      "source": [
        "!pip install torchsummary\n",
        "from torchsummary import summary\n",
        "use_cuda = torch.cuda.is_available()\n",
        "device = torch.device(\"cuda\" if use_cuda else \"cpu\")\n",
        "print(device)\n",
        "net = Net().to(device)\n",
        "summary(net, input_size=(3, 32, 32))"
      ],
      "execution_count": 25,
      "outputs": [
        {
          "output_type": "stream",
          "text": [
            "Requirement already satisfied: torchsummary in /usr/local/lib/python3.6/dist-packages (1.5.1)\n",
            "cuda\n",
            "----------------------------------------------------------------\n",
            "        Layer (type)               Output Shape         Param #\n",
            "================================================================\n",
            "            Conv2d-1           [-1, 32, 32, 32]             864\n",
            "              ReLU-2           [-1, 32, 32, 32]               0\n",
            "       BatchNorm2d-3           [-1, 32, 32, 32]              64\n",
            "           Dropout-4           [-1, 32, 32, 32]               0\n",
            "            Conv2d-5           [-1, 64, 32, 32]          18,432\n",
            "              ReLU-6           [-1, 64, 32, 32]               0\n",
            "       BatchNorm2d-7           [-1, 64, 32, 32]             128\n",
            "           Dropout-8           [-1, 64, 32, 32]               0\n",
            "            Conv2d-9          [-1, 128, 32, 32]          73,728\n",
            "             ReLU-10          [-1, 128, 32, 32]               0\n",
            "      BatchNorm2d-11          [-1, 128, 32, 32]             256\n",
            "          Dropout-12          [-1, 128, 32, 32]               0\n",
            "           Conv2d-13          [-1, 256, 32, 32]         294,912\n",
            "             ReLU-14          [-1, 256, 32, 32]               0\n",
            "      BatchNorm2d-15          [-1, 256, 32, 32]             512\n",
            "          Dropout-16          [-1, 256, 32, 32]               0\n",
            "        MaxPool2d-17          [-1, 256, 16, 16]               0\n",
            "           Conv2d-18           [-1, 16, 14, 14]          36,864\n",
            "             ReLU-19           [-1, 16, 14, 14]               0\n",
            "      BatchNorm2d-20           [-1, 16, 14, 14]              32\n",
            "          Dropout-21           [-1, 16, 14, 14]               0\n",
            "           Conv2d-22           [-1, 32, 14, 14]           4,608\n",
            "             ReLU-23           [-1, 32, 14, 14]               0\n",
            "      BatchNorm2d-24           [-1, 32, 14, 14]              64\n",
            "          Dropout-25           [-1, 32, 14, 14]               0\n",
            "           Conv2d-26           [-1, 64, 14, 14]          18,432\n",
            "             ReLU-27           [-1, 64, 14, 14]               0\n",
            "      BatchNorm2d-28           [-1, 64, 14, 14]             128\n",
            "          Dropout-29           [-1, 64, 14, 14]               0\n",
            "           Conv2d-30          [-1, 128, 14, 14]          73,728\n",
            "             ReLU-31          [-1, 128, 14, 14]               0\n",
            "      BatchNorm2d-32          [-1, 128, 14, 14]             256\n",
            "          Dropout-33          [-1, 128, 14, 14]               0\n",
            "        MaxPool2d-34            [-1, 128, 7, 7]               0\n",
            "           Conv2d-35             [-1, 16, 7, 7]          18,432\n",
            "             ReLU-36             [-1, 16, 7, 7]               0\n",
            "      BatchNorm2d-37             [-1, 16, 7, 7]              32\n",
            "          Dropout-38             [-1, 16, 7, 7]               0\n",
            "           Conv2d-39             [-1, 32, 7, 7]             288\n",
            "             ReLU-40             [-1, 32, 7, 7]               0\n",
            "      BatchNorm2d-41             [-1, 32, 7, 7]              64\n",
            "          Dropout-42             [-1, 32, 7, 7]               0\n",
            "           Conv2d-43             [-1, 64, 7, 7]             576\n",
            "             ReLU-44             [-1, 64, 7, 7]               0\n",
            "      BatchNorm2d-45             [-1, 64, 7, 7]             128\n",
            "          Dropout-46             [-1, 64, 7, 7]               0\n",
            "           Conv2d-47            [-1, 128, 7, 7]           1,152\n",
            "             ReLU-48            [-1, 128, 7, 7]               0\n",
            "      BatchNorm2d-49            [-1, 128, 7, 7]             256\n",
            "          Dropout-50            [-1, 128, 7, 7]               0\n",
            "        MaxPool2d-51            [-1, 128, 3, 3]               0\n",
            "           Conv2d-52             [-1, 16, 3, 3]          18,432\n",
            "             ReLU-53             [-1, 16, 3, 3]               0\n",
            "      BatchNorm2d-54             [-1, 16, 3, 3]              32\n",
            "          Dropout-55             [-1, 16, 3, 3]               0\n",
            "           Conv2d-56             [-1, 32, 3, 3]           4,608\n",
            "             ReLU-57             [-1, 32, 3, 3]               0\n",
            "      BatchNorm2d-58             [-1, 32, 3, 3]              64\n",
            "          Dropout-59             [-1, 32, 3, 3]               0\n",
            "           Conv2d-60             [-1, 64, 3, 3]          18,432\n",
            "             ReLU-61             [-1, 64, 3, 3]               0\n",
            "      BatchNorm2d-62             [-1, 64, 3, 3]             128\n",
            "          Dropout-63             [-1, 64, 3, 3]               0\n",
            "           Conv2d-64            [-1, 128, 3, 3]          73,728\n",
            "             ReLU-65            [-1, 128, 3, 3]               0\n",
            "      BatchNorm2d-66            [-1, 128, 3, 3]             256\n",
            "          Dropout-67            [-1, 128, 3, 3]               0\n",
            "AdaptiveAvgPool2d-68            [-1, 128, 1, 1]               0\n",
            "           Conv2d-69             [-1, 10, 1, 1]           1,280\n",
            "================================================================\n",
            "Total params: 660,896\n",
            "Trainable params: 660,896\n",
            "Non-trainable params: 0\n",
            "----------------------------------------------------------------\n",
            "Input size (MB): 0.01\n",
            "Forward/backward pass size (MB): 17.42\n",
            "Params size (MB): 2.52\n",
            "Estimated Total Size (MB): 19.95\n",
            "----------------------------------------------------------------\n"
          ],
          "name": "stdout"
        }
      ]
    },
    {
      "cell_type": "markdown",
      "metadata": {
        "id": "Wdw2NNCUpoCu",
        "colab_type": "text"
      },
      "source": [
        "3. Define a Loss function and optimizer\n",
        "^^^^^^^^^^^^^^^^^^^^^^^^^^^^^^^^^^^^^^^\n",
        "Let's use a Classification Cross-Entropy loss and SGD with momentum.\n",
        "\n"
      ]
    },
    {
      "cell_type": "code",
      "metadata": {
        "id": "M4xBbDROpoCv",
        "colab_type": "code",
        "colab": {}
      },
      "source": [
        "import torch.optim as optim\n",
        "\n",
        "criterion = nn.CrossEntropyLoss()\n",
        "optimizer = optim.SGD(net.parameters(), lr=0.001, momentum=0.9)"
      ],
      "execution_count": 0,
      "outputs": []
    },
    {
      "cell_type": "markdown",
      "metadata": {
        "id": "O-odOrhdpoC2",
        "colab_type": "text"
      },
      "source": [
        "4. Train the network\n",
        "^^^^^^^^^^^^^^^^^^^^\n",
        "\n",
        "This is when things start to get interesting.\n",
        "We simply have to loop over our data iterator, and feed the inputs to the\n",
        "network and optimize.\n",
        "\n"
      ]
    },
    {
      "cell_type": "code",
      "metadata": {
        "id": "8GrBJsTG7wDy",
        "colab_type": "code",
        "outputId": "d5343b1c-0c92-423b-99fc-24f78257ebec",
        "colab": {
          "base_uri": "https://localhost:8080/",
          "height": 34
        }
      },
      "source": [
        "minibatches = int(len(trainset)/Batch_size)\n",
        "minibatches\n"
      ],
      "execution_count": 27,
      "outputs": [
        {
          "output_type": "execute_result",
          "data": {
            "text/plain": [
              "390"
            ]
          },
          "metadata": {
            "tags": []
          },
          "execution_count": 27
        }
      ]
    },
    {
      "cell_type": "code",
      "metadata": {
        "id": "kkuRfo1IpoC3",
        "colab_type": "code",
        "outputId": "915c49b0-08de-4f56-9e36-d2b0f7b78057",
        "colab": {
          "base_uri": "https://localhost:8080/",
          "height": 1000
        }
      },
      "source": [
        "for epoch in range(40):  # loop over the dataset multiple times\n",
        "\n",
        "    running_loss = 0.0\n",
        "    correct = 0\n",
        "    processed = 0\n",
        "    for i, data in enumerate(trainloader, 0):\n",
        "        # get the inputs\n",
        "        inputs, labels = data\n",
        "        inputs,labels = inputs.to(device), labels.to(device)\n",
        "\n",
        "        # zero the parameter gradients\n",
        "        optimizer.zero_grad()\n",
        "\n",
        "        # forward + backward + optimize\n",
        "        outputs = net(inputs)\n",
        "        loss = criterion(outputs, labels) # CrossEntropyLoss\n",
        "        loss.backward()\n",
        "        optimizer.step() # SGD\n",
        "\n",
        "        # print statistics\n",
        "        running_loss += loss.item()\n",
        "\n",
        "        pred = outputs.argmax(dim=1, keepdim=True)  # get the index of the max log-probability\n",
        "        correct += pred.eq(labels.view_as(pred)).sum().item()\n",
        "        processed += len(inputs)\n",
        "\n",
        "        if i == minibatches:    # print every  mini-batches\n",
        "            print('[%d, %5d] loss: %.3f Acc: %.3f' %(epoch + 1, i + 1, running_loss / 2000,100*correct/processed ))\n",
        "            running_loss = 0.0\n",
        "\n",
        "\n",
        "            outputs = net(images.to(device))\n",
        "            _, predicted = torch.max(outputs, 1)\n",
        "\n",
        "            #print('Predicted: ', ' '.join('%5s' % classes[predicted[j]]for j in range(4)))\n",
        "            correct = 0\n",
        "            total = 0\n",
        "            with torch.no_grad():\n",
        "                for data in testloader:\n",
        "                    images, labels = data\n",
        "                    images, labels = images.to(device), labels.to(device)\n",
        "                    outputs = net(images)\n",
        "                    _, predicted = torch.max(outputs.data, 1)\n",
        "                    total += labels.size(0)\n",
        "                    correct += (predicted == labels).sum().item()\n",
        "\n",
        "            print('Accuracy of the network on the 10000 test images: %.3f %%' % (\n",
        "                100 * correct / total))\n"
      ],
      "execution_count": 28,
      "outputs": [
        {
          "output_type": "stream",
          "text": [
            "[1,   391] loss: 0.377 Acc: 26.186\n",
            "Accuracy of the network on the 10000 test images: 36.380 %\n",
            "[2,   391] loss: 0.307 Acc: 40.698\n",
            "Accuracy of the network on the 10000 test images: 45.030 %\n",
            "[3,   391] loss: 0.274 Acc: 48.218\n",
            "Accuracy of the network on the 10000 test images: 51.210 %\n",
            "[4,   391] loss: 0.247 Acc: 54.080\n",
            "Accuracy of the network on the 10000 test images: 56.100 %\n",
            "[5,   391] loss: 0.227 Acc: 57.954\n",
            "Accuracy of the network on the 10000 test images: 59.110 %\n",
            "[6,   391] loss: 0.213 Acc: 60.868\n",
            "Accuracy of the network on the 10000 test images: 60.950 %\n",
            "[7,   391] loss: 0.200 Acc: 63.564\n",
            "Accuracy of the network on the 10000 test images: 63.040 %\n",
            "[8,   391] loss: 0.190 Acc: 65.602\n",
            "Accuracy of the network on the 10000 test images: 65.480 %\n",
            "[9,   391] loss: 0.181 Acc: 67.410\n",
            "Accuracy of the network on the 10000 test images: 66.110 %\n",
            "[10,   391] loss: 0.174 Acc: 68.606\n",
            "Accuracy of the network on the 10000 test images: 68.120 %\n",
            "[11,   391] loss: 0.168 Acc: 69.914\n",
            "Accuracy of the network on the 10000 test images: 69.060 %\n",
            "[12,   391] loss: 0.161 Acc: 71.254\n",
            "Accuracy of the network on the 10000 test images: 70.320 %\n",
            "[13,   391] loss: 0.156 Acc: 72.106\n",
            "Accuracy of the network on the 10000 test images: 70.900 %\n",
            "[14,   391] loss: 0.149 Acc: 73.482\n",
            "Accuracy of the network on the 10000 test images: 71.440 %\n",
            "[15,   391] loss: 0.146 Acc: 74.078\n",
            "Accuracy of the network on the 10000 test images: 72.370 %\n",
            "[16,   391] loss: 0.142 Acc: 74.780\n",
            "Accuracy of the network on the 10000 test images: 73.330 %\n",
            "[17,   391] loss: 0.137 Acc: 75.704\n",
            "Accuracy of the network on the 10000 test images: 73.420 %\n",
            "[18,   391] loss: 0.134 Acc: 76.356\n",
            "Accuracy of the network on the 10000 test images: 74.200 %\n",
            "[19,   391] loss: 0.130 Acc: 77.072\n",
            "Accuracy of the network on the 10000 test images: 74.580 %\n",
            "[20,   391] loss: 0.127 Acc: 77.710\n",
            "Accuracy of the network on the 10000 test images: 74.870 %\n",
            "[21,   391] loss: 0.124 Acc: 78.114\n",
            "Accuracy of the network on the 10000 test images: 75.670 %\n",
            "[22,   391] loss: 0.122 Acc: 78.868\n",
            "Accuracy of the network on the 10000 test images: 76.170 %\n",
            "[23,   391] loss: 0.118 Acc: 79.300\n",
            "Accuracy of the network on the 10000 test images: 76.440 %\n",
            "Accuracy of the network on the 10000 test images: 76.510 %\n",
            "[25,   391] loss: 0.114 Acc: 80.080\n",
            "Accuracy of the network on the 10000 test images: 76.820 %\n",
            "[26,   391] loss: 0.111 Acc: 80.678\n",
            "Accuracy of the network on the 10000 test images: 77.440 %\n",
            "[27,   391] loss: 0.109 Acc: 80.924\n",
            "Accuracy of the network on the 10000 test images: 77.150 %\n",
            "[28,   391] loss: 0.106 Acc: 81.504\n",
            "Accuracy of the network on the 10000 test images: 76.750 %\n",
            "[29,   391] loss: 0.104 Acc: 81.700\n",
            "Accuracy of the network on the 10000 test images: 78.290 %\n",
            "[30,   391] loss: 0.103 Acc: 82.018\n",
            "Accuracy of the network on the 10000 test images: 77.770 %\n",
            "[31,   391] loss: 0.101 Acc: 82.292\n",
            "Accuracy of the network on the 10000 test images: 78.270 %\n",
            "[32,   391] loss: 0.099 Acc: 82.672\n",
            "Accuracy of the network on the 10000 test images: 77.990 %\n",
            "[33,   391] loss: 0.097 Acc: 83.118\n",
            "Accuracy of the network on the 10000 test images: 78.910 %\n",
            "[34,   391] loss: 0.095 Acc: 83.430\n",
            "Accuracy of the network on the 10000 test images: 78.550 %\n",
            "[35,   391] loss: 0.093 Acc: 83.842\n",
            "Accuracy of the network on the 10000 test images: 79.190 %\n",
            "[36,   391] loss: 0.092 Acc: 83.840\n",
            "Accuracy of the network on the 10000 test images: 79.060 %\n",
            "[37,   391] loss: 0.090 Acc: 84.374\n",
            "Accuracy of the network on the 10000 test images: 79.250 %\n",
            "[38,   391] loss: 0.090 Acc: 84.490\n",
            "Accuracy of the network on the 10000 test images: 79.850 %\n",
            "[39,   391] loss: 0.089 Acc: 84.406\n",
            "Accuracy of the network on the 10000 test images: 79.140 %\n",
            "[40,   391] loss: 0.087 Acc: 84.750\n",
            "Accuracy of the network on the 10000 test images: 79.840 %\n"
          ],
          "name": "stdout"
        }
      ]
    },
    {
      "cell_type": "markdown",
      "metadata": {
        "id": "YLrvL_fHpoC5",
        "colab_type": "text"
      },
      "source": [
        "5. Test the network on the test data\n",
        "^^^^^^^^^^^^^^^^^^^^^^^^^^^^^^^^^^^^\n",
        "\n",
        "We have trained the network for 2 passes over the training dataset.\n",
        "But we need to check if the network has learnt anything at all.\n",
        "\n",
        "We will check this by predicting the class label that the neural network\n",
        "outputs, and checking it against the ground-truth. If the prediction is\n",
        "correct, we add the sample to the list of correct predictions.\n",
        "\n",
        "Okay, first step. Let us display an image from the test set to get familiar.\n",
        "\n"
      ]
    },
    {
      "cell_type": "code",
      "metadata": {
        "id": "soXz-NA_l5dS",
        "colab_type": "code",
        "colab": {
          "base_uri": "https://localhost:8080/",
          "height": 372
        },
        "outputId": "7547e824-d5a8-4647-ada2-5fdfc530fcb6"
      },
      "source": [
        "for epoch in range(40,50):  # loop over the dataset multiple times\n",
        "\n",
        "    running_loss = 0.0\n",
        "    correct = 0\n",
        "    processed = 0\n",
        "    for i, data in enumerate(trainloader, 0):\n",
        "        # get the inputs\n",
        "        inputs, labels = data\n",
        "        inputs,labels = inputs.to(device), labels.to(device)\n",
        "\n",
        "        # zero the parameter gradients\n",
        "        optimizer.zero_grad()\n",
        "\n",
        "        # forward + backward + optimize\n",
        "        outputs = net(inputs)\n",
        "        loss = criterion(outputs, labels) # CrossEntropyLoss\n",
        "        loss.backward()\n",
        "        optimizer.step() # SGD\n",
        "\n",
        "        # print statistics\n",
        "        running_loss += loss.item()\n",
        "\n",
        "        pred = outputs.argmax(dim=1, keepdim=True)  # get the index of the max log-probability\n",
        "        correct += pred.eq(labels.view_as(pred)).sum().item()\n",
        "        processed += len(inputs)\n",
        "\n",
        "        if i == minibatches:    # print every  mini-batches\n",
        "            print('[%d, %5d] loss: %.3f Acc: %.3f' %(epoch + 1, i + 1, running_loss / 2000,100*correct/processed ))\n",
        "            running_loss = 0.0\n",
        "\n",
        "\n",
        "            outputs = net(images.to(device))\n",
        "            _, predicted = torch.max(outputs, 1)\n",
        "\n",
        "            #print('Predicted: ', ' '.join('%5s' % classes[predicted[j]]for j in range(4)))\n",
        "            correct = 0\n",
        "            total = 0\n",
        "            with torch.no_grad():\n",
        "                for data in testloader:\n",
        "                    images, labels = data\n",
        "                    images, labels = images.to(device), labels.to(device)\n",
        "                    outputs = net(images)\n",
        "                    _, predicted = torch.max(outputs.data, 1)\n",
        "                    total += labels.size(0)\n",
        "                    correct += (predicted == labels).sum().item()\n",
        "\n",
        "            print('Accuracy of the network on the 10000 test images: %.3f %%' % (\n",
        "                100 * correct / total))"
      ],
      "execution_count": 34,
      "outputs": [
        {
          "output_type": "stream",
          "text": [
            "[41,   391] loss: 0.084 Acc: 85.488\n",
            "Accuracy of the network on the 10000 test images: 79.510 %\n",
            "[42,   391] loss: 0.084 Acc: 85.354\n",
            "Accuracy of the network on the 10000 test images: 79.770 %\n",
            "[43,   391] loss: 0.082 Acc: 85.742\n",
            "Accuracy of the network on the 10000 test images: 80.380 %\n",
            "[44,   391] loss: 0.080 Acc: 86.006\n",
            "Accuracy of the network on the 10000 test images: 80.090 %\n",
            "[45,   391] loss: 0.079 Acc: 86.300\n",
            "Accuracy of the network on the 10000 test images: 79.900 %\n",
            "[46,   391] loss: 0.079 Acc: 86.254\n",
            "Accuracy of the network on the 10000 test images: 80.450 %\n",
            "[47,   391] loss: 0.078 Acc: 86.478\n",
            "Accuracy of the network on the 10000 test images: 80.350 %\n",
            "[48,   391] loss: 0.077 Acc: 86.772\n",
            "Accuracy of the network on the 10000 test images: 80.900 %\n",
            "[49,   391] loss: 0.076 Acc: 86.794\n",
            "Accuracy of the network on the 10000 test images: 81.420 %\n",
            "[50,   391] loss: 0.075 Acc: 86.744\n",
            "Accuracy of the network on the 10000 test images: 80.350 %\n"
          ],
          "name": "stdout"
        }
      ]
    },
    {
      "cell_type": "code",
      "metadata": {
        "id": "nizbsvw9poC6",
        "colab_type": "code",
        "outputId": "567fc805-d113-4db7-a16d-5c7b962bfa17",
        "colab": {
          "base_uri": "https://localhost:8080/",
          "height": 304
        }
      },
      "source": [
        "dataiter = iter(testloader)\n",
        "images, labels = dataiter.next()\n",
        "# print images\n",
        "imshow(torchvision.utils.make_grid(images))\n",
        "print('GroundTruth: ', ' '.join('%5s' % classes[labels[j]] for j in range(4)))"
      ],
      "execution_count": 35,
      "outputs": [
        {
          "output_type": "stream",
          "text": [
            "(3, 546, 274) (546, 274, 3)\n",
            "GroundTruth:    dog plane  bird horse\n"
          ],
          "name": "stdout"
        },
        {
          "output_type": "display_data",
          "data": {
            "image/png": "[encoded data removed]",
            "text/plain": [
              "<Figure size 432x288 with 1 Axes>"
            ]
          },
          "metadata": {
            "tags": []
          }
        }
      ]
    },
    {
      "cell_type": "markdown",
      "metadata": {
        "id": "DAx4QPHVpoC8",
        "colab_type": "text"
      },
      "source": [
        "Okay, now let us see what the neural network thinks these examples above are:\n",
        "\n"
      ]
    },
    {
      "cell_type": "code",
      "metadata": {
        "id": "HVLjlssWpoC9",
        "colab_type": "code",
        "colab": {}
      },
      "source": [
        "\n",
        "outputs = net(images.to(device))"
      ],
      "execution_count": 0,
      "outputs": []
    },
    {
      "cell_type": "markdown",
      "metadata": {
        "id": "u8OTHZEApoC_",
        "colab_type": "text"
      },
      "source": [
        "The outputs are energies for the 10 classes.\n",
        "Higher the energy for a class, the more the network\n",
        "thinks that the image is of the particular class.\n",
        "So, let's get the index of the highest energy:\n",
        "\n"
      ]
    },
    {
      "cell_type": "code",
      "metadata": {
        "id": "ABRIDW3lpoDA",
        "colab_type": "code",
        "outputId": "9cafde8d-bcaa-424b-8f58-1bdccc3a1af5",
        "colab": {
          "base_uri": "https://localhost:8080/",
          "height": 34
        }
      },
      "source": [
        "_, predicted = torch.max(outputs, 1)\n",
        "\n",
        "print('Predicted: ', ' '.join('%5s' % classes[predicted[j]]\n",
        "                              for j in range(4)))"
      ],
      "execution_count": 37,
      "outputs": [
        {
          "output_type": "stream",
          "text": [
            "Predicted:    dog plane  bird horse\n"
          ],
          "name": "stdout"
        }
      ]
    },
    {
      "cell_type": "markdown",
      "metadata": {
        "id": "2TV0TXL1poDC",
        "colab_type": "text"
      },
      "source": [
        "The results seem pretty good.\n",
        "\n",
        "Let us look at how the network performs on the whole dataset.\n",
        "\n"
      ]
    },
    {
      "cell_type": "code",
      "metadata": {
        "id": "SZ4-5CESpoDD",
        "colab_type": "code",
        "outputId": "7ee97961-6b81-4127-aa94-d22f30b96a13",
        "colab": {
          "base_uri": "https://localhost:8080/",
          "height": 34
        }
      },
      "source": [
        "correct = 0\n",
        "total = 0\n",
        "with torch.no_grad():\n",
        "    for data in testloader:\n",
        "        images, labels = data\n",
        "        images, labels = images.to(device), labels.to(device)\n",
        "        outputs = net(images)\n",
        "        _, predicted = torch.max(outputs.data, 1)\n",
        "        total += labels.size(0)\n",
        "        correct += (predicted == labels).sum().item()\n",
        "\n",
        "print('Accuracy of the network on the 10000 test images: %.3f %%' % (\n",
        "    100 * correct / total))"
      ],
      "execution_count": 38,
      "outputs": [
        {
          "output_type": "stream",
          "text": [
            "Accuracy of the network on the 10000 test images: 80.520 %\n"
          ],
          "name": "stdout"
        }
      ]
    },
    {
      "cell_type": "markdown",
      "metadata": {
        "id": "eDdwPBl8poDF",
        "colab_type": "text"
      },
      "source": [
        "That looks waaay better than chance, which is 10% accuracy (randomly picking\n",
        "a class out of 10 classes).\n",
        "Seems like the network learnt something.\n",
        "\n",
        "Hmmm, what are the classes that performed well, and the classes that did\n",
        "not perform well:\n",
        "\n"
      ]
    },
    {
      "cell_type": "code",
      "metadata": {
        "id": "pDNFuDEDpoDG",
        "colab_type": "code",
        "outputId": "b4fb8955-e909-40a9-f304-bf7403a479b5",
        "colab": {
          "base_uri": "https://localhost:8080/",
          "height": 194
        }
      },
      "source": [
        "class_correct = list(0. for i in range(10))\n",
        "class_total = list(0. for i in range(10))\n",
        "with torch.no_grad():\n",
        "    for data in testloader:\n",
        "        images, labels = data\n",
        "        images, labels = images.to(device), labels.to(device)\n",
        "        outputs = net(images)\n",
        "        _, predicted = torch.max(outputs, 1)\n",
        "        c = (predicted == labels).squeeze()\n",
        "        for i in range(4):\n",
        "            label = labels[i]\n",
        "            class_correct[label] += c[i].item()\n",
        "            class_total[label] += 1\n",
        "\n",
        "\n",
        "for i in range(10):\n",
        "    print('Accuracy of %5s : %2d %%' % (\n",
        "        classes[i], 100 * class_correct[i] / class_total[i]))"
      ],
      "execution_count": 39,
      "outputs": [
        {
          "output_type": "stream",
          "text": [
            "Accuracy of plane : 88 %\n",
            "Accuracy of   car : 76 %\n",
            "Accuracy of  bird : 55 %\n",
            "Accuracy of   cat : 46 %\n",
            "Accuracy of  deer : 75 %\n",
            "Accuracy of   dog : 65 %\n",
            "Accuracy of  frog : 87 %\n",
            "Accuracy of horse : 85 %\n",
            "Accuracy of  ship : 82 %\n",
            "Accuracy of truck : 96 %\n"
          ],
          "name": "stdout"
        }
      ]
    },
    {
      "cell_type": "code",
      "metadata": {
        "id": "wLztDnaVIgFn",
        "colab_type": "code",
        "colab": {}
      },
      "source": [
        ""
      ],
      "execution_count": 0,
      "outputs": []
    }
  ]
}