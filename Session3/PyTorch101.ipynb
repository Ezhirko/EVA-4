{
  "nbformat": 4,
  "nbformat_minor": 0,
  "metadata": {
    "colab": {
      "name": "Copy of EVA4 S3 PyTorch101.ipynb",
      "provenance": [],
      "collapsed_sections": [],
      "include_colab_link": true
    },
    "kernelspec": {
      "name": "python3",
      "display_name": "Python 3"
    },
    "accelerator": "GPU"
  },
  "cells": [
    {
      "cell_type": "markdown",
      "metadata": {
        "id": "view-in-github",
        "colab_type": "text"
      },
      "source": [
        "<a href=\"https://colab.research.google.com/github/Sushmitha-Katti/EVA-4/blob/master/week3/PyTorch101.ipynb\" target=\"_parent\"><img src=\"https://colab.research.google.com/assets/colab-badge.svg\" alt=\"Open In Colab\"/></a>"
      ]
    },
    {
      "cell_type": "markdown",
      "metadata": {
        "id": "_kYM3ylzYo1Q",
        "colab_type": "text"
      },
      "source": [
        "![PyTorch](https://devblogs.nvidia.com/wp-content/uploads/2017/04/pytorch-logo-dark.png)\n",
        "\n",
        "An open source machine learning framework that accelerates the path from research prototyping to production deployment.\n",
        "\n"
      ]
    },
    {
      "cell_type": "markdown",
      "metadata": {
        "id": "WcVqSTrWY6oz",
        "colab_type": "text"
      },
      "source": [
        "# Tensor - Pytorch's core data structure\n",
        "\n",
        "In Python we can create lists, lists of lists, lists of lists and so on. In NumPy there is a `numpy.ndarray` which represents `n`- dimensional array. In math there is a special name for the generalization of vectors and matrices to a higher dimensional space - a tensor\n",
        "\n",
        "Tensor is an entity with a defined number of dimensions called an order (rank). \n",
        "\n",
        "**Scalar** can be considered as a rank-0-tensor. \n",
        "\n",
        "**Vector** can be introduced as a rank-1-tensor. \n",
        "\n",
        "**Matrices** can be considered as a rank-2-tensor.\n",
        "\n",
        "# Tensor Basics\n",
        "\n",
        "Let's import the torch module first."
      ]
    },
    {
      "cell_type": "code",
      "metadata": {
        "id": "e-oFVL2tYYqp",
        "colab_type": "code",
        "colab": {}
      },
      "source": [
        "import numpy as np\n",
        "import torch"
      ],
      "execution_count": 0,
      "outputs": []
    },
    {
      "cell_type": "markdown",
      "metadata": {
        "id": "uGxuR5IEaFJa",
        "colab_type": "text"
      },
      "source": [
        "## Tensor Creation\n",
        "Let's view examples of matrices and tensors generation\n",
        "\n",
        "2-dimensional (rank-2) tensor of zeros:"
      ]
    },
    {
      "cell_type": "code",
      "metadata": {
        "id": "897JQc25aD3E",
        "colab_type": "code",
        "outputId": "a13a50b8-a4c3-4088-eedb-9ee96bb37aac",
        "colab": {
          "base_uri": "https://localhost:8080/",
          "height": 67
        }
      },
      "source": [
        "torch.zeros(3, 4)"
      ],
      "execution_count": 0,
      "outputs": [
        {
          "output_type": "execute_result",
          "data": {
            "text/plain": [
              "tensor([[0., 0., 0., 0.],\n",
              "        [0., 0., 0., 0.],\n",
              "        [0., 0., 0., 0.]])"
            ]
          },
          "metadata": {
            "tags": []
          },
          "execution_count": 14
        }
      ]
    },
    {
      "cell_type": "markdown",
      "metadata": {
        "id": "pujmpEBhaPRA",
        "colab_type": "text"
      },
      "source": [
        "Random rank-3 tensor:\n",
        "_read the print below and convince yourself how this is a rank-3-tensor and learn what those 2, 3, 4 values are there for_"
      ]
    },
    {
      "cell_type": "code",
      "metadata": {
        "id": "mBrznTNhaOL7",
        "colab_type": "code",
        "outputId": "dd651463-2bf9-4359-8c79-ccc94a47b023",
        "colab": {
          "base_uri": "https://localhost:8080/",
          "height": 134
        }
      },
      "source": [
        "torch.rand(2, 3, 4)"
      ],
      "execution_count": 0,
      "outputs": [
        {
          "output_type": "execute_result",
          "data": {
            "text/plain": [
              "tensor([[[0.0987, 0.7809, 0.8459, 0.6211],\n",
              "         [0.0461, 0.9516, 0.6230, 0.9399],\n",
              "         [0.4196, 0.6397, 0.5269, 0.5944]],\n",
              "\n",
              "        [[0.2695, 0.2468, 0.2180, 0.8245],\n",
              "         [0.2698, 0.6479, 0.5070, 0.6949],\n",
              "         [0.7116, 0.8713, 0.6034, 0.8120]]])"
            ]
          },
          "metadata": {
            "tags": []
          },
          "execution_count": 3
        }
      ]
    },
    {
      "cell_type": "markdown",
      "metadata": {
        "id": "kO4fIr15asdi",
        "colab_type": "text"
      },
      "source": [
        "I am hoping you have noticed 4-elements in a row, 3 rows making one block and there are 2 blocks. \n",
        "\n",
        "Random rank-4-tensor:"
      ]
    },
    {
      "cell_type": "code",
      "metadata": {
        "id": "KiCLvMGCaVZ3",
        "colab_type": "code",
        "outputId": "d5c01ff4-23be-4084-a143-b3e639ae1d5f",
        "colab": {
          "base_uri": "https://localhost:8080/",
          "height": 233
        }
      },
      "source": [
        "torch.rand(2, 2, 2, 3)"
      ],
      "execution_count": 0,
      "outputs": [
        {
          "output_type": "execute_result",
          "data": {
            "text/plain": [
              "tensor([[[[0.4238, 0.5172, 0.5660],\n",
              "          [0.7864, 0.2312, 0.8998]],\n",
              "\n",
              "         [[0.2318, 0.1947, 0.7657],\n",
              "          [0.6428, 0.7590, 0.3680]]],\n",
              "\n",
              "\n",
              "        [[[0.0699, 0.9107, 0.4747],\n",
              "          [0.0936, 0.4158, 0.0542]],\n",
              "\n",
              "         [[0.0143, 0.0524, 0.7135],\n",
              "          [0.9181, 0.2190, 0.3682]]]])"
            ]
          },
          "metadata": {
            "tags": []
          },
          "execution_count": 6
        }
      ]
    },
    {
      "cell_type": "markdown",
      "metadata": {
        "id": "lF6VL68s3AMV",
        "colab_type": "text"
      },
      "source": [
        "## Question 1:\n",
        "\n",
        "How many dimensions are there in a tensor defined as below?"
      ]
    },
    {
      "cell_type": "code",
      "metadata": {
        "id": "8IbXcI3x3Ibt",
        "colab_type": "code",
        "outputId": "9680220e-c9f5-413e-9141-5a5763cc922a",
        "colab": {
          "base_uri": "https://localhost:8080/",
          "height": 34
        }
      },
      "source": [
        "torch.rand(1, 1, 1, 1)\n",
        "\n",
        "#Solution : 4 dimensions\n"
      ],
      "execution_count": 0,
      "outputs": [
        {
          "output_type": "execute_result",
          "data": {
            "text/plain": [
              "tensor([[[[0.7166]]]])"
            ]
          },
          "metadata": {
            "tags": []
          },
          "execution_count": 4
        }
      ]
    },
    {
      "cell_type": "markdown",
      "metadata": {
        "id": "qmgpqssRa9jF",
        "colab_type": "text"
      },
      "source": [
        ".\n",
        "\n",
        "---\n",
        "\n",
        "\n",
        "There are many more ways to create tensor using some restrictions on values it should contatn - for the full reference, please follow the [official docs](https://pytorch.org/docs/stable/torch.html#creation-ops). \n",
        "\n",
        "\n",
        ".\n",
        "---\n",
        "\n",
        "\n",
        "# Python / NumPy / Pytorch interoperability\n",
        "\n",
        "You can create tensors from python as well as numpy arrays. You can also convert torch tensors to numpy arrays. So, the interoperability between torch and numpy is pretty good. "
      ]
    },
    {
      "cell_type": "code",
      "metadata": {
        "id": "ipgpeWPfa6gE",
        "colab_type": "code",
        "outputId": "ef46a535-ebe6-45a9-a12c-8864a9c22a33",
        "colab": {
          "base_uri": "https://localhost:8080/",
          "height": 118
        }
      },
      "source": [
        "# Simple Python List\n",
        "python_list = [1, 2]\n",
        "\n",
        "# Create a numpy array from python list\n",
        "numpy_array = np.array(python_list)\n",
        "\n",
        "# Create a torch Tensor from python list\n",
        "tensor_from_list = torch.tensor(python_list)\n",
        "\n",
        "# Create a torch Tensor from Numpy array\n",
        "tensor_from_array = torch.tensor(numpy_array)\n",
        "\n",
        "# Another way to create a torch Tensor from Numpy array (share same storage)\n",
        "tensor_from_array_v2 = torch.from_numpy(numpy_array)\n",
        "\n",
        "# Convert torch tensor to numpy array\n",
        "array_from_tensor = tensor_from_array.numpy()\n",
        "\n",
        "print('List:   ', python_list)\n",
        "print('Array:  ', numpy_array)\n",
        "print('Tensor: ', tensor_from_list)\n",
        "print('Tensor: ', tensor_from_array)\n",
        "print('Tensor: ', tensor_from_array_v2)\n",
        "print('Array:  ', array_from_tensor)"
      ],
      "execution_count": 0,
      "outputs": [
        {
          "output_type": "stream",
          "text": [
            "List:    [1, 2]\n",
            "Array:   [1 2]\n",
            "Tensor:  tensor([1, 2])\n",
            "Tensor:  tensor([1, 2])\n",
            "Tensor:  tensor([1, 2])\n",
            "Array:   [1 2]\n"
          ],
          "name": "stdout"
        }
      ]
    },
    {
      "cell_type": "markdown",
      "metadata": {
        "id": "X_x-86B8gqik",
        "colab_type": "text"
      },
      "source": [
        "**Difference between** `torch.Tensor` **and** `torch.from_numpy`\n",
        "\n",
        "Pytorch aims to be an effective library for computations. What does it mean? It means that pytorch avoids memory copying if it can. "
      ]
    },
    {
      "cell_type": "code",
      "metadata": {
        "id": "eHCKDGpygn_d",
        "colab_type": "code",
        "outputId": "a5a7fe2d-a6d2-4166-b16e-dd5b0f7f6570",
        "colab": {
          "base_uri": "https://localhost:8080/",
          "height": 84
        }
      },
      "source": [
        "numpy_array[0] = 10\n",
        "\n",
        "print('Array:  ', numpy_array)\n",
        "print('Tensor: ', tensor_from_array)\n",
        "print('Tensor: ', tensor_from_array_v2) #from_numpy- same memory different refferences\n",
        "                                        #torch.tensor-different memory different reference\n",
        "print(type(tensor_from_array_v2),type(tensor_from_array))"
      ],
      "execution_count": 0,
      "outputs": [
        {
          "output_type": "stream",
          "text": [
            "Array:   [10  2]\n",
            "Tensor:  tensor([1, 2])\n",
            "Tensor:  tensor([10,  2])\n",
            "<class 'torch.Tensor'> <class 'torch.Tensor'>\n"
          ],
          "name": "stdout"
        }
      ]
    },
    {
      "cell_type": "markdown",
      "metadata": {
        "id": "-CKtdNRM3SMp",
        "colab_type": "text"
      },
      "source": [
        "## Question 2:\n",
        "\n",
        "Assume that we moved our complete (cats vs dogs) image dataset to numpy arrays. Then we use torch.from_numpy to convert these images to tensor. Then we apply a specific data augmentation strategy called \"CutOut\" which blocks a portion of the image directly on these tensors. What will happen to the accuracy of a model trained on this strategy compared to the one without this strategy? CutOut strategy is shown below: \n",
        "\n",
        "![CutOut](https://encrypted-tbn0.gstatic.com/images?q=tbn%3AANd9GcSnSyN835AmtQPKQbPjDHX-FmshNilbtexX95cRGQPwl56QCGDn)\n",
        "\n",
        "Data Augumentation - Data augmentation is a strategy that enables practitioners to significantly increase the diversity of data available for training models, without actually collecting new data. Some Of the data agumentation techniques are crop,scale,rotate,flip,cut out. \n",
        "##CutOut \n",
        "\n",
        "This technique helps to avoid overfitting,improve the robustness and overall performance of convolutional neural networks.\n",
        "There is no additional computational cost as well.\n",
        "\n",
        "\n",
        "\n",
        "## Question 3:\n",
        "Why do you think we are observing this behavior?\n",
        "\n",
        "##Solution\n",
        "When we have less data this technique helps to increase the dataset by diversing the features of the same image.CutOut forces models to take more of the full image context into consideration,rather than focusing on a few key visualfeatures,which may not always be present\n",
        "Cutout Regularization will force the model to look at other details of the image.\n",
        "\n",
        "---\n",
        "\n",
        "\n"
      ]
    },
    {
      "cell_type": "markdown",
      "metadata": {
        "id": "dZq7O-aihSOA",
        "colab_type": "text"
      },
      "source": [
        "We have two different ways to create tensor from its NumPy counterpart - one copies memory and another one shares the same underlying storage. It works in the opposite way:"
      ]
    },
    {
      "cell_type": "code",
      "metadata": {
        "id": "TNFOwV8EhPwQ",
        "colab_type": "code",
        "outputId": "cf57f289-2fab-4dc4-aaa1-4145c4f67eb3",
        "colab": {
          "base_uri": "https://localhost:8080/",
          "height": 118
        }
      },
      "source": [
        "array_from_tensor = tensor_from_array.numpy() #tensor_from_array id created from torch.tensor\n",
        "print('Tensor: ', tensor_from_array)\n",
        "print('Array: ', array_from_tensor) #.numpy shares same storage\n",
        "\n",
        "tensor_from_array[0] = 11\n",
        "print('Tensor: ', tensor_from_array)\n",
        "print('Array: ', array_from_tensor)\n",
        "print(type(tensor_from_array))\n",
        "array_from_tensor[1] = 11\n",
        "print('Tensor: ', tensor_from_array)"
      ],
      "execution_count": 0,
      "outputs": [
        {
          "output_type": "stream",
          "text": [
            "Tensor:  tensor([11,  2])\n",
            "Array:  [11  2]\n",
            "Tensor:  tensor([11,  2])\n",
            "Array:  [11  2]\n",
            "<class 'torch.Tensor'>\n",
            "Tensor:  tensor([11, 11])\n"
          ],
          "name": "stdout"
        }
      ]
    },
    {
      "cell_type": "markdown",
      "metadata": {
        "id": "UM9ytbvKhtCw",
        "colab_type": "text"
      },
      "source": [
        "## Data types\n",
        "\n",
        "The basic data type of all Deep Learning-related operations is float, but sometimes you may need something else. Pytorch support different number types for its tensors the same way NumPy does it - by specifying the data type on tensor creation or via casting. Ths full list of supported data types can be found [here](https://pytorch.org/docs/stable/tensors.html). "
      ]
    },
    {
      "cell_type": "code",
      "metadata": {
        "id": "Bd6WkzJ4hpYi",
        "colab_type": "code",
        "outputId": "44af33eb-f027-4e19-f4f6-08cd9010b5fc",
        "colab": {
          "base_uri": "https://localhost:8080/",
          "height": 151
        }
      },
      "source": [
        "tensor = torch.zeros(2, 2)\n",
        "print('Tensor with default type: ', tensor)\n",
        "tensor = torch.zeros(2, 2, dtype=torch.float16)\n",
        "print('Tensor with 16-bit float: ', tensor)\n",
        "tensor = torch.zeros(2, 2, dtype=torch.int16)\n",
        "print('Tensor with integers: ', tensor)\n",
        "tensor = torch.zeros(2, 2, dtype=torch.bool)\n",
        "print('Tensor with boolean data: ', tensor)"
      ],
      "execution_count": 0,
      "outputs": [
        {
          "output_type": "stream",
          "text": [
            "Tensor with default type:  tensor([[0., 0.],\n",
            "        [0., 0.]])\n",
            "Tensor with 16-bit float:  tensor([[0., 0.],\n",
            "        [0., 0.]], dtype=torch.float16)\n",
            "Tensor with integers:  tensor([[0, 0],\n",
            "        [0, 0]], dtype=torch.int16)\n",
            "Tensor with boolean data:  tensor([[False, False],\n",
            "        [False, False]])\n"
          ],
          "name": "stdout"
        }
      ]
    },
    {
      "cell_type": "markdown",
      "metadata": {
        "id": "a9F4Dkdr40TE",
        "colab_type": "text"
      },
      "source": [
        "\n",
        "\n",
        "---\n",
        "\n",
        "\n",
        "## Question 4:\n",
        "We saw above that some times numpy and tensors share same storage and changing one changes the other. \n",
        "If we define a rank-2-tensor with ones (dtype of f16), and then convert it into a numpy data type using tensor.numpy() and store it in a variable called \"num\", and then we perform this operation `num = num * 0.5`, will the original tensor have 1.0s or 0.5s as its element values? \n",
        "\n",
        "##Solution:\n",
        "It remains as it is. So original tensor has 1s\n"
      ]
    },
    {
      "cell_type": "code",
      "metadata": {
        "id": "SPUKRDwejSn0",
        "colab_type": "code",
        "outputId": "cfa838e6-ae9a-4757-f68c-91a23be09392",
        "colab": {
          "base_uri": "https://localhost:8080/",
          "height": 286
        }
      },
      "source": [
        "a = torch.ones(3, 4)\n",
        "n = a.numpy()\n",
        "n = n*0.5\n",
        "print(a)             #Though both point to same memory, they are not same because, in python whenever its '=' sign means creating\n",
        "print(n)             #new object i.e in n = n*5 L.H.S is a new object that refers to different memory. Now 'a' is refering to same memory \n",
        "                    #But n reference has changed that's why it did  a didnot change. \n",
        "\n",
        "\n",
        "\n"
      ],
      "execution_count": 0,
      "outputs": [
        {
          "output_type": "stream",
          "text": [
            "tensor([[1., 1., 1., 1.],\n",
            "        [1., 1., 1., 1.],\n",
            "        [1., 1., 1., 1.]])\n",
            "[[0.5 0.5 0.5 0.5]\n",
            " [0.5 0.5 0.5 0.5]\n",
            " [0.5 0.5 0.5 0.5]]\n",
            "**********************************\n",
            "tensor([[1., 1., 1., 1.],\n",
            "        [1., 1., 1., 1.],\n",
            "        [1., 1., 1., 1.]])\n",
            "[[0.5 0.5 0.5 0.5]\n",
            " [0.5 0.5 0.5 0.5]\n",
            " [0.5 0.5 0.5 0.5]]\n",
            "tensor([[1., 1., 1., 1.],\n",
            "        [1., 1., 1., 1.],\n",
            "        [1., 1., 1., 1.]])\n"
          ],
          "name": "stdout"
        }
      ]
    },
    {
      "cell_type": "markdown",
      "metadata": {
        "id": "OiQt8Mmm51OE",
        "colab_type": "text"
      },
      "source": [
        "\n",
        "\n",
        "---\n",
        "\n",
        "## Question 5: \n",
        "If the operation `num = num*5` is changed to `num[:] = num*5` will the original tensor have 1.0s or 0.5s as its element values? \n",
        "##Solution\n",
        "Original Tensor have 0.5s as its element values.\n",
        "\n",
        "---\n",
        "\n"
      ]
    },
    {
      "cell_type": "code",
      "metadata": {
        "id": "IgQQJZPelc_l",
        "colab_type": "code",
        "outputId": "92540450-9fbd-4344-8be1-b1b3ededecc9",
        "colab": {
          "base_uri": "https://localhost:8080/",
          "height": 118
        }
      },
      "source": [
        "a = torch.ones(3, 4)\n",
        "n = a.numpy()\n",
        "n[:] =n* 0.5\n",
        "print(a)             #Same explaination, here n is refering to same memory. It didnot create new object. SO its value didnot change\n",
        "print(n)\n"
      ],
      "execution_count": 0,
      "outputs": [
        {
          "output_type": "stream",
          "text": [
            "tensor([[0.5000, 0.5000, 0.5000, 0.5000],\n",
            "        [0.5000, 0.5000, 0.5000, 0.5000],\n",
            "        [0.5000, 0.5000, 0.5000, 0.5000]])\n",
            "[[0.5 0.5 0.5 0.5]\n",
            " [0.5 0.5 0.5 0.5]\n",
            " [0.5 0.5 0.5 0.5]]\n"
          ],
          "name": "stdout"
        }
      ]
    },
    {
      "cell_type": "markdown",
      "metadata": {
        "id": "vzh8UB8KiVmb",
        "colab_type": "text"
      },
      "source": [
        "## Indexing\n",
        "\n",
        "Tensor provides access to its elements via the same `[]` operation as a regular python list or NumPy array. However, as you may recall from NumPy usage, the full power of math libraries is accessible only via vectorized operations, i.e. operations without explicit looping over all vector elements in python and using implicit optimized loops in C/C++/CUDA/Fortran/etc. available via special function calls. Pytorch employs the same paradigm and provides a wide range of vectorized operations. Let's take a look at some examples. \n",
        "\n",
        "Joining a list of tensors together with `torch.cat`"
      ]
    },
    {
      "cell_type": "code",
      "metadata": {
        "id": "GMaCDKPhiUAb",
        "colab_type": "code",
        "outputId": "bc0a7e9b-7197-402e-c826-925b38bd4a08",
        "colab": {
          "base_uri": "https://localhost:8080/",
          "height": 125
        }
      },
      "source": [
        "a = torch.zeros(3, 2)\n",
        "b = torch.ones(3, 2)\n",
        "print(torch.cat((a, b), dim=0))"
      ],
      "execution_count": 0,
      "outputs": [
        {
          "output_type": "stream",
          "text": [
            "tensor([[0., 0.],\n",
            "        [0., 0.],\n",
            "        [0., 0.],\n",
            "        [1., 1.],\n",
            "        [1., 1.],\n",
            "        [1., 1.]])\n"
          ],
          "name": "stdout"
        }
      ]
    },
    {
      "cell_type": "markdown",
      "metadata": {
        "id": "5bj4aeE86zdH",
        "colab_type": "text"
      },
      "source": [
        "\n",
        "\n",
        "---\n",
        "\n",
        "## Question 6: \n",
        "Is the transpose of concatenated a & b tensor on dimension 1, same as the contatenated tensor of a & b on dimension 0? \n",
        "\n",
        "## Solution:\n",
        "No. Their dimension is differnt.\n",
        "\n",
        "---\n",
        "\n"
      ]
    },
    {
      "cell_type": "code",
      "metadata": {
        "id": "G-zBfMFhqTfc",
        "colab_type": "code",
        "outputId": "640146ed-ac32-42da-b262-7a12c6e70920",
        "colab": {
          "base_uri": "https://localhost:8080/",
          "height": 185
        }
      },
      "source": [
        "a = torch.zeros(3, 2)\n",
        "b = torch.ones(3, 2)\n",
        "print(torch.cat((a, b), dim=0))\n",
        "print(torch.transpose(torch.cat((a,b), dim=1),1,0))"
      ],
      "execution_count": 0,
      "outputs": [
        {
          "output_type": "stream",
          "text": [
            "tensor([[0., 0.],\n",
            "        [0., 0.],\n",
            "        [0., 0.],\n",
            "        [1., 1.],\n",
            "        [1., 1.],\n",
            "        [1., 1.]])\n",
            "tensor([[0., 0., 0.],\n",
            "        [0., 0., 0.],\n",
            "        [1., 1., 1.],\n",
            "        [1., 1., 1.]])\n"
          ],
          "name": "stdout"
        }
      ]
    },
    {
      "cell_type": "markdown",
      "metadata": {
        "id": "0TXNne69j7LP",
        "colab_type": "text"
      },
      "source": [
        "Indexing with another tenxor/array:"
      ]
    },
    {
      "cell_type": "code",
      "metadata": {
        "id": "KiE-Fsi4jVd6",
        "colab_type": "code",
        "outputId": "baba0b81-9d68-4fe7-ba1a-240077d7bc07",
        "colab": {
          "base_uri": "https://localhost:8080/",
          "height": 118
        }
      },
      "source": [
        "a = torch.arange(start=0, end=10)\n",
        "indices = np.arange(0, 10) > 5\n",
        "print(\"array\",a)\n",
        "print(\"indices\",indices)\n",
        "print(\"a[indices]\",a[indices])\n",
        "\n",
        "print(\"************************************************\")\n",
        "indices = torch.arange(start=0, end=10) %5\n",
        "print(\"tensor-indices\",indices)\n",
        "print(\"a[indices]\",a[indices])"
      ],
      "execution_count": 0,
      "outputs": [
        {
          "output_type": "stream",
          "text": [
            "array tensor([0, 1, 2, 3, 4, 5, 6, 7, 8, 9])\n",
            "indices [False False False False False False  True  True  True  True]\n",
            "a[indices] tensor([6, 7, 8, 9])\n",
            "************************************************\n",
            "tensor-indices tensor([0, 1, 2, 3, 4, 0, 1, 2, 3, 4])\n",
            "a[indices] tensor([0, 1, 2, 3, 4, 0, 1, 2, 3, 4])\n"
          ],
          "name": "stdout"
        }
      ]
    },
    {
      "cell_type": "markdown",
      "metadata": {
        "id": "LS4dnlu47WQu",
        "colab_type": "text"
      },
      "source": [
        "\n",
        "\n",
        "---\n",
        "\n",
        "## Question 7:\n",
        "\n",
        "`a` is defined as `torch.arange(start=0, end=10)`. We will create `b` using the two operations as below. In both cases do we get the same value?\n",
        "\n",
        "\n",
        "1.   indices variable created by the modulo operation on arange between 0 and 10. Then a new varialble `b` is created from `a` using the last 5 elements of indices. \n",
        "2.   indices variable created by the modulo operation on arange betwenn 1 and 11. Then a new varialble `b` is created from `a` using the last 5 elements of indices. \n",
        "\n",
        "## Solution: \n",
        "Sometimes yes(till 5). But not all the time.\n",
        "If yes also only the values are same but not the order.\n",
        "\n",
        "\n",
        "\n",
        "---\n",
        "\n",
        "\n"
      ]
    },
    {
      "cell_type": "code",
      "metadata": {
        "id": "i8sdlYsXsszK",
        "colab_type": "code",
        "outputId": "911421e6-ebcf-4649-df78-049e253ddbd1",
        "colab": {
          "base_uri": "https://localhost:8080/",
          "height": 34
        }
      },
      "source": [
        "a = torch.arange(start=0,end=10)\n",
        "indices1 = np.arange(0, 10) % 6\n",
        "indices2 = np.arange(1, 11) % 6\n",
        "print(a[indices1],a[indices2])"
      ],
      "execution_count": 0,
      "outputs": [
        {
          "output_type": "stream",
          "text": [
            "tensor([0, 1, 2, 3, 4, 5, 0, 1, 2, 3]) tensor([1, 2, 3, 4, 5, 0, 1, 2, 3, 4])\n"
          ],
          "name": "stdout"
        }
      ]
    },
    {
      "cell_type": "markdown",
      "metadata": {
        "id": "eQ4ZCVsTk-KH",
        "colab_type": "text"
      },
      "source": [
        "What should we do if we have, say, rank-2-tensor and want to select only some rows?"
      ]
    },
    {
      "cell_type": "code",
      "metadata": {
        "id": "_GtRpotjkt1q",
        "colab_type": "code",
        "outputId": "4d67adb5-db44-4285-fd61-e1e1290aa60c",
        "colab": {
          "base_uri": "https://localhost:8080/",
          "height": 185
        }
      },
      "source": [
        "tensor = torch.rand((5, 3))\n",
        "rows = torch.tensor([0, 2])\n",
        "print(tensor)\n",
        "print(rows)\n",
        "print(tensor[rows])\n",
        "print(tensor[0:2])"
      ],
      "execution_count": 0,
      "outputs": [
        {
          "output_type": "stream",
          "text": [
            "tensor([[0.8120, 0.7163, 0.8440],\n",
            "        [0.6048, 0.1781, 0.6927],\n",
            "        [0.8233, 0.8755, 0.8805],\n",
            "        [0.4594, 0.2830, 0.8046],\n",
            "        [0.6217, 0.0209, 0.5418]])\n",
            "tensor([0, 2])\n",
            "tensor([[0.8120, 0.7163, 0.8440],\n",
            "        [0.8233, 0.8755, 0.8805]])\n",
            "tensor([[0.8120, 0.7163, 0.8440],\n",
            "        [0.6048, 0.1781, 0.6927]])\n"
          ],
          "name": "stdout"
        }
      ]
    },
    {
      "cell_type": "markdown",
      "metadata": {
        "id": "zIJnr_N2_Qaf",
        "colab_type": "text"
      },
      "source": [
        "\n",
        "\n",
        "---\n",
        "\n",
        "## Question 8: \n",
        "\n",
        "Consider a tensor defined as `torch.rand((6, 5))`. Is the shape of the new tensor created by taking the 0th, 2nd and 4th row of the old tensor same as the shape of the a newer tensor created by taking the 0th, 2nd and 4th row of the old tensor after transposing it by operation `torch.transpose(tensor, 0, 1)` ?\n",
        "\n",
        "## Solution:\n",
        "No\n",
        "\n",
        "---\n",
        "\n",
        "\n"
      ]
    },
    {
      "cell_type": "code",
      "metadata": {
        "id": "ZU9K3SQDvMeX",
        "colab_type": "code",
        "outputId": "2a00419c-922f-43a6-b794-25f1df06934f",
        "colab": {
          "base_uri": "https://localhost:8080/",
          "height": 118
        }
      },
      "source": [
        "tensor = torch.rand((6,5))\n",
        "rows = torch.tensor([0, 2, 4])\n",
        "new_tensor = tensor[rows] #Shape = 3*5\n",
        "new_tensor2 = torch.transpose(tensor, 0, 1)[rows] #Shape = 3*6\n",
        "print(new_tensor)\n",
        "print(new_tensor2)"
      ],
      "execution_count": 0,
      "outputs": [
        {
          "output_type": "stream",
          "text": [
            "tensor([[0.5905, 0.3325, 0.2013, 0.6247, 0.8747],\n",
            "        [0.9453, 0.9797, 0.6449, 0.8744, 0.1602],\n",
            "        [0.4711, 0.2072, 0.5989, 0.5237, 0.2588]])\n",
            "tensor([[0.5905, 0.7558, 0.9453, 0.4224, 0.4711, 0.4371],\n",
            "        [0.2013, 0.5041, 0.6449, 0.8076, 0.5989, 0.4190],\n",
            "        [0.8747, 0.8895, 0.1602, 0.1273, 0.2588, 0.6242]])\n"
          ],
          "name": "stdout"
        }
      ]
    },
    {
      "cell_type": "markdown",
      "metadata": {
        "id": "naDzFMkslU0b",
        "colab_type": "text"
      },
      "source": [
        "## Tensor Shapes\n",
        "\n",
        "Reshaping a tensor is a frequently used operation. We can change the shape of a tensor without the memory copying overhead. There are two methods for that: `reshape` and `view`. \n",
        "\n",
        "The difference is the following: \n",
        "\n",
        "\n",
        "*   view tries to return a tensor, and it shares the same memory with the original tensor. In case, if it cannot reuse the same memory due to [some reason](https://pytorch.org/docs/stable/tensors.html?highlight=view#torch.Tensor.view), it just fails. \n",
        "*   reshape always returns the tensor with the desired shape and tries to reuse the memory. If it cannot, it creates a copy\n",
        "\n",
        "Let's see with the help of an example:"
      ]
    },
    {
      "cell_type": "code",
      "metadata": {
        "id": "HClDkqLLlMJh",
        "colab_type": "code",
        "outputId": "667d2ea3-074a-4fcf-d684-ff49c7ace168",
        "colab": {
          "base_uri": "https://localhost:8080/",
          "height": 168
        }
      },
      "source": [
        "tensor = torch.rand(2, 3, 4)\n",
        "print('Pointer to data: ', tensor.data_ptr())\n",
        "print('Shape: ', tensor.shape)\n",
        "\n",
        "reshaped = tensor.reshape(24)\n",
        "\n",
        "view = tensor.view(3, 2, 4)\n",
        "print('Reshaped tensor - pointer to data', reshaped.data_ptr())\n",
        "print('Reshaped tensor shape ', reshaped.shape)\n",
        "\n",
        "print('Viewed tensor - pointer to data', view.data_ptr())\n",
        "print('Viewed tensor shape ', view.shape)\n",
        "\n",
        "assert tensor.data_ptr() == view.data_ptr() #An assertion is a sanity-check that you can turn on or turn off when you are done with your testing of the program.\n",
        "#The easiest way to think of an assertion is to liken it to a raise-if statement (or to be more accurate, a raise-if-not statement). An expression is tested, and if the result comes up false, an exception is raised.\n",
        "\n",
        "\n",
        "#flat converts ndarray to 1D array. It returns flatiter object which can be printed using loop\n",
        "assert np.all(np.equal(tensor.numpy().flat, reshaped.numpy().flat))\n",
        "\n",
        "#np. all() is a function that returns True when all elements of ndarray passed to the first parameter are True , and returns False otherwise. \n",
        "print('Original stride: ', tensor.stride()) #Stride is the jump necessary to go from one element to the next one in the specified dimension \n",
        "print('Reshaped stride: ', reshaped.stride()) #Stride not understood properly..........\n",
        "print('Viewed stride: ', view.stride())"
      ],
      "execution_count": 0,
      "outputs": [
        {
          "output_type": "stream",
          "text": [
            "Pointer to data:  93812864\n",
            "Shape:  torch.Size([2, 3, 4])\n",
            "Reshaped tensor - pointer to data 93812864\n",
            "Reshaped tensor shape  torch.Size([24])\n",
            "Viewed tensor - pointer to data 93812864\n",
            "Viewed tensor shape  torch.Size([3, 2, 4])\n",
            "Original stride:  (12, 4, 1)\n",
            "Reshaped stride:  (1,)\n",
            "Viewed stride:  (8, 4, 1)\n"
          ],
          "name": "stdout"
        }
      ]
    },
    {
      "cell_type": "markdown",
      "metadata": {
        "id": "jIN5jSppm4yC",
        "colab_type": "text"
      },
      "source": [
        "The basic rule about reshaping the tensor is definitely that you cannot change the total number of elements in it, so the product of all tensor's dimensions should always be the same. It gives us the ability to avoid specifying one dimension when reshaping the tensor - Pytorch can calculate it for us:"
      ]
    },
    {
      "cell_type": "code",
      "metadata": {
        "id": "e3D19ERFmzOl",
        "colab_type": "code",
        "outputId": "c03b4011-bc07-4902-813b-c7ad84102678",
        "colab": {
          "base_uri": "https://localhost:8080/",
          "height": 67
        }
      },
      "source": [
        "\n",
        "print(tensor.reshape(3, 2, 4).shape)\n",
        "print(tensor.reshape(3, 2, -1).shape)\n",
        "\n",
        "print(tensor.reshape(3, -1, 4).shape)\n",
        "\n"
      ],
      "execution_count": 0,
      "outputs": [
        {
          "output_type": "stream",
          "text": [
            "torch.Size([3, 2, 4])\n",
            "torch.Size([3, 2, 4])\n",
            "torch.Size([3, 2, 4])\n"
          ],
          "name": "stdout"
        }
      ]
    },
    {
      "cell_type": "markdown",
      "metadata": {
        "id": "ObgCQKUiETak",
        "colab_type": "text"
      },
      "source": [
        "\n",
        "\n",
        "---\n",
        "\n",
        "\n",
        "## Question 9:\n",
        "\n",
        "Consider a tensor `a` created with [1, 2, 3] and [1, 2, 3] of size (2, 3) is reshaped with operation `.reshape(-1, 2)`. Also consider a tensor `b` created with [[2, 1]] and of size (1, 2), later operated with `view(2, -1)` operation. \n",
        "\n",
        "If we do a dot product of a and b (using `torch.mm`) and perform the sum of all the elements (using `torch.sum`) what do we get? (enter int value without any decimal point in the quiz)\n",
        "\n",
        "## Solution :\n",
        "19\n",
        "\n",
        "\n",
        "---\n",
        "\n"
      ]
    },
    {
      "cell_type": "code",
      "metadata": {
        "id": "8XrO0iJGMYB2",
        "colab_type": "code",
        "outputId": "1275abd9-f071-47a7-81d5-533770c77a9a",
        "colab": {
          "base_uri": "https://localhost:8080/",
          "height": 67
        }
      },
      "source": [
        "a = torch.tensor([[1,2,3],[1,2,3]]).reshape(-1,2)\n",
        "print(a.shape)\n",
        "b = torch.tensor([[2,1]]).view(2,-1)\n",
        "print(b.shape)\n",
        "print(torch.sum(torch.mm(a,b)))"
      ],
      "execution_count": 0,
      "outputs": [
        {
          "output_type": "stream",
          "text": [
            "torch.Size([3, 2])\n",
            "torch.Size([2, 1])\n",
            "tensor(18)\n"
          ],
          "name": "stdout"
        }
      ]
    },
    {
      "cell_type": "markdown",
      "metadata": {
        "id": "mza7QPg3ndeV",
        "colab_type": "text"
      },
      "source": [
        "**Alternative ways to view tensors** - `expand` or `expand_as`.\n",
        "\n",
        "\n",
        "\n",
        "*   `expand` - requires the desired shape as an input\n",
        "*   `expand_as` - uses the shape of another tensor\n",
        "\n",
        "These operations \"repeat\" tensor's values along the specified axes without actually copying the data. \n",
        "\n",
        "As the documentation says, expand:\n",
        "\n",
        "\n",
        "> returns a new view of the self tensor with singleton dimensions expanded to a larger size. Tensor can be also expanded to a larger number of dimensions, and the new ones will be appended at the front. For the new dimensions, the size cannot be set to -1. \n",
        "\n",
        "**Use case:**\n",
        "\n",
        "\n",
        "\n",
        "*   index multi-channel tensor with single-channel mask - imagine a color image with 3 channels (RGB) and binary mask for the area of interest on that image. We cannot index the image with this kind of mask directly since the dimensions are different, but we can use `expand_as` operation to create a view of the mask that has the same dimensions as the image we want to apply it to, but has not copied the data. "
      ]
    },
    {
      "cell_type": "code",
      "metadata": {
        "id": "tzJXaQskOaCo",
        "colab_type": "code",
        "outputId": "df878903-c5f9-4ff6-8e01-85ec37c6fa8e",
        "colab": {
          "base_uri": "https://localhost:8080/",
          "height": 50
        }
      },
      "source": [
        "a = torch.tensor([[1],[3]]) #the single ton matrix shape can be alterd, other shape may be altered, if any row/column is not single ton then this doesnot work\n",
        "a.expand(2,3)\n"
      ],
      "execution_count": 0,
      "outputs": [
        {
          "output_type": "execute_result",
          "data": {
            "text/plain": [
              "tensor([[1, 1, 1],\n",
              "        [3, 3, 3]])"
            ]
          },
          "metadata": {
            "tags": []
          },
          "execution_count": 67
        }
      ]
    },
    {
      "cell_type": "code",
      "metadata": {
        "id": "iz33E-V7nPQT",
        "colab_type": "code",
        "outputId": "c4c184f3-c8da-45bd-baf4-79c4520b989a",
        "colab": {
          "base_uri": "https://localhost:8080/",
          "height": 612
        }
      },
      "source": [
        "\n",
        "#Didnot understood what it does ????????????????????????????\n",
        "%matplotlib inline\n",
        "from matplotlib import pyplot as plt\n",
        "\n",
        "# Create a black image\n",
        "image = torch.zeros(size=(3, 256, 256), dtype=torch.int)\n",
        "\n",
        "# Leave the borders and make the rest of the image Green\n",
        "image[1, 18:256 - 18, 18:256 - 18] = 255\n",
        "\n",
        "# Create a mask of the same size\n",
        "mask = torch.zeros(size=(256, 256), dtype=torch.bool)\n",
        "\n",
        "# Assuming the green region in the original image is the Region of interest, change the mask to white for that area\n",
        "mask[18:256 - 18, 18:256 - 18] = 1\n",
        "\n",
        "# Create a view of the mask with the same dimensions as the original image\n",
        "mask_expanded = mask.expand_as(image)\n",
        "print(mask_expanded.shape)\n",
        "\n",
        "mask_np = mask_expanded.numpy().transpose(1, 2, 0) * 255\n",
        "image_np = image.numpy().transpose(1, 2, 0)\n",
        "\n",
        "fig, ax = plt.subplots(1, 2)\n",
        "ax[0].imshow(image_np)\n",
        "ax[1].imshow(mask_np)\n",
        "plt.show()\n",
        "\n",
        "image[0, mask] += 128\n",
        "fig, ax = plt.subplots(1, 2)\n",
        "ax[0].imshow(image_np)\n",
        "ax[1].imshow(mask_np)\n",
        "plt.show()\n",
        "\n",
        "image[mask_expanded] += 140\n",
        "#image.clamp_(0, 255)\n",
        "fig, ax = plt.subplots(1, 2)\n",
        "ax[0].imshow(image_np)\n",
        "ax[1].imshow(mask_np)\n",
        "plt.show()"
      ],
      "execution_count": 0,
      "outputs": [
        {
          "output_type": "stream",
          "text": [
            "torch.Size([3, 256, 256])\n"
          ],
          "name": "stdout"
        },
        {
          "output_type": "display_data",
          "data": {
            "image/png": "[encoded data removed]",
            "text/plain": [
              "<Figure size 432x288 with 2 Axes>"
            ]
          },
          "metadata": {
            "tags": []
          }
        },
        {
          "output_type": "display_data",
          "data": {
            "image/png": "[encoded data removed]",
            "text/plain": [
              "<Figure size 432x288 with 2 Axes>"
            ]
          },
          "metadata": {
            "tags": []
          }
        },
        {
          "output_type": "stream",
          "text": [
            "Clipping input data to the valid range for imshow with RGB data ([0..1] for floats or [0..255] for integers).\n"
          ],
          "name": "stderr"
        },
        {
          "output_type": "display_data",
          "data": {
            "image/png": "[encoded data removed]",
            "text/plain": [
              "<Figure size 432x288 with 2 Axes>"
            ]
          },
          "metadata": {
            "tags": []
          }
        }
      ]
    },
    {
      "cell_type": "markdown",
      "metadata": {
        "id": "jiXBx0k3ptOI",
        "colab_type": "text"
      },
      "source": [
        "In the example above, one can also find a couple of useful tricks:\n",
        "\n",
        "\n",
        "*   `clamp` method and function is a Pytorch's analogue of NumPy's `clip` function\n",
        "*   many operations on tensors have in-place form, that does not return modified data, but change values in the tensor. The in-place version of the operation has trailing underscore according to Pytorch's naming convension - in the exmaple above it is `clamp_`\n",
        "*   tensors have the same indexing as Numpy's arrays - one can use `:` seperated range, negative indexes and so on.\n",
        "\n",
        "\n",
        ".\n",
        "\n",
        "\n",
        "---\n",
        "\n",
        "# Images and their representations\n",
        "\n",
        "Now, let's discuss images, their representations and how different Python librarties work with them. \n",
        "\n",
        "Probably, the most well-known library for image loading and simple processing is [Pillow](https://pillow.readthedocs.io/en/stable/). \n",
        "\n",
        "However, many people in deep learning area stick with OpenCV for image loading and processing with some usage of another libraries when it is justified by performance/functionality. This is because OpenCV is in general much faster than the other libraries. Here you can find a couple of benchmarks: \n",
        "\n",
        "*   https://www.kaggle.com/zfturbo/benchmark-2019-speed-of-image-reading\n",
        "*   https://github.com/albumentations-team/albumentations#benchmarking-results\n",
        "\n",
        "To sum up the benchmarks above, there are two most common image formats, PNG and JPEGs. If your data is in PNG format - use OpenCV to read it. If it is in JPEG - use libturbojpeg. For image processing, use OpenCV if possible. _We will be using PIL a lot along with these._\n",
        "\n",
        "As you will read the code from others, you may find out that some of them use Pillow/something else to read data. You should know, that color image representations in OpenCV and other libraries are different - OpenCV uses \"BGR\" channel order, while others use \"RGB\" one. \n",
        "\n",
        "To change \"BRG\" <-> \"RGB\" the only thing we need to do it to change channel order."
      ]
    },
    {
      "cell_type": "code",
      "metadata": {
        "id": "ZYv4sZMmpndu",
        "colab_type": "code",
        "outputId": "bd6ceac6-e2bb-40bc-8034-084a6ef204fa",
        "colab": {
          "base_uri": "https://localhost:8080/",
          "height": 186
        }
      },
      "source": [
        "%matplotlib inline\n",
        "from matplotlib import pyplot as plt\n",
        "import cv2\n",
        "\n",
        "\n",
        "bgr_image = cv2.imread('Mars.jfif') \n",
        "# remember to add your own image in case you run this block, if you want to use the same image, \n",
        "# download it from: \n",
        "print(bgr_image.shape)\n",
        "rgb_image = bgr_image[..., ::-1] #OPEN CV uses BGR representation, PIL uses RGB representation.\n",
        "print(rgb_image.shape)\n",
        "fig, ax = plt.subplots(1, 2)\n",
        "ax[0].imshow(bgr_image)\n",
        "ax[1].imshow(rgb_image)\n",
        "plt.show()\n",
        "# from google.colab.patches import cv2_imshow\n",
        "# fig, ax = plt.subplots(1, 2)\n",
        "# ax[0].cv2_imshow(bgr_image)\n",
        "# ax[1].cv2_imshow(rgb_image)\n",
        "# plt.show()\n",
        "# #cv2_imshow(rgb_image)"
      ],
      "execution_count": 0,
      "outputs": [
        {
          "output_type": "stream",
          "text": [
            "(450, 682, 3)\n",
            "(450, 682, 3)\n"
          ],
          "name": "stdout"
        },
        {
          "output_type": "display_data",
          "data": {
            "image/png": "[encoded data removed]",
            "text/plain": [
              "<Figure size 432x288 with 2 Axes>"
            ]
          },
          "metadata": {
            "tags": []
          }
        }
      ]
    },
    {
      "cell_type": "markdown",
      "metadata": {
        "id": "yoi4TeNBGHle",
        "colab_type": "text"
      },
      "source": [
        "\n",
        "\n",
        "---\n",
        "\n",
        "## Question 10:\n",
        "\n",
        "Looking at the results above it can be said that the pixel values in the blue channels would be very small compared to red channel. True/False?\n",
        "# Solution:\n",
        "\n",
        "\n",
        "\n",
        "Yes. When converted to rgb r values are swapped with blue so blue will be more in 1 case\n",
        "\n",
        "---\n",
        "\n",
        "\n"
      ]
    },
    {
      "cell_type": "markdown",
      "metadata": {
        "id": "b3ugFd57zNwa",
        "colab_type": "text"
      },
      "source": [
        "# Autograd\n",
        "\n",
        "Pytorch supports automatic differentiation. The module which implements this is called **AutoGrad**. It calculates the gradients and keeps track in forward and backward passes. For primitive tensors, you need to enable or disable it using the `required_grad` flag. But, for advanced tensors, it is enabled by default"
      ]
    },
    {
      "cell_type": "code",
      "metadata": {
        "id": "sO1TydO5csV3",
        "colab_type": "code",
        "outputId": "53496ecd-4790-4edf-cf87-aac5d0593da0",
        "colab": {
          "base_uri": "https://localhost:8080/",
          "height": 151
        }
      },
      "source": [
        "sample = torch.ones((3, 3), requires_grad = True)\n",
        "#t = torch.ones((3, 3), requires_grad = True)\n",
        "print(sample)\n",
        "result = sample **  5  \n",
        "result +=4  \n",
        "b =result.sum()\n",
        "print(b)\n",
        "#b.backward()   //d(r)/d(sample) = \n",
        "# print(b)\n",
        "# result = sample *4\n",
        "# b = result.sum()\n",
        "# result *=  t*10\n",
        "# b =result.sum()\n",
        "\n",
        "b.backward(create_graph = True)\n",
        "#b.backward(create_graph = True)\n",
        "\n",
        "\n",
        "\n",
        "\n",
        "\n",
        "print(sample.grad)\n",
        "print(b.grad)"
      ],
      "execution_count": 0,
      "outputs": [
        {
          "output_type": "stream",
          "text": [
            "tensor([[1., 1., 1.],\n",
            "        [1., 1., 1.],\n",
            "        [1., 1., 1.]], requires_grad=True)\n",
            "tensor(45., grad_fn=<SumBackward0>)\n",
            "tensor([[5., 5., 5.],\n",
            "        [5., 5., 5.],\n",
            "        [5., 5., 5.]], grad_fn=<CloneBackward>)\n",
            "None\n"
          ],
          "name": "stdout"
        }
      ]
    },
    {
      "cell_type": "code",
      "metadata": {
        "id": "VMOp4aiou6JR",
        "colab_type": "code",
        "outputId": "b12342b7-7de5-4deb-c931-5cee5f90eb72",
        "colab": {
          "base_uri": "https://localhost:8080/",
          "height": 185
        }
      },
      "source": [
        "a = torch.rand((3, 5), requires_grad = True)\n",
        "print(a)\n",
        "result = a * 5\n",
        "print(result)\n",
        "\n",
        "# grad can be implicitly created only for scalar outputs\n",
        "# so let's calculate the sum here so that the output becomes a scalar and we can apply a backward pass\n",
        "mean_result = result.sum()\n",
        "print(mean_result)\n",
        "# calculate gradient\n",
        "mean_result.backward()\n",
        "# print gradient of a\n",
        "print(a.grad)"
      ],
      "execution_count": 0,
      "outputs": [
        {
          "output_type": "stream",
          "text": [
            "tensor([[0.0841, 0.3649, 0.1252, 0.1546, 0.6832],\n",
            "        [0.2440, 0.3217, 0.1589, 0.3764, 0.2015],\n",
            "        [0.7608, 0.6018, 0.9185, 0.4745, 0.7665]], requires_grad=True)\n",
            "tensor([[0.4206, 1.8246, 0.6258, 0.7728, 3.4159],\n",
            "        [1.2200, 1.6083, 0.7945, 1.8820, 1.0076],\n",
            "        [3.8040, 3.0092, 4.5927, 2.3725, 3.8325]], grad_fn=<MulBackward0>)\n",
            "tensor(31.1829, grad_fn=<SumBackward0>)\n",
            "tensor([[5., 5., 5., 5., 5.],\n",
            "        [5., 5., 5., 5., 5.],\n",
            "        [5., 5., 5., 5., 5.]])\n"
          ],
          "name": "stdout"
        }
      ]
    },
    {
      "cell_type": "markdown",
      "metadata": {
        "id": "ym0Amk2IGfLx",
        "colab_type": "text"
      },
      "source": [
        "\n",
        "\n",
        "---\n",
        "\n",
        "## Question 11: \n",
        "\n",
        "Why the gradient of a is all 5s above?\n",
        "\n",
        "##Solution:\n",
        "\n",
        "Since the python auto grad keeps tracks of forward and backward passes. \n",
        "First a was initialized with required grad = True. It keeps tracks now\n",
        "Then a was multipled by 5 and assigned to result\n",
        "AS soon as it is backward\n",
        "a is differentiated\n",
        "So 5a by differentiation becomes 5. So it is 5.\n",
        "i.e. d(result)/d(a) = d(5*a)/d(a) = 5\n",
        "\n",
        "\n",
        "---\n",
        "\n"
      ]
    },
    {
      "cell_type": "markdown",
      "metadata": {
        "id": "7PDgGq2R0k7I",
        "colab_type": "text"
      },
      "source": [
        "As we see, Pytorch automagically calculated the gradient value for us. It looks to be the correct value - we multiplied an input by 5, so the gradient of this operation equals to 5.\n",
        "\n",
        "# Disabling Autograd for tensors\n",
        "\n",
        "We don't need to compute gradients for all the variables that are involved in the pipeline. The Pytorch API provides 2 ways to disable autograd.\n",
        "\n",
        "`detach` - returns a copy of the tensor with autograd disabled. This \n",
        "\n",
        "1.   copy is built on the same memory as the original tensor, so in-place size / stride / storage changes (such as resize_ / resizeas / set / transpose) modifications are not allowed.\n",
        "2.   torch.no_grad() - It is a context manager that allows you to guard a series of operations from autograd without creating new tensors."
      ]
    },
    {
      "cell_type": "code",
      "metadata": {
        "id": "yqVG9fQb0cLW",
        "colab_type": "code",
        "outputId": "c6ed97c3-b591-4a53-d11b-4b07ed050106",
        "colab": {
          "base_uri": "https://localhost:8080/",
          "height": 118
        }
      },
      "source": [
        "a = torch.rand((3, 5), requires_grad=True)\n",
        "detached_a = a.detach()\n",
        "detached_result = detached_a * 5\n",
        "result = a * 10\n",
        "# we cannot do backward pass that is required for autograd using multideminsional output,\n",
        "# so let's calculate the sum here\n",
        "mean_result = result.sum()\n",
        "mean_result.backward()\n",
        "print(a.grad)\n",
        "print(detached_a)"
      ],
      "execution_count": 0,
      "outputs": [
        {
          "output_type": "stream",
          "text": [
            "tensor([[10., 10., 10., 10., 10.],\n",
            "        [10., 10., 10., 10., 10.],\n",
            "        [10., 10., 10., 10., 10.]])\n",
            "tensor([[0.2956, 0.6017, 0.0285, 0.3416, 0.7203],\n",
            "        [0.6045, 0.1914, 0.5328, 0.0754, 0.7585],\n",
            "        [0.6801, 0.2495, 0.3864, 0.3534, 0.8077]])\n"
          ],
          "name": "stdout"
        }
      ]
    },
    {
      "cell_type": "code",
      "metadata": {
        "id": "uqpch2Be02J7",
        "colab_type": "code",
        "outputId": "0a5ee8e8-81b8-46f0-c7fc-ac406657e928",
        "colab": {
          "base_uri": "https://localhost:8080/",
          "height": 71
        }
      },
      "source": [
        "a = torch.rand((3, 5), requires_grad=True)\n",
        "with torch.no_grad():\n",
        "    detached_result = a * 5\n",
        "result = a * 10\n",
        "# we cannot do backward pass that is required for autograd using multideminsional output,\n",
        "# so let's calculate the sum here\n",
        "mean_result = result.sum()\n",
        "mean_result.backward()\n",
        "a.grad"
      ],
      "execution_count": 0,
      "outputs": [
        {
          "output_type": "execute_result",
          "data": {
            "text/plain": [
              "tensor([[10., 10., 10., 10., 10.],\n",
              "        [10., 10., 10., 10., 10.],\n",
              "        [10., 10., 10., 10., 10.]])"
            ]
          },
          "metadata": {
            "tags": []
          },
          "execution_count": 38
        }
      ]
    },
    {
      "cell_type": "markdown",
      "metadata": {
        "id": "vjh2rYOPJUAZ",
        "colab_type": "text"
      },
      "source": [
        "# Custom Network\n",
        "\n",
        "A fully-connected ReLU network with one hidden layer and no biases, trained to predict y from x by minimizing squared Euclidean distance.\n",
        "\n",
        "This implementation uses PyTorch tensors to manually compute the forward pass, loss, and backward pass.\n",
        "\n",
        "A PyTorch Tensor is basically the same as a numpy array: it does not know anything about deep learning or computational graphs or gradients, and is just a generic n-dimensional array to be used for arbitrary numeric computation.\n",
        "\n",
        "The biggest difference between a numpy array and a PyTorch Tensor is that a PyTorch Tensor can run on either CPU or GPU. To run operations on the GPU, just cast the Tensor to a cuda datatype."
      ]
    },
    {
      "cell_type": "code",
      "metadata": {
        "id": "aGqVve6Bunef",
        "colab_type": "code",
        "colab": {}
      },
      "source": [
        "dtype = torch.float\n",
        "#device = torch.device(\"cpu\")\n",
        "device = torch.device(\"cuda:0\") # Uncomment this to run on GPU\n",
        "\n",
        "# N is batch size; D_in is input dimension;\n",
        "# H is hidden dimension; D_out is output dimension.\n",
        "N, D_in, H, D_out = 64, 1000, 100, 10\n",
        "\n",
        "# Create random input and output data\n",
        "x = torch.randn(N, D_in, device=device, dtype=dtype)\n",
        "y = torch.randn(N, D_out, device=device, dtype=dtype)\n",
        "\n",
        "# Randomly initialize weights\n",
        "w1 = torch.randn(D_in, H, device=device, dtype=dtype)\n",
        "w2 = torch.randn(H, D_out, device=device, dtype=dtype)\n",
        "\n",
        "#print(x.shape)\n"
      ],
      "execution_count": 0,
      "outputs": []
    },
    {
      "cell_type": "code",
      "metadata": {
        "id": "0nf5RaB104Vp",
        "colab_type": "code",
        "outputId": "c8a52d2d-4447-4a59-9d82-1a5bb282db29",
        "colab": {
          "base_uri": "https://localhost:8080/",
          "height": 1000
        }
      },
      "source": [
        "# dtype = torch.float\n",
        "# #device = torch.device(\"cpu\")\n",
        "# device = torch.device(\"cuda:0\") # Uncomment this to run on GPU\n",
        "\n",
        "# # N is batch size; D_in is input dimension;\n",
        "# # H is hidden dimension; D_out is output dimension.\n",
        "# N, D_in, H, D_out = 64, 1000, 100, 10\n",
        "\n",
        "# # Create random input and output data\n",
        "# x = torch.randn(N, D_in, device=device, dtype=dtype)\n",
        "# y = torch.randn(N, D_out, device=device, dtype=dtype)\n",
        "\n",
        "# # Randomly initialize weights\n",
        "# w1 = torch.randn(D_in, H, device=device, dtype=dtype)\n",
        "# w2 = torch.randn(H, D_out, device=device, dtype=dtype)\n",
        "\n",
        "# #print(x.shape)\n",
        "\n",
        "learning_rate = 1e-6\n",
        "for t in range(500):\n",
        "    # Forward pass: compute predicted y\n",
        "    h = x.mm(w1)\n",
        "    h_relu = h.clamp(min=0) #This is exactly acts as relu\n",
        "    y_pred = h_relu.mm(w2)\n",
        "\n",
        "    # Compute and print loss          #X------> H-------> O\n",
        "    loss = (y_pred - y).pow(2).sum().item()\n",
        "    print(t, loss)\n",
        "\n",
        "    # Backprop to compute gradients of w1 and w2 with respect to loss\n",
        "    grad_y_pred = 2*(y_pred - y)\n",
        "    grad_w2 = h_relu.t().mm(grad_y_pred)\n",
        "    grad_h_relu = grad_y_pred.mm(w2.t())\n",
        "    grad_h = grad_h_relu.clone()\n",
        "    grad_h[h < 0] = 0\n",
        "    grad_w1 = x.t().mm(grad_h)\n",
        "\n",
        "    # Update weights using gradient descent\n",
        "    w1 -= learning_rate * grad_w1\n",
        "    w2 -= learning_rate * grad_w2"
      ],
      "execution_count": 0,
      "outputs": [
        {
          "output_type": "stream",
          "text": [
            "0 8.91093520749564e-07\n",
            "1 8.911991926652263e-07\n",
            "2 8.890327762856032e-07\n",
            "3 8.869623115970171e-07\n",
            "4 8.862236882123398e-07\n",
            "5 8.872647185853566e-07\n",
            "6 8.850720405462198e-07\n",
            "7 8.873399792719283e-07\n",
            "8 8.881108897185186e-07\n",
            "9 8.891384482012654e-07\n",
            "10 8.826794442029495e-07\n",
            "11 8.796957899903646e-07\n",
            "12 8.813922818262654e-07\n",
            "13 8.808417533145985e-07\n",
            "14 8.75147065926285e-07\n",
            "15 8.73215014962625e-07\n",
            "16 8.699508953213808e-07\n",
            "17 8.719728157302598e-07\n",
            "18 8.718251365280594e-07\n",
            "19 8.718696449250274e-07\n",
            "20 8.691904440638609e-07\n",
            "21 8.741575925341749e-07\n",
            "22 8.730476679374988e-07\n",
            "23 8.788708782958565e-07\n",
            "24 8.758468084124615e-07\n",
            "25 8.732953347134753e-07\n",
            "26 8.789542107479065e-07\n",
            "27 8.804856861388544e-07\n",
            "28 8.804589697319898e-07\n",
            "29 8.795303756414796e-07\n",
            "30 8.786145144767943e-07\n",
            "31 8.756728675507475e-07\n",
            "32 8.754057034821017e-07\n",
            "33 8.792952144176525e-07\n",
            "34 8.813132694740489e-07\n",
            "35 8.773586728239025e-07\n",
            "36 8.773185413701867e-07\n",
            "37 8.699835234438069e-07\n",
            "38 8.709724852451473e-07\n",
            "39 8.730798981559929e-07\n",
            "40 8.725978659640532e-07\n",
            "41 8.732461083127419e-07\n",
            "42 8.735366918699583e-07\n",
            "43 8.73226440489816e-07\n",
            "44 8.716912134332233e-07\n",
            "45 8.706863354746019e-07\n",
            "46 8.732811238587601e-07\n",
            "47 8.707904726179549e-07\n",
            "48 8.745736295168172e-07\n",
            "49 8.71834686222428e-07\n",
            "50 8.718656090422883e-07\n",
            "51 8.719969173398567e-07\n",
            "52 8.684150429871806e-07\n",
            "53 8.699861950844934e-07\n",
            "54 8.715194894648448e-07\n",
            "55 8.647691061014484e-07\n",
            "56 8.67006406224391e-07\n",
            "57 8.650442282487347e-07\n",
            "58 8.689416404195072e-07\n",
            "59 8.693222071087803e-07\n",
            "60 8.625166856290889e-07\n",
            "61 8.605300081399037e-07\n",
            "62 8.610298891653656e-07\n",
            "63 8.614778153059888e-07\n",
            "64 8.616232776148536e-07\n",
            "65 8.595186500315322e-07\n",
            "66 8.604446293247747e-07\n",
            "67 8.5979968389438e-07\n",
            "68 8.543789817849756e-07\n",
            "69 8.553329280402977e-07\n",
            "70 8.559791240259074e-07\n",
            "71 8.584506758779753e-07\n",
            "72 8.658890351398441e-07\n",
            "73 8.639307793600892e-07\n",
            "74 8.617598723503761e-07\n",
            "75 8.618376909907965e-07\n",
            "76 8.580396979596117e-07\n",
            "77 8.611349926468392e-07\n",
            "78 8.612769875071535e-07\n",
            "79 8.605100560998835e-07\n",
            "80 8.609472956777608e-07\n",
            "81 8.647535878480994e-07\n",
            "82 8.65877609612653e-07\n",
            "83 8.642448392492952e-07\n",
            "84 8.652116321172798e-07\n",
            "85 8.609825385974545e-07\n",
            "86 8.614690614194842e-07\n",
            "87 8.610950317233801e-07\n",
            "88 8.572585556976264e-07\n",
            "89 8.573774721298832e-07\n",
            "90 8.586736157667474e-07\n",
            "91 8.606233450336731e-07\n",
            "92 8.609682708993205e-07\n",
            "93 8.588777973272954e-07\n",
            "94 8.594058726885123e-07\n",
            "95 8.605649099990842e-07\n",
            "96 8.619508662377484e-07\n",
            "97 8.610800819042197e-07\n",
            "98 8.556975217288709e-07\n",
            "99 8.555867907489301e-07\n",
            "100 8.566999554204813e-07\n",
            "101 8.577812309340516e-07\n",
            "102 8.506715971634549e-07\n",
            "103 8.512250246894837e-07\n",
            "104 8.464106144856487e-07\n",
            "105 8.476990274175478e-07\n",
            "106 8.44994644921826e-07\n",
            "107 8.473091952510003e-07\n",
            "108 8.484603881697694e-07\n",
            "109 8.511132705280033e-07\n",
            "110 8.533752975381503e-07\n",
            "111 8.49044567985402e-07\n",
            "112 8.507452093908796e-07\n",
            "113 8.465494829579256e-07\n",
            "114 8.448091648460831e-07\n",
            "115 8.465792689094087e-07\n",
            "116 8.510483553436643e-07\n",
            "117 8.504117090524232e-07\n",
            "118 8.527641739419778e-07\n",
            "119 8.536862878827378e-07\n",
            "120 8.53150822877069e-07\n",
            "121 8.513137572663254e-07\n",
            "122 8.461339007226343e-07\n",
            "123 8.43582029119716e-07\n",
            "124 8.441361387667712e-07\n",
            "125 8.417167123297986e-07\n",
            "126 8.395992381338147e-07\n",
            "127 8.420835229117074e-07\n",
            "128 8.38353116705548e-07\n",
            "129 8.36893150335527e-07\n",
            "130 8.34592356113717e-07\n",
            "131 8.357903880096273e-07\n",
            "132 8.306296876980923e-07\n",
            "133 8.278433369923732e-07\n",
            "134 8.281119789899094e-07\n",
            "135 8.300481795231462e-07\n",
            "136 8.305731853397447e-07\n",
            "137 8.296271971630631e-07\n",
            "138 8.323743259097682e-07\n",
            "139 8.334523045050446e-07\n",
            "140 8.312723593917326e-07\n",
            "141 8.303833283207496e-07\n",
            "142 8.302503715640341e-07\n",
            "143 8.277970096060017e-07\n",
            "144 8.283294619104709e-07\n",
            "145 8.265965902864991e-07\n",
            "146 8.264250368483772e-07\n",
            "147 8.268195870186901e-07\n",
            "148 8.282128192149685e-07\n",
            "149 8.282643193524564e-07\n",
            "150 8.308095402753679e-07\n",
            "151 8.355222007594421e-07\n",
            "152 8.373438049602555e-07\n",
            "153 8.362294465769082e-07\n",
            "154 8.343963600054849e-07\n",
            "155 8.313382977576111e-07\n",
            "156 8.311768624480464e-07\n",
            "157 8.303126151076867e-07\n",
            "158 8.316355888382532e-07\n",
            "159 8.279934604615846e-07\n",
            "160 8.276179528365901e-07\n",
            "161 8.284921477752505e-07\n",
            "162 8.246397555922158e-07\n",
            "163 8.211101771848917e-07\n",
            "164 8.239431394940766e-07\n",
            "165 8.253551300185791e-07\n",
            "166 8.23597076760052e-07\n",
            "167 8.206340567085135e-07\n",
            "168 8.191869369511551e-07\n",
            "169 8.201238301808189e-07\n",
            "170 8.211317208406399e-07\n",
            "171 8.154399893101072e-07\n",
            "172 8.17792340512824e-07\n",
            "173 8.165037570506684e-07\n",
            "174 8.176242545232526e-07\n",
            "175 8.207507562474348e-07\n",
            "176 8.203668926398677e-07\n",
            "177 8.236735880018387e-07\n",
            "178 8.164097948792914e-07\n",
            "179 8.136723863572115e-07\n",
            "180 8.134133508974628e-07\n",
            "181 8.147485459630843e-07\n",
            "182 8.175460379789001e-07\n",
            "183 8.172684147211839e-07\n",
            "184 8.218485163524747e-07\n",
            "185 8.219626010941283e-07\n",
            "186 8.188429205802095e-07\n",
            "187 8.192335485546209e-07\n",
            "188 8.159330491253058e-07\n",
            "189 8.195091254492581e-07\n",
            "190 8.207771315937862e-07\n",
            "191 8.183430963981664e-07\n",
            "192 8.155965929290687e-07\n",
            "193 8.131172535286169e-07\n",
            "194 8.124432042677654e-07\n",
            "195 8.189127811419894e-07\n",
            "196 8.231469337260933e-07\n",
            "197 8.236807502726151e-07\n",
            "198 8.229725949604472e-07\n",
            "199 8.218186167141539e-07\n",
            "200 8.209459565478028e-07\n",
            "201 8.173928449650703e-07\n",
            "202 8.17020520571532e-07\n",
            "203 8.16946169379662e-07\n",
            "204 8.158017976711562e-07\n",
            "205 8.165559393091826e-07\n",
            "206 8.136148608173244e-07\n",
            "207 8.132548714456789e-07\n",
            "208 8.126324928525719e-07\n",
            "209 8.081852911345777e-07\n",
            "210 8.106982249955763e-07\n",
            "211 8.110364433377981e-07\n",
            "212 8.149707468874112e-07\n",
            "213 8.132380457936961e-07\n",
            "214 8.141000762407202e-07\n",
            "215 8.146738537107012e-07\n",
            "216 8.131401614264178e-07\n",
            "217 8.120465508909547e-07\n",
            "218 8.158838227245724e-07\n",
            "219 8.163631264324067e-07\n",
            "220 8.171570016202168e-07\n",
            "221 8.137056966006639e-07\n",
            "222 8.087923788480111e-07\n",
            "223 8.059447509367601e-07\n",
            "224 8.067885346463299e-07\n",
            "225 8.099532351479866e-07\n",
            "226 8.070660442172084e-07\n",
            "227 8.048789936765388e-07\n",
            "228 8.049302664403513e-07\n",
            "229 8.04049079761171e-07\n",
            "230 7.979839438121417e-07\n",
            "231 7.971340210133349e-07\n",
            "232 7.958627747939317e-07\n",
            "233 7.956806484799017e-07\n",
            "234 7.960720722621772e-07\n",
            "235 7.931672598715522e-07\n",
            "236 7.943719992908882e-07\n",
            "237 7.98335406670958e-07\n",
            "238 7.949091695991228e-07\n",
            "239 7.921660767351568e-07\n",
            "240 7.911077091193874e-07\n",
            "241 7.839836371204001e-07\n",
            "242 7.83769678491808e-07\n",
            "243 7.849246230762219e-07\n",
            "244 7.853846568650624e-07\n",
            "245 7.885689115028072e-07\n",
            "246 7.877578127590823e-07\n",
            "247 7.926753369247308e-07\n",
            "248 7.890548090472294e-07\n",
            "249 7.874601806179271e-07\n",
            "250 7.918114306448842e-07\n",
            "251 7.923733846837422e-07\n",
            "252 7.893063411756884e-07\n",
            "253 7.867209887990612e-07\n",
            "254 7.834432835807092e-07\n",
            "255 7.82045901814854e-07\n",
            "256 7.782696229696739e-07\n",
            "257 7.821809617780673e-07\n",
            "258 7.839780096219329e-07\n",
            "259 7.838615374566871e-07\n",
            "260 7.842044738026743e-07\n",
            "261 7.821041663191863e-07\n",
            "262 7.764264182696934e-07\n",
            "263 7.819097618266824e-07\n",
            "264 7.822911811672384e-07\n",
            "265 7.802729555805854e-07\n",
            "266 7.829563628547476e-07\n",
            "267 7.81046992415213e-07\n",
            "268 7.755588171676209e-07\n",
            "269 7.725315640527697e-07\n",
            "270 7.725311093054188e-07\n",
            "271 7.676339350837225e-07\n",
            "272 7.6914147939533e-07\n",
            "273 7.735271196906979e-07\n",
            "274 7.76110084643733e-07\n",
            "275 7.757264484098414e-07\n",
            "276 7.729531716904603e-07\n",
            "277 7.663942369617871e-07\n",
            "278 7.645384130228194e-07\n",
            "279 7.637476642230467e-07\n",
            "280 7.650902489331202e-07\n",
            "281 7.662651455575542e-07\n",
            "282 7.63055368224741e-07\n",
            "283 7.593466762045864e-07\n",
            "284 7.577074256914784e-07\n",
            "285 7.58773467168794e-07\n",
            "286 7.633021823494346e-07\n",
            "287 7.598539468745003e-07\n",
            "288 7.560478820778371e-07\n",
            "289 7.577496035082731e-07\n",
            "290 7.563830877188593e-07\n",
            "291 7.572200502181659e-07\n",
            "292 7.565968758171948e-07\n",
            "293 7.578277632092068e-07\n",
            "294 7.570887987640162e-07\n",
            "295 7.609296517330222e-07\n",
            "296 7.602602636325173e-07\n",
            "297 7.601414608870982e-07\n",
            "298 7.599206810482428e-07\n",
            "299 7.595366469104192e-07\n",
            "300 7.570735078843427e-07\n",
            "301 7.578029794785834e-07\n",
            "302 7.588939752167789e-07\n",
            "303 7.587296408928523e-07\n",
            "304 7.576441589662863e-07\n",
            "305 7.550367513431411e-07\n",
            "306 7.546225901933212e-07\n",
            "307 7.548903226961556e-07\n",
            "308 7.535766144428635e-07\n",
            "309 7.533070629506256e-07\n",
            "310 7.520295639551478e-07\n",
            "311 7.508267572120531e-07\n",
            "312 7.525467253799434e-07\n",
            "313 7.530539960498572e-07\n",
            "314 7.527199841206311e-07\n",
            "315 7.532788117714517e-07\n",
            "316 7.540671731476323e-07\n",
            "317 7.559060577477794e-07\n",
            "318 7.571510423076688e-07\n",
            "319 7.552310421488073e-07\n",
            "320 7.549842848675326e-07\n",
            "321 7.590256245748606e-07\n",
            "322 7.583016667922493e-07\n",
            "323 7.57871362111473e-07\n",
            "324 7.529340564360609e-07\n",
            "325 7.537972805948812e-07\n",
            "326 7.494455758205731e-07\n",
            "327 7.522162377426866e-07\n",
            "328 7.534689530075411e-07\n",
            "329 7.573096354462905e-07\n",
            "330 7.544750815213774e-07\n",
            "331 7.580352985314676e-07\n",
            "332 7.608108489876031e-07\n",
            "333 7.604108986924984e-07\n",
            "334 7.612769650222617e-07\n",
            "335 7.609845056322229e-07\n",
            "336 7.592364568154153e-07\n",
            "337 7.569841500298935e-07\n",
            "338 7.586880315102462e-07\n",
            "339 7.562416612927336e-07\n",
            "340 7.53771189465624e-07\n",
            "341 7.524735110564507e-07\n",
            "342 7.512317097280174e-07\n",
            "343 7.514545927733707e-07\n",
            "344 7.522895089095982e-07\n",
            "345 7.469419074368489e-07\n",
            "346 7.467488671863975e-07\n",
            "347 7.44046019462985e-07\n",
            "348 7.470565037692722e-07\n",
            "349 7.505178132305446e-07\n",
            "350 7.513063451369817e-07\n",
            "351 7.486829645131365e-07\n",
            "352 7.493040357076097e-07\n",
            "353 7.462277835657005e-07\n",
            "354 7.478292332052661e-07\n",
            "355 7.478400902982685e-07\n",
            "356 7.443591130140703e-07\n",
            "357 7.483559443244303e-07\n",
            "358 7.45865747830976e-07\n",
            "359 7.454332262568641e-07\n",
            "360 7.424596333294176e-07\n",
            "361 7.406404165521963e-07\n",
            "362 7.394519343506545e-07\n",
            "363 7.363595386777888e-07\n",
            "364 7.380168653980945e-07\n",
            "365 7.38249866572005e-07\n",
            "366 7.400407753266336e-07\n",
            "367 7.390538030449534e-07\n",
            "368 7.374141546279134e-07\n",
            "369 7.367785883616307e-07\n",
            "370 7.332036489060556e-07\n",
            "371 7.311692229450273e-07\n",
            "372 7.321292514461675e-07\n",
            "373 7.337052352340834e-07\n",
            "374 7.36893639441405e-07\n",
            "375 7.349062229877745e-07\n",
            "376 7.356001674452273e-07\n",
            "377 7.335935947594407e-07\n",
            "378 7.320170425373362e-07\n",
            "379 7.296559942915337e-07\n",
            "380 7.275011739693582e-07\n",
            "381 7.277624263224425e-07\n",
            "382 7.268474746524589e-07\n",
            "383 7.26793928151892e-07\n",
            "384 7.263015504577197e-07\n",
            "385 7.289966106327483e-07\n",
            "386 7.282686738108168e-07\n",
            "387 7.21355547739222e-07\n",
            "388 7.178841769928113e-07\n",
            "389 7.199201945695677e-07\n",
            "390 7.213706680886389e-07\n",
            "391 7.204831149465463e-07\n",
            "392 7.239362389555026e-07\n",
            "393 7.23420725989854e-07\n",
            "394 7.233131782413693e-07\n",
            "395 7.259724270625156e-07\n",
            "396 7.248956990224542e-07\n",
            "397 7.232611665131117e-07\n",
            "398 7.218193900371261e-07\n",
            "399 7.229758693938493e-07\n",
            "400 7.267299224622548e-07\n",
            "401 7.290103667401127e-07\n",
            "402 7.302134008568828e-07\n",
            "403 7.305087592612836e-07\n",
            "404 7.306304610210645e-07\n",
            "405 7.305284270842094e-07\n",
            "406 7.278570137714269e-07\n",
            "407 7.279865030795918e-07\n",
            "408 7.255218861246249e-07\n",
            "409 7.25123641132086e-07\n",
            "410 7.241919774969574e-07\n",
            "411 7.21145624993369e-07\n",
            "412 7.235464636323741e-07\n",
            "413 7.226453817565925e-07\n",
            "414 7.200437721621711e-07\n",
            "415 7.195305897766957e-07\n",
            "416 7.221862574624538e-07\n",
            "417 7.227105811580259e-07\n",
            "418 7.227830565170734e-07\n",
            "419 7.211055503830721e-07\n",
            "420 7.187295523181092e-07\n",
            "421 7.164956059568794e-07\n",
            "422 7.152810894694994e-07\n",
            "423 7.159278538892977e-07\n",
            "424 7.140923798942822e-07\n",
            "425 7.116066171874991e-07\n",
            "426 7.091409770509927e-07\n",
            "427 7.077421741996659e-07\n",
            "428 7.062421900627669e-07\n",
            "429 7.06511286807654e-07\n",
            "430 7.061611313474714e-07\n",
            "431 7.055624564600294e-07\n",
            "432 7.065812042128528e-07\n",
            "433 7.087350013534888e-07\n",
            "434 7.066024636515067e-07\n",
            "435 7.070634637784678e-07\n",
            "436 7.075501571307541e-07\n",
            "437 7.083259561113664e-07\n",
            "438 7.062051849970885e-07\n",
            "439 7.091829274941119e-07\n",
            "440 7.087019184837118e-07\n",
            "441 7.079497663653456e-07\n",
            "442 7.076553174556466e-07\n",
            "443 7.096480203472311e-07\n",
            "444 7.117138238754706e-07\n",
            "445 7.113030164873635e-07\n",
            "446 7.145995368773583e-07\n",
            "447 7.140814091144421e-07\n",
            "448 7.152447096814285e-07\n",
            "449 7.163552027122932e-07\n",
            "450 7.102469794517674e-07\n",
            "451 7.118719054233225e-07\n",
            "452 7.11698930899729e-07\n",
            "453 7.086892424013058e-07\n",
            "454 7.094325837897486e-07\n",
            "455 7.08611992195074e-07\n",
            "456 7.083679065544857e-07\n",
            "457 7.114159643606399e-07\n",
            "458 7.120471536836703e-07\n",
            "459 7.107884130164166e-07\n",
            "460 7.147220912884222e-07\n",
            "461 7.093167369021103e-07\n",
            "462 7.058584969854564e-07\n",
            "463 7.064130045364436e-07\n",
            "464 7.069467073961277e-07\n",
            "465 7.039676006570517e-07\n",
            "466 7.029278776826686e-07\n",
            "467 7.031026711956656e-07\n",
            "468 7.038978537821095e-07\n",
            "469 7.042295351311623e-07\n",
            "470 7.042062861728482e-07\n",
            "471 7.003263817750849e-07\n",
            "472 7.024264050414786e-07\n",
            "473 7.020244652267138e-07\n",
            "474 7.027315973573423e-07\n",
            "475 7.022318868621369e-07\n",
            "476 7.004965709711541e-07\n",
            "477 7.028626214378164e-07\n",
            "478 7.06032665220846e-07\n",
            "479 7.063472935442405e-07\n",
            "480 7.058086453071155e-07\n",
            "481 7.056669915073144e-07\n",
            "482 7.063533189466398e-07\n",
            "483 7.093264571267355e-07\n",
            "484 7.085505444592854e-07\n",
            "485 7.0887864467295e-07\n",
            "486 7.101644996510004e-07\n",
            "487 7.153852266128524e-07\n",
            "488 7.157628942877636e-07\n",
            "489 7.121216754057969e-07\n",
            "490 7.110440378710337e-07\n",
            "491 7.084839808157994e-07\n",
            "492 7.107348096724309e-07\n",
            "493 7.10541996795655e-07\n",
            "494 7.0929030471234e-07\n",
            "495 7.079685246935696e-07\n",
            "496 7.088407301125699e-07\n",
            "497 7.097431762304041e-07\n",
            "498 7.108357067409088e-07\n",
            "499 7.112523690011585e-07\n"
          ],
          "name": "stdout"
        }
      ]
    },
    {
      "cell_type": "markdown",
      "metadata": {
        "id": "ycwxAPHZLNST",
        "colab_type": "text"
      },
      "source": [
        "\n",
        "\n",
        "---\n",
        "## Question 12\n",
        "\n",
        "In the code above, why do we have 2 in '2.0*(y_pred - y)`?\n",
        "\n",
        "##Solution:\n",
        "Because the differntiation of last layer \n",
        "\n",
        "d(pow(y_pred-y,2) = 2* y_pred -y\n",
        "\n",
        "## Question 13\n",
        "In the code above, what does `grad_h[h < 0] = 0` signify?\n",
        "##Solution \n",
        "\n",
        "differentiation of relu, for all `h<0` its 0\n",
        "\n",
        "## Question 14\n",
        "In the code above, how many \"epochs\" have we trained the model for? \n",
        "##Solution:\n",
        " 500\n",
        "\n",
        "## Question 15\n",
        "In the code above, if we take the trained model, and run it on fresh  inputs, the trained model will be able to predict fresh output with high accuracy. \n",
        "#Solution : \n",
        "No\n",
        "\n",
        "\n",
        "## Question 16\n",
        "In the code above, if we dont use clone in `grad_h = grad_h_relu.clone()` the model will still train without any issues. "
      ]
    },
    {
      "cell_type": "code",
      "metadata": {
        "id": "PnJ49I07JJI6",
        "colab_type": "code",
        "colab": {}
      },
      "source": [
        "No"
      ],
      "execution_count": 0,
      "outputs": []
    },
    {
      "cell_type": "code",
      "metadata": {
        "id": "ZN7fWJZDYUi6",
        "colab_type": "code",
        "colab": {}
      },
      "source": [
        ""
      ],
      "execution_count": 0,
      "outputs": []
    },
    {
      "cell_type": "code",
      "metadata": {
        "id": "yvJxv5L8YYMB",
        "colab_type": "code",
        "colab": {}
      },
      "source": [
        ""
      ],
      "execution_count": 0,
      "outputs": []
    },
    {
      "cell_type": "code",
      "metadata": {
        "id": "_BQn2_c9YifF",
        "colab_type": "code",
        "colab": {}
      },
      "source": [
        ""
      ],
      "execution_count": 0,
      "outputs": []
    },
    {
      "cell_type": "code",
      "metadata": {
        "id": "wzetEOwGYnND",
        "colab_type": "code",
        "colab": {}
      },
      "source": [
        ""
      ],
      "execution_count": 0,
      "outputs": []
    }
  ]
}