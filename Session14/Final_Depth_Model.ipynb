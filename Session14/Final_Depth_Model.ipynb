{
  "nbformat": 4,
  "nbformat_minor": 0,
  "metadata": {
    "colab": {
      "name": "DepthModel_V3(Batch_wise and solve glob).ipynb",
      "provenance": [],
      "collapsed_sections": [],
      "authorship_tag": "ABX9TyMqvlmk1ah8AKK7QcIYHy05",
      "include_colab_link": true
    },
    "kernelspec": {
      "name": "python3",
      "display_name": "Python 3"
    },
    "accelerator": "GPU"
  },
  "cells": [
    {
      "cell_type": "markdown",
      "metadata": {
        "id": "view-in-github",
        "colab_type": "text"
      },
      "source": [
        "<a href=\"https://colab.research.google.com/github/Sushmitha-Katti/EVA-4/blob/master/Session14/Final_Depth_Model.ipynb\" target=\"_parent\"><img src=\"https://colab.research.google.com/assets/colab-badge.svg\" alt=\"Open In Colab\"/></a>"
      ]
    },
    {
      "cell_type": "markdown",
      "metadata": {
        "id": "0_1g7LrKWsES",
        "colab_type": "text"
      },
      "source": [
        "# **Depth Model creation**\n",
        "\n"
      ]
    },
    {
      "cell_type": "code",
      "metadata": {
        "id": "68M_mY_bKQzL",
        "colab_type": "code",
        "outputId": "43d90d6f-4661-4f1d-a108-d04208243bd3",
        "colab": {
          "base_uri": "https://localhost:8080/",
          "height": 122
        }
      },
      "source": [
        "from google.colab import drive\n",
        "drive.mount('/content/gdrive')"
      ],
      "execution_count": 0,
      "outputs": [
        {
          "output_type": "stream",
          "text": [
            "Go to this URL in a browser: https://accounts.google.com/o/oauth2/auth?client_id=947318989803-6bn6qk8qdgf4n4g3pfee6491hc0brc4i.apps.googleusercontent.com&redirect_uri=urn%3aietf%3awg%3aoauth%3a2.0%3aoob&response_type=code&scope=email%20https%3a%2f%2fwww.googleapis.com%2fauth%2fdocs.test%20https%3a%2f%2fwww.googleapis.com%2fauth%2fdrive%20https%3a%2f%2fwww.googleapis.com%2fauth%2fdrive.photos.readonly%20https%3a%2f%2fwww.googleapis.com%2fauth%2fpeopleapi.readonly\n",
            "\n",
            "Enter your authorization code:\n",
            "··········\n",
            "Mounted at /content/gdrive\n"
          ],
          "name": "stdout"
        }
      ]
    },
    {
      "cell_type": "markdown",
      "metadata": {
        "id": "pBqqg8EjW0fk",
        "colab_type": "text"
      },
      "source": [
        "## **Clone the repo**"
      ]
    },
    {
      "cell_type": "code",
      "metadata": {
        "id": "zMDfsePtLun_",
        "colab_type": "code",
        "outputId": "73e0a4b2-c088-46dc-af18-c4231dfa1804",
        "colab": {
          "base_uri": "https://localhost:8080/",
          "height": 136
        }
      },
      "source": [
        "!git clone https://github.com/Sushmitha-Katti/DepthModel"
      ],
      "execution_count": 0,
      "outputs": [
        {
          "output_type": "stream",
          "text": [
            "Cloning into 'DepthModel'...\n",
            "remote: Enumerating objects: 245, done.\u001b[K\n",
            "remote: Counting objects: 100% (245/245), done.\u001b[K\n",
            "remote: Compressing objects: 100% (117/117), done.\u001b[K\n",
            "remote: Total 245 (delta 124), reused 244 (delta 123), pack-reused 0\u001b[K\n",
            "Receiving objects: 100% (245/245), 11.81 MiB | 15.01 MiB/s, done.\n",
            "Resolving deltas: 100% (124/124), done.\n"
          ],
          "name": "stdout"
        }
      ]
    },
    {
      "cell_type": "markdown",
      "metadata": {
        "id": "5Scv-fHZW5V0",
        "colab_type": "text"
      },
      "source": [
        "**Load Pre trained model**"
      ]
    },
    {
      "cell_type": "code",
      "metadata": {
        "id": "wSBnlTmiNzoP",
        "colab_type": "code",
        "outputId": "fd1803d2-91e3-46da-d46b-3b8776dc8a7c",
        "colab": {
          "base_uri": "https://localhost:8080/",
          "height": 204
        }
      },
      "source": [
        "#load pretrained model\n",
        "!wget https://s3-eu-west-1.amazonaws.com/densedepth/nyu.h5 -O ./DepthModel/nyu.h5"
      ],
      "execution_count": 0,
      "outputs": [
        {
          "output_type": "stream",
          "text": [
            "--2020-05-05 12:45:01--  https://s3-eu-west-1.amazonaws.com/densedepth/nyu.h5\n",
            "Resolving s3-eu-west-1.amazonaws.com (s3-eu-west-1.amazonaws.com)... 52.218.108.75\n",
            "Connecting to s3-eu-west-1.amazonaws.com (s3-eu-west-1.amazonaws.com)|52.218.108.75|:443... connected.\n",
            "HTTP request sent, awaiting response... 200 OK\n",
            "Length: 172897376 (165M) [application/h5]\n",
            "Saving to: ‘./DepthModel/nyu.h5’\n",
            "\n",
            "./DepthModel/nyu.h5 100%[===================>] 164.89M  80.5MB/s    in 2.0s    \n",
            "\n",
            "2020-05-05 12:45:03 (80.5 MB/s) - ‘./DepthModel/nyu.h5’ saved [172897376/172897376]\n",
            "\n"
          ],
          "name": "stdout"
        }
      ]
    },
    {
      "cell_type": "markdown",
      "metadata": {
        "id": "jixtFt2jW-f1",
        "colab_type": "text"
      },
      "source": [
        "## **Extract the fg-bg images from zip**"
      ]
    },
    {
      "cell_type": "code",
      "metadata": {
        "id": "eL3zMBfoN2Ue",
        "colab_type": "code",
        "colab": {}
      },
      "source": [
        "#Extract only fg-bg-images from zip file\n",
        "import zipfile\n",
        "\n",
        "archive = zipfile.ZipFile('/content/gdrive/My Drive/Mask_Rcnn/Sushmitha/data_Part1.zip')\n",
        "\n",
        "for file in archive.namelist():\n",
        "    if file.startswith('Overlay1/Fg-Bg/'):\n",
        "        archive.extract(file, '/content/')"
      ],
      "execution_count": 0,
      "outputs": []
    },
    {
      "cell_type": "code",
      "metadata": {
        "id": "jAItMoN5OJ8H",
        "colab_type": "code",
        "outputId": "115ce9d7-a42c-464d-8450-75b748a9b968",
        "colab": {
          "base_uri": "https://localhost:8080/",
          "height": 34
        }
      },
      "source": [
        "! ls '/content/Overlay1/Fg-Bg/' | wc -l"
      ],
      "execution_count": 0,
      "outputs": [
        {
          "output_type": "stream",
          "text": [
            "80000\n"
          ],
          "name": "stdout"
        }
      ]
    },
    {
      "cell_type": "markdown",
      "metadata": {
        "id": "__5C1v3SXUh9",
        "colab_type": "text"
      },
      "source": [
        "## **Should be in DepthModel path**"
      ]
    },
    {
      "cell_type": "code",
      "metadata": {
        "id": "0NPQauEsagRW",
        "colab_type": "code",
        "outputId": "75acafe3-1289-46f1-cfbb-d2789c8d9bde",
        "colab": {
          "base_uri": "https://localhost:8080/",
          "height": 34
        }
      },
      "source": [
        "%cd DepthModel\n"
      ],
      "execution_count": 0,
      "outputs": [
        {
          "output_type": "stream",
          "text": [
            "/content/DepthModel\n"
          ],
          "name": "stdout"
        }
      ]
    },
    {
      "cell_type": "markdown",
      "metadata": {
        "id": "JmfL-KrYXZQB",
        "colab_type": "text"
      },
      "source": [
        "## **Modified utils.py**"
      ]
    },
    {
      "cell_type": "code",
      "metadata": {
        "id": "A8mDgt4ShGzy",
        "colab_type": "code",
        "colab": {}
      },
      "source": [
        "#utils.py from the depth model\n",
        "\n",
        "import numpy as np\n",
        "from PIL import Image\n",
        "import matplotlib.pyplot as plt\n",
        "from tqdm import notebook\n",
        "\n",
        "def DepthNorm(x, maxDepth):\n",
        "    return maxDepth / x\n",
        "\n",
        "def predict(model, images, minDepth=10, maxDepth=1000, batch_size=2):\n",
        "    # Support multiple RGBs, one RGB image, even grayscale \n",
        "    if len(images.shape) < 3: images = np.stack((images,images,images), axis=2)\n",
        "    if len(images.shape) < 4: images = images.reshape((1, images.shape[0], images.shape[1], images.shape[2]))\n",
        "    # Compute predictions\n",
        "    predictions = model.predict(images, batch_size=batch_size)\n",
        "    # Put in expected range\n",
        "    return np.clip(DepthNorm(predictions, maxDepth=maxDepth), minDepth, maxDepth) / maxDepth\n",
        "\n",
        "def scale_up(scale, images):\n",
        "    from skimage.transform import resize\n",
        "    scaled = []\n",
        "    \n",
        "    for i in range(len(images)):\n",
        "        img = images[i]\n",
        "        output_shape = (scale * img.shape[0], scale * img.shape[1])\n",
        "        scaled.append( resize(img, output_shape, order=1, preserve_range=True, mode='reflect', anti_aliasing=True ) )\n",
        "\n",
        "    return np.stack(scaled)\n",
        "\n",
        "def load_images(path,start,end):\n",
        "    loaded_images = []\n",
        "    for i in range(start,end):\n",
        "        x = np.clip(np.asarray(Image.open(f\"{path}fg-bg{str(i)}.jpg\" ).resize((448,448)), dtype=float) / 255, 0, 1)\n",
        "        loaded_images.append(x)\n",
        "    return np.stack(loaded_images, axis=0)\n",
        "\n",
        "def to_multichannel(i):\n",
        "    if i.shape[2] == 3: return i\n",
        "    i = i[:,:,0]\n",
        "    return np.stack((i,i,i), axis=2)\n",
        "        \n",
        "def display_images(outputs, inputs=None, gt=None, is_colormap=True, is_rescale=True, start = 1):\n",
        "    import matplotlib.pyplot as plt\n",
        "    import skimage\n",
        "    from skimage.transform import resize\n",
        "\n",
        "    plasma = plt.get_cmap('gray')\n",
        "\n",
        "    shape = (outputs[0].shape[0], outputs[0].shape[1], 3)\n",
        "    print(shape)\n",
        "    \n",
        "    #all_images = []\n",
        "    start = start\n",
        "    for i in notebook.tqdm(range(outputs.shape[0]),desc = f\"Loading from {start} images\") :\n",
        "    \n",
        "        if is_colormap:\n",
        "            rescaled = outputs[i][:,:,0]\n",
        "            if is_rescale:\n",
        "                rescaled = rescaled - np.min(rescaled)\n",
        "                rescaled = rescaled / np.max(rescaled)\n",
        "  \n",
        "            #plt.figure(figsize=(2.24,2.24),dpi=100)\n",
        "            matplotlib_image = plt.imshow(plasma(rescaled)[:,:,:3])\n",
        "            pil_image = Image.fromarray(np.uint8( ( matplotlib_image.get_array()*255))).convert(\"L\").resize((224,224))\n",
        "            pil_image.save(f\"/content/Depth_Part1/depth{str(start)}.jpg\")\n",
        "            plt.close() \n",
        "            start+=1\n",
        "\n",
        "            # plt.imsave(\"a.jpg\",plasma(rescaled)[:,:,:3])          \n",
        "\n",
        "        \n",
        "           \n",
        "\n",
        "def save_images(filename, outputs, inputs=None, gt=None, is_colormap=True, is_rescale=False):\n",
        "    montage =  display_images(outputs, inputs, is_colormap, is_rescale)\n",
        "    im = Image.fromarray(np.uint8(montage*255))\n",
        "    im.save(filename)\n",
        "\n",
        "def load_test_data(test_data_zip_file='nyu_test.zip'):\n",
        "    print('Loading test data...', end='')\n",
        "    import numpy as np\n",
        "    from data import extract_zip\n",
        "    data = extract_zip(test_data_zip_file)\n",
        "    from io import BytesIO\n",
        "    rgb = np.load(BytesIO(data['eigen_test_rgb.npy']))\n",
        "    depth = np.load(BytesIO(data['eigen_test_depth.npy']))\n",
        "    crop = np.load(BytesIO(data['eigen_test_crop.npy']))\n",
        "    print('Test data loaded.\\n')\n",
        "    return {'rgb':rgb, 'depth':depth, 'crop':crop}\n",
        "\n",
        "def compute_errors(gt, pred):\n",
        "    thresh = np.maximum((gt / pred), (pred / gt))\n",
        "    a1 = (thresh < 1.25   ).mean()\n",
        "    a2 = (thresh < 1.25 ** 2).mean()\n",
        "    a3 = (thresh < 1.25 ** 3).mean()\n",
        "    abs_rel = np.mean(np.abs(gt - pred) / gt)\n",
        "    rmse = (gt - pred) ** 2\n",
        "    rmse = np.sqrt(rmse.mean())\n",
        "    log_10 = (np.abs(np.log10(gt)-np.log10(pred))).mean()\n",
        "    return a1, a2, a3, abs_rel, rmse, log_10\n",
        "\n",
        "def evaluate(model, rgb, depth, crop, batch_size=6, verbose=False):\n",
        "    N = len(rgb)\n",
        "\n",
        "    bs = batch_size\n",
        "\n",
        "    predictions = []\n",
        "    testSetDepths = []\n",
        "    \n",
        "    for i in range(N//bs):    \n",
        "        x = rgb[(i)*bs:(i+1)*bs,:,:,:]\n",
        "        \n",
        "        # Compute results\n",
        "        true_y = depth[(i)*bs:(i+1)*bs,:,:]\n",
        "        pred_y = scale_up(2, predict(model, x/255, minDepth=10, maxDepth=1000, batch_size=bs)[:,:,:,0]) * 10.0\n",
        "        \n",
        "        # Test time augmentation: mirror image estimate\n",
        "        pred_y_flip = scale_up(2, predict(model, x[...,::-1,:]/255, minDepth=10, maxDepth=1000, batch_size=bs)[:,:,:,0]) * 10.0\n",
        "\n",
        "        # Crop based on Eigen et al. crop\n",
        "        true_y = true_y[:,crop[0]:crop[1]+1, crop[2]:crop[3]+1]\n",
        "        pred_y = pred_y[:,crop[0]:crop[1]+1, crop[2]:crop[3]+1]\n",
        "        pred_y_flip = pred_y_flip[:,crop[0]:crop[1]+1, crop[2]:crop[3]+1]\n",
        "        \n",
        "        # Compute errors per image in batch\n",
        "        for j in range(len(true_y)):\n",
        "            predictions.append(   (0.5 * pred_y[j]) + (0.5 * np.fliplr(pred_y_flip[j]))   )\n",
        "            testSetDepths.append(   true_y[j]   )\n",
        "\n",
        "    predictions = np.stack(predictions, axis=0)\n",
        "    testSetDepths = np.stack(testSetDepths, axis=0)\n",
        "\n",
        "    e = compute_errors(predictions, testSetDepths)\n",
        "\n",
        "    if verbose:\n",
        "        print(\"{:>10}, {:>10}, {:>10}, {:>10}, {:>10}, {:>10}\".format('a1', 'a2', 'a3', 'rel', 'rms', 'log_10'))\n",
        "        print(\"{:10.4f}, {:10.4f}, {:10.4f}, {:10.4f}, {:10.4f}, {:10.4f}\".format(e[0],e[1],e[2],e[3],e[4],e[5]))\n",
        "\n",
        "    return e\n"
      ],
      "execution_count": 0,
      "outputs": []
    },
    {
      "cell_type": "markdown",
      "metadata": {
        "id": "gaM4f46FXfd8",
        "colab_type": "text"
      },
      "source": [
        "## **Modified test.py**"
      ]
    },
    {
      "cell_type": "code",
      "metadata": {
        "id": "I0kw0Qn3fGWl",
        "colab_type": "code",
        "outputId": "9358a18c-a01c-4498-9cf8-b6853de19785",
        "colab": {
          "base_uri": "https://localhost:8080/",
          "height": 102
        }
      },
      "source": [
        "#test.py from depth model\n",
        "\n",
        "import os\n",
        "import glob\n",
        "import argparse\n",
        "import matplotlib\n",
        "\n",
        "# Keras / TensorFlow\n",
        "os.environ['TF_CPP_MIN_LOG_LEVEL'] = '5'\n",
        "from keras.models import load_model\n",
        "from layers import BilinearUpSampling2D\n",
        "#from utils import predict, load_images, display_images\n",
        "from matplotlib import pyplot as plt\n",
        "\n",
        "\n",
        "# Custom object needed for inference and training\n",
        "custom_objects = {'BilinearUpSampling2D': BilinearUpSampling2D, 'depth_loss_function': None}\n",
        "\n",
        "print('Loading model...')\n",
        "\n",
        "# Load model into GPU / CPU\n",
        "model = load_model('nyu.h5', custom_objects=custom_objects, compile=False)\n",
        "\n",
        "print('\\nModel loaded ({0}).'.format(\"nyu.h5\"))\n",
        "\n",
        "\n",
        "div = 200 #batch size\n",
        "num = 1 #number to start\n",
        "for  i in range((80000)//div):\n",
        "\n",
        "  inputs = load_images(path =\"/content/Overlay1/Fg-Bg/\",start=num,end = num+div )\n",
        "  print('\\nLoaded ({0}) images of size {1}.'.format(inputs.shape[0], inputs.shape[1:]))\n",
        "# Compute results\n",
        "  outputs = predict(model, inputs)\n",
        "# Display results\n",
        "  display_images(outputs.copy(), inputs.copy(), start = num)\n",
        "  num+=div\n",
        "\n",
        "print(\"done\")"
      ],
      "execution_count": 0,
      "outputs": [
        {
          "output_type": "stream",
          "text": [
            "Loading model...\n",
            "\n",
            "Model loaded (nyu.h5).\n",
            "\n",
            "Loaded (200) images of size (448, 448, 3).\n"
          ],
          "name": "stdout"
        }
      ]
    },
    {
      "cell_type": "code",
      "metadata": {
        "id": "zS8rFht891Qy",
        "colab_type": "code",
        "outputId": "01d9a926-f8cb-4a23-96ab-b333e38fb134",
        "colab": {
          "base_uri": "https://localhost:8080/",
          "height": 34
        }
      },
      "source": [
        "!ls Depth_Part1/ | wc -l #count of images after crashing"
      ],
      "execution_count": 0,
      "outputs": [
        {
          "output_type": "stream",
          "text": [
            "13000\n"
          ],
          "name": "stdout"
        }
      ]
    },
    {
      "cell_type": "code",
      "metadata": {
        "id": "jh3AR7TLSLXQ",
        "colab_type": "code",
        "outputId": "41cee3e9-a5be-4cb2-a663-ab270cbbe07e",
        "colab": {
          "base_uri": "https://localhost:8080/",
          "height": 34
        }
      },
      "source": [
        "%cd content/"
      ],
      "execution_count": 0,
      "outputs": [
        {
          "output_type": "stream",
          "text": [
            "/content\n"
          ],
          "name": "stdout"
        }
      ]
    },
    {
      "cell_type": "markdown",
      "metadata": {
        "id": "E5WV35gsXmcw",
        "colab_type": "text"
      },
      "source": [
        "## **Zip and save in drive**"
      ]
    },
    {
      "cell_type": "code",
      "metadata": {
        "id": "2qNaAMLb-IoQ",
        "colab_type": "code",
        "colab": {}
      },
      "source": [
        "#zip the images and save it in drive\n",
        "\n",
        "from zipfile import ZipFile \n",
        "import os \n",
        "  \n",
        "def get_all_file_paths(directory): \n",
        "  \n",
        "    # initializing empty file paths list \n",
        "    file_paths = [] \n",
        "  \n",
        "    # crawling through directory and subdirectories \n",
        "    for root, directories, files in os.walk(directory): \n",
        "        for filename in files: \n",
        "            # join the two strings in order to form the full filepath. \n",
        "            filepath = os.path.join(root, filename) \n",
        "            file_paths.append(filepath) \n",
        "  \n",
        "    # returning all file paths \n",
        "    return file_paths         \n",
        "  \n",
        "def main(): \n",
        "    # path to folder which needs to be zipped \n",
        "    directory = 'Depth_Part1'\n",
        "  \n",
        "    # calling function to get all file paths in the directory \n",
        "    file_paths = get_all_file_paths(directory) \n",
        "  \n",
        "    # printing the list of all files to be zipped \n",
        "    print('Following files will be zipped:') \n",
        "    for file_name in file_paths: \n",
        "        print(file_name) \n",
        "  \n",
        "    # writing files to a zipfile \n",
        "    with ZipFile('/content/gdrive/My Drive/Mask_Rcnn/Sushmitha/Depth_Part1.zip','a') as zip: \n",
        "        # writing each file one by one \n",
        "        for file in file_paths: \n",
        "            zip.write(file) \n",
        "  \n",
        "    print('All files zipped successfully!')         \n",
        "  \n",
        "  \n",
        "\n",
        "main()\n"
      ],
      "execution_count": 0,
      "outputs": []
    },
    {
      "cell_type": "markdown",
      "metadata": {
        "id": "UBDK6iG6Xt4W",
        "colab_type": "text"
      },
      "source": [
        "## **Sample depth image for the fg-bg image**"
      ]
    },
    {
      "cell_type": "code",
      "metadata": {
        "id": "TkfstNfvZ7vI",
        "colab_type": "code",
        "outputId": "27c29baa-77b8-478c-e873-e5ff50959f0a",
        "colab": {
          "base_uri": "https://localhost:8080/",
          "height": 241
        }
      },
      "source": [
        "from PIL import Image\n",
        "Image.open(\"/content/Overlay1/Fg-Bg/fg-bg800.jpg\")"
      ],
      "execution_count": 0,
      "outputs": [
        {
          "output_type": "execute_result",
          "data": {
            "image/png": "[encoded data removed]",
            "text/plain": [
              "<PIL.JpegImagePlugin.JpegImageFile image mode=RGB size=224x224 at 0x7F70037074A8>"
            ]
          },
          "metadata": {
            "tags": []
          },
          "execution_count": 23
        }
      ]
    },
    {
      "cell_type": "code",
      "metadata": {
        "id": "cxtUokM8aMWV",
        "colab_type": "code",
        "outputId": "1b6e70df-ab75-457f-ca85-8ba43849346f",
        "colab": {
          "base_uri": "https://localhost:8080/",
          "height": 241
        }
      },
      "source": [
        "from PIL import Image\n",
        "a = Image.open(\"/content/Depth_Part1/depth1.jpg\")\n",
        "a"
      ],
      "execution_count": 0,
      "outputs": [
        {
          "output_type": "execute_result",
          "data": {
            "image/png": "[encoded data removed]",
            "text/plain": [
              "<PIL.JpegImagePlugin.JpegImageFile image mode=L size=224x224 at 0x7F70036E7940>"
            ]
          },
          "metadata": {
            "tags": []
          },
          "execution_count": 27
        }
      ]
    }
  ]
}