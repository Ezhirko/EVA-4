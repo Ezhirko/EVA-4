{
  "nbformat": 4,
  "nbformat_minor": 0,
  "metadata": {
    "colab": {
      "name": "Merge_files.ipynb",
      "provenance": [],
      "authorship_tag": "ABX9TyOUMBfIGY00f0MdKz4j4tDk",
      "include_colab_link": true
    },
    "kernelspec": {
      "name": "python3",
      "display_name": "Python 3"
    },
    "accelerator": "GPU"
  },
  "cells": [
    {
      "cell_type": "markdown",
      "metadata": {
        "id": "view-in-github",
        "colab_type": "text"
      },
      "source": [
        "<a href=\"https://colab.research.google.com/github/Sushmitha-Katti/EVA-4/blob/master/Session14/Merge_files.ipynb\" target=\"_parent\"><img src=\"https://colab.research.google.com/assets/colab-badge.svg\" alt=\"Open In Colab\"/></a>"
      ]
    },
    {
      "cell_type": "markdown",
      "metadata": {
        "id": "mBEq6QzxTWiW",
        "colab_type": "text"
      },
      "source": [
        "# **Merge depth zip file to corresponding fg-bg,fg-bg-mask zip**"
      ]
    },
    {
      "cell_type": "code",
      "metadata": {
        "id": "nAFwqarAs5n6",
        "colab_type": "code",
        "outputId": "0c324733-710b-4ea7-c0da-3a9e07d95816",
        "colab": {
          "base_uri": "https://localhost:8080/",
          "height": 122
        }
      },
      "source": [
        "from google.colab import drive\n",
        "drive.mount('/content/gdrive')"
      ],
      "execution_count": 0,
      "outputs": [
        {
          "output_type": "stream",
          "text": [
            "Go to this URL in a browser: https://accounts.google.com/o/oauth2/auth?client_id=947318989803-6bn6qk8qdgf4n4g3pfee6491hc0brc4i.apps.googleusercontent.com&redirect_uri=urn%3aietf%3awg%3aoauth%3a2.0%3aoob&response_type=code&scope=email%20https%3a%2f%2fwww.googleapis.com%2fauth%2fdocs.test%20https%3a%2f%2fwww.googleapis.com%2fauth%2fdrive%20https%3a%2f%2fwww.googleapis.com%2fauth%2fdrive.photos.readonly%20https%3a%2f%2fwww.googleapis.com%2fauth%2fpeopleapi.readonly\n",
            "\n",
            "Enter your authorization code:\n",
            "··········\n",
            "Mounted at /content/gdrive\n"
          ],
          "name": "stdout"
        }
      ]
    },
    {
      "cell_type": "markdown",
      "metadata": {
        "id": "x4nc5RQbTpJm",
        "colab_type": "text"
      },
      "source": [
        "## **Should be in content directory**"
      ]
    },
    {
      "cell_type": "code",
      "metadata": {
        "id": "yHXq_CZVviBx",
        "colab_type": "code",
        "outputId": "04d48cf8-64d4-415d-925d-2c12f36864f6",
        "colab": {
          "base_uri": "https://localhost:8080/",
          "height": 34
        }
      },
      "source": [
        "%cd /content/"
      ],
      "execution_count": 0,
      "outputs": [
        {
          "output_type": "stream",
          "text": [
            "/content\n"
          ],
          "name": "stdout"
        }
      ]
    },
    {
      "cell_type": "markdown",
      "metadata": {
        "id": "Wh00yb6AT2pW",
        "colab_type": "text"
      },
      "source": [
        "## **Example to merge 1 zip file, should do same for all 5 files**"
      ]
    },
    {
      "cell_type": "markdown",
      "metadata": {
        "id": "rCRurPuyUHmx",
        "colab_type": "text"
      },
      "source": [
        "data_Part5 contains 1 folders\n",
        "* Overlay5 (which intern contains 2 folders)\n",
        "  * fg-bg\n",
        "  * fg-bg-mask\n",
        "\n",
        "depth_Part5 contains 1 folder\n",
        "* depth\n",
        "\n",
        "**Process**\n",
        "1. Need to extract both zip's first.\n",
        "2. Then move depth folder to to data_part5\n",
        "3. Zip it and save in drive"
      ]
    },
    {
      "cell_type": "code",
      "metadata": {
        "id": "PgL6GV19uYI2",
        "colab_type": "code",
        "outputId": "777ee1a9-7e05-4aa9-ac9f-d596d2e13ea9",
        "colab": {
          "base_uri": "https://localhost:8080/",
          "height": 51
        }
      },
      "source": [
        "#Extract zip\n",
        "\n",
        "#To import zip file\n",
        "from zipfile import ZipFile \n",
        "  \n",
        "# specifying the zip file name \n",
        "file_name = \"/content/gdrive/My Drive/Mask_Rcnn/Dataset/data_Part5.zip\"\n",
        "  \n",
        "# opening the zip file in READ mode \n",
        "with ZipFile(file_name, 'r') as zip: \n",
        "    # printing all the contents of the zip file \n",
        "    #zip.printdir() \n",
        "  \n",
        "    # extracting all the files \n",
        "    print('Extracting all the files now...') \n",
        "    zip.extractall() \n",
        "    print('Done!') \n",
        "    zip.close()"
      ],
      "execution_count": 0,
      "outputs": [
        {
          "output_type": "stream",
          "text": [
            "Extracting all the files now...\n",
            "Done!\n"
          ],
          "name": "stdout"
        }
      ]
    },
    {
      "cell_type": "code",
      "metadata": {
        "id": "3OTz4L0cvok5",
        "colab_type": "code",
        "outputId": "2c2125c1-1c60-4bbe-fb5a-8f1b5cecd932",
        "colab": {
          "base_uri": "https://localhost:8080/",
          "height": 51
        }
      },
      "source": [
        "\n",
        "#To import zip file\n",
        "from zipfile import ZipFile \n",
        "  \n",
        "# specifying the zip file name \n",
        "file_name = \"/content/gdrive/My Drive/Mask_Rcnn/Dataset/Depth_Part5.zip\"\n",
        "  \n",
        "# opening the zip file in READ mode \n",
        "with ZipFile(file_name, 'r') as zip: \n",
        "    # printing all the contents of the zip file \n",
        "    #zip.printdir() \n",
        "  \n",
        "    # extracting all the files \n",
        "    print('Extracting all the files now...') \n",
        "    zip.extractall() \n",
        "    print('Done!') \n",
        "    zip.close()"
      ],
      "execution_count": 0,
      "outputs": [
        {
          "output_type": "stream",
          "text": [
            "Extracting all the files now...\n",
            "Done!\n"
          ],
          "name": "stdout"
        }
      ]
    },
    {
      "cell_type": "code",
      "metadata": {
        "id": "S6KnFeRX3S6J",
        "colab_type": "code",
        "outputId": "9439ec86-6bf5-4169-f16b-4242a8951a8b",
        "colab": {
          "base_uri": "https://localhost:8080/",
          "height": 34
        }
      },
      "source": [
        "!ls Depth/|wc -l"
      ],
      "execution_count": 0,
      "outputs": [
        {
          "output_type": "stream",
          "text": [
            "80000\n"
          ],
          "name": "stdout"
        }
      ]
    },
    {
      "cell_type": "markdown",
      "metadata": {
        "id": "UVP12I2iVWEW",
        "colab_type": "text"
      },
      "source": [
        "**Move Overay5 to new folder data_5**"
      ]
    },
    {
      "cell_type": "code",
      "metadata": {
        "id": "cKDKAmWlwhIX",
        "colab_type": "code",
        "colab": {}
      },
      "source": [
        "!mv  Overlay5  data_5"
      ],
      "execution_count": 0,
      "outputs": []
    },
    {
      "cell_type": "code",
      "metadata": {
        "id": "T1wh4DIdwm1w",
        "colab_type": "code",
        "outputId": "0cae6763-9a87-464b-a84d-27f163fe368d",
        "colab": {
          "base_uri": "https://localhost:8080/",
          "height": 34
        }
      },
      "source": [
        "!ls data_5/"
      ],
      "execution_count": 0,
      "outputs": [
        {
          "output_type": "stream",
          "text": [
            "Fg-Bg  Fg-Bg-Mask\n"
          ],
          "name": "stdout"
        }
      ]
    },
    {
      "cell_type": "markdown",
      "metadata": {
        "id": "SdkERLdqVgNn",
        "colab_type": "text"
      },
      "source": [
        "**Move Depth to data_5**"
      ]
    },
    {
      "cell_type": "code",
      "metadata": {
        "id": "Rg4sWS9nyC7o",
        "colab_type": "code",
        "colab": {}
      },
      "source": [
        "!mv Depth data_5/"
      ],
      "execution_count": 0,
      "outputs": []
    },
    {
      "cell_type": "code",
      "metadata": {
        "id": "MpWRb8rayMJk",
        "colab_type": "code",
        "outputId": "f745a065-ccdb-4ed4-c8e0-6cd74c4c735d",
        "colab": {
          "base_uri": "https://localhost:8080/",
          "height": 34
        }
      },
      "source": [
        "!ls data_5"
      ],
      "execution_count": 0,
      "outputs": [
        {
          "output_type": "stream",
          "text": [
            "Depth  Fg-Bg  Fg-Bg-Mask\n"
          ],
          "name": "stdout"
        }
      ]
    },
    {
      "cell_type": "code",
      "metadata": {
        "id": "MjVaJ2wK3_mx",
        "colab_type": "code",
        "outputId": "20645fe6-920b-47fe-fe84-53c7ba6c6e58",
        "colab": {
          "base_uri": "https://localhost:8080/",
          "height": 34
        }
      },
      "source": [
        "!ls data_5/Fg-Bg-Mask/ | wc -l"
      ],
      "execution_count": 0,
      "outputs": [
        {
          "output_type": "stream",
          "text": [
            "80000\n"
          ],
          "name": "stdout"
        }
      ]
    },
    {
      "cell_type": "markdown",
      "metadata": {
        "id": "605n1XVHVmrS",
        "colab_type": "text"
      },
      "source": [
        "**Zip data_5 and save it on drive**"
      ]
    },
    {
      "cell_type": "code",
      "metadata": {
        "id": "E3go8VO5yWqp",
        "colab_type": "code",
        "colab": {}
      },
      "source": [
        "#Export Zip file\n",
        "from zipfile import ZipFile \n",
        "import zipfile\n",
        "import os \n",
        "  \n",
        "def get_all_file_paths(directory): \n",
        "  \n",
        "    # initializing empty file paths list \n",
        "    file_paths = [] \n",
        "  \n",
        "    # crawling through directory and subdirectories \n",
        "    for root, directories, files in os.walk(directory): \n",
        "        for filename in files: \n",
        "            # join the two strings in order to form the full filepath. \n",
        "            filepath = os.path.join(root, filename) \n",
        "            file_paths.append(filepath) \n",
        "  \n",
        "    # returning all file paths \n",
        "    return file_paths         \n",
        "  \n",
        "def main(): \n",
        "    # path to folder which needs to be zipped \n",
        "    directory = 'data_5'\n",
        "  \n",
        "    # calling function to get all file paths in the directory \n",
        "    file_paths = get_all_file_paths(directory) \n",
        "  \n",
        "    # printing the list of all files to be zipped \n",
        "    print('Following files will be zipped:') \n",
        "    for file_name in file_paths: \n",
        "        print(file_name) \n",
        "  \n",
        "    # writing files to a zipfile \n",
        "    with ZipFile('/content/gdrive/My Drive/Mask_Rcnn/Sushmitha/data_part5.zip','w', compression = zipfile.ZIP_DEFLATED) as zip: \n",
        "        # writing each file one by one \n",
        "        for file in file_paths: \n",
        "            zip.write(file) \n",
        "        zip.close()\n",
        "  \n",
        "    print('All files zipped successfully!')         \n",
        "  \n",
        "  \n",
        "\n",
        "main() "
      ],
      "execution_count": 0,
      "outputs": []
    }
  ]
}