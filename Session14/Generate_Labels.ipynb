{
  "nbformat": 4,
  "nbformat_minor": 0,
  "metadata": {
    "colab": {
      "name": "Generate Labels.ipynb",
      "provenance": [],
      "mount_file_id": "1Ry3_apTyDTVJQQ52lnmdGyLv8KoiwcG8",
      "authorship_tag": "ABX9TyNSaoHEzZk0LHiGEJiVvOUR",
      "include_colab_link": true
    },
    "kernelspec": {
      "name": "python3",
      "display_name": "Python 3"
    }
  },
  "cells": [
    {
      "cell_type": "markdown",
      "metadata": {
        "id": "view-in-github",
        "colab_type": "text"
      },
      "source": [
        "<a href=\"https://colab.research.google.com/github/Sushmitha-Katti/EVA-4/blob/master/Session14/Generate_Labels.ipynb\" target=\"_parent\"><img src=\"https://colab.research.google.com/assets/colab-badge.svg\" alt=\"Open In Colab\"/></a>"
      ]
    },
    {
      "cell_type": "code",
      "metadata": {
        "id": "vK9DUoMdEgGn",
        "colab_type": "code",
        "outputId": "8bb78775-8e8d-40a7-9088-f033ef605edf",
        "colab": {
          "base_uri": "https://localhost:8080/",
          "height": 122
        }
      },
      "source": [
        "from google.colab import drive\n",
        "drive.mount('/content/gdrive')"
      ],
      "execution_count": 3,
      "outputs": [
        {
          "output_type": "stream",
          "text": [
            "Go to this URL in a browser: https://accounts.google.com/o/oauth2/auth?client_id=947318989803-6bn6qk8qdgf4n4g3pfee6491hc0brc4i.apps.googleusercontent.com&redirect_uri=urn%3aietf%3awg%3aoauth%3a2.0%3aoob&response_type=code&scope=email%20https%3a%2f%2fwww.googleapis.com%2fauth%2fdocs.test%20https%3a%2f%2fwww.googleapis.com%2fauth%2fdrive%20https%3a%2f%2fwww.googleapis.com%2fauth%2fdrive.photos.readonly%20https%3a%2f%2fwww.googleapis.com%2fauth%2fpeopleapi.readonly\n",
            "\n",
            "Enter your authorization code:\n",
            "··········\n",
            "Mounted at /content/gdrive\n"
          ],
          "name": "stdout"
        }
      ]
    },
    {
      "cell_type": "markdown",
      "metadata": {
        "id": "yhRPGzoPc3LU",
        "colab_type": "text"
      },
      "source": [
        "# **Labels.txt File**"
      ]
    },
    {
      "cell_type": "code",
      "metadata": {
        "id": "S3pbqzRCPb60",
        "colab_type": "code",
        "outputId": "e99a688e-1414-47a1-d633-40f7eab04542",
        "colab": {
          "base_uri": "https://localhost:8080/",
          "height": 102
        }
      },
      "source": [
        "start =1 \n",
        "file = open(\"labels.txt\",\"w\")\n",
        "for part in range(1,6): #5 sets\n",
        "  for i in range(1,101): #background\n",
        "      for j in  range(1,21): #foreground\n",
        "        for k in range(1,21): \n",
        "            file.write(f\"Background/bg{i}.jpg\\tForeground/fg{j+(part-1)*20}.png\\tdata_{part}/Fg-Bg/fg-bg{start}.jpg\\tdata_{part}/Fg-Bg-Mask/fg-bg-mask{start}.jpg\\tdata_{part}/Depth/depth{start}.jpg\\n\")\n",
        "            start+=1\n",
        "            file.write(f\"Background/bg{i}.jpg\\tForeground/fg{j+(part-1)*20}.png\\tdata_{part}/Fg-Bg/fg-bg{start}.jpg\\tdata_{part}/Fg-Bg-Mask/fg-bg-mask{start}.jpg\\tdata_{part}/Depth/depth{start}.jpg\\n\")\n",
        "            start+=1\n",
        "\n",
        "  print(start)\n",
        "file.close()"
      ],
      "execution_count": 2,
      "outputs": [
        {
          "output_type": "stream",
          "text": [
            "80001\n",
            "160001\n",
            "240001\n",
            "320001\n",
            "400001\n"
          ],
          "name": "stdout"
        }
      ]
    },
    {
      "cell_type": "code",
      "metadata": {
        "id": "FTjTJIMZadlo",
        "colab_type": "code",
        "colab": {}
      },
      "source": [
        "!mv labels.txt \"/content/gdrive/My Drive/Mask_Rcnn\""
      ],
      "execution_count": 0,
      "outputs": []
    },
    {
      "cell_type": "code",
      "metadata": {
        "id": "PNpBK2xXowkT",
        "colab_type": "code",
        "colab": {}
      },
      "source": [
        ""
      ],
      "execution_count": 0,
      "outputs": []
    }
  ]
}