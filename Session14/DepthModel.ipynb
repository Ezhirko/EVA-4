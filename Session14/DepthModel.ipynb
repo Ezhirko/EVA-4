{
  "nbformat": 4,
  "nbformat_minor": 0,
  "metadata": {
    "colab": {
      "name": "Copy of DenseDepth",
      "provenance": [],
      "collapsed_sections": [],
      "include_colab_link": true
    },
    "kernelspec": {
      "name": "python3",
      "display_name": "Python 3"
    },
    "accelerator": "GPU"
  },
  "cells": [
    {
      "cell_type": "markdown",
      "metadata": {
        "id": "view-in-github",
        "colab_type": "text"
      },
      "source": [
        "<a href=\"https://colab.research.google.com/github/Sushmitha-Katti/EVA-4/blob/master/Session14/DepthModel.ipynb\" target=\"_parent\"><img src=\"https://colab.research.google.com/assets/colab-badge.svg\" alt=\"Open In Colab\"/></a>"
      ]
    },
    {
      "cell_type": "code",
      "metadata": {
        "id": "ahkR4C5dEnR0",
        "colab_type": "code",
        "outputId": "27a12d62-98c9-48d9-bb17-2a643819176d",
        "colab": {
          "base_uri": "https://localhost:8080/",
          "height": 136
        }
      },
      "source": [
        "!git clone https://github.com/Sushmitha-Katti/DepthModel.git"
      ],
      "execution_count": 0,
      "outputs": [
        {
          "output_type": "stream",
          "text": [
            "Cloning into 'DepthModel'...\n",
            "remote: Enumerating objects: 245, done.\u001b[K\n",
            "remote: Counting objects:   0% (1/245)\u001b[K\rremote: Counting objects:   1% (3/245)\u001b[K\rremote: Counting objects:   2% (5/245)\u001b[K\rremote: Counting objects:   3% (8/245)\u001b[K\rremote: Counting objects:   4% (10/245)\u001b[K\rremote: Counting objects:   5% (13/245)\u001b[K\rremote: Counting objects:   6% (15/245)\u001b[K\rremote: Counting objects:   7% (18/245)\u001b[K\rremote: Counting objects:   8% (20/245)\u001b[K\rremote: Counting objects:   9% (23/245)\u001b[K\rremote: Counting objects:  10% (25/245)\u001b[K\rremote: Counting objects:  11% (27/245)\u001b[K\rremote: Counting objects:  12% (30/245)\u001b[K\rremote: Counting objects:  13% (32/245)\u001b[K\rremote: Counting objects:  14% (35/245)\u001b[K\rremote: Counting objects:  15% (37/245)\u001b[K\rremote: Counting objects:  16% (40/245)\u001b[K\rremote: Counting objects:  17% (42/245)\u001b[K\rremote: Counting objects:  18% (45/245)\u001b[K\rremote: Counting objects:  19% (47/245)\u001b[K\rremote: Counting objects:  20% (49/245)\u001b[K\rremote: Counting objects:  21% (52/245)\u001b[K\rremote: Counting objects:  22% (54/245)\u001b[K\rremote: Counting objects:  23% (57/245)\u001b[K\rremote: Counting objects:  24% (59/245)\u001b[K\rremote: Counting objects:  25% (62/245)\u001b[K\rremote: Counting objects:  26% (64/245)\u001b[K\rremote: Counting objects:  27% (67/245)\u001b[K\rremote: Counting objects:  28% (69/245)\u001b[K\rremote: Counting objects:  29% (72/245)\u001b[K\rremote: Counting objects:  30% (74/245)\u001b[K\rremote: Counting objects:  31% (76/245)\u001b[K\rremote: Counting objects:  32% (79/245)\u001b[K\rremote: Counting objects:  33% (81/245)\u001b[K\rremote: Counting objects:  34% (84/245)\u001b[K\rremote: Counting objects:  35% (86/245)\u001b[K\rremote: Counting objects:  36% (89/245)\u001b[K\rremote: Counting objects:  37% (91/245)\u001b[K\rremote: Counting objects:  38% (94/245)\u001b[K\rremote: Counting objects:  39% (96/245)\u001b[K\rremote: Counting objects:  40% (98/245)\u001b[K\rremote: Counting objects:  41% (101/245)\u001b[K\rremote: Counting objects:  42% (103/245)\u001b[K\rremote: Counting objects:  43% (106/245)\u001b[K\rremote: Counting objects:  44% (108/245)\u001b[K\rremote: Counting objects:  45% (111/245)\u001b[K\rremote: Counting objects:  46% (113/245)\u001b[K\rremote: Counting objects:  47% (116/245)\u001b[K\rremote: Counting objects:  48% (118/245)\u001b[K\rremote: Counting objects:  49% (121/245)\u001b[K\rremote: Counting objects:  50% (123/245)\u001b[K\rremote: Counting objects:  51% (125/245)\u001b[K\rremote: Counting objects:  52% (128/245)\u001b[K\rremote: Counting objects:  53% (130/245)\u001b[K\rremote: Counting objects:  54% (133/245)\u001b[K\rremote: Counting objects:  55% (135/245)\u001b[K\rremote: Counting objects:  56% (138/245)\u001b[K\rremote: Counting objects:  57% (140/245)\u001b[K\rremote: Counting objects:  58% (143/245)\u001b[K\rremote: Counting objects:  59% (145/245)\u001b[K\rremote: Counting objects:  60% (147/245)\u001b[K\rremote: Counting objects:  61% (150/245)\u001b[K\rremote: Counting objects:  62% (152/245)\u001b[K\rremote: Counting objects:  63% (155/245)\u001b[K\rremote: Counting objects:  64% (157/245)\u001b[K\rremote: Counting objects:  65% (160/245)\u001b[K\rremote: Counting objects:  66% (162/245)\u001b[K\rremote: Counting objects:  67% (165/245)\u001b[K\rremote: Counting objects:  68% (167/245)\u001b[K\rremote: Counting objects:  69% (170/245)\u001b[K\rremote: Counting objects:  70% (172/245)\u001b[K\rremote: Counting objects:  71% (174/245)\u001b[K\rremote: Counting objects:  72% (177/245)\u001b[K\rremote: Counting objects:  73% (179/245)\u001b[K\rremote: Counting objects:  74% (182/245)\u001b[K\rremote: Counting objects:  75% (184/245)\u001b[K\rremote: Counting objects:  76% (187/245)\u001b[K\rremote: Counting objects:  77% (189/245)\u001b[K\rremote: Counting objects:  78% (192/245)\u001b[K\rremote: Counting objects:  79% (194/245)\u001b[K\rremote: Counting objects:  80% (196/245)\u001b[K\rremote: Counting objects:  81% (199/245)\u001b[K\rremote: Counting objects:  82% (201/245)\u001b[K\rremote: Counting objects:  83% (204/245)\u001b[K\rremote: Counting objects:  84% (206/245)\u001b[K\rremote: Counting objects:  85% (209/245)\u001b[K\rremote: Counting objects:  86% (211/245)\u001b[K\rremote: Counting objects:  87% (214/245)\u001b[K\rremote: Counting objects:  88% (216/245)\u001b[K\rremote: Counting objects:  89% (219/245)\u001b[K\rremote: Counting objects:  90% (221/245)\u001b[K\rremote: Counting objects:  91% (223/245)\u001b[K\rremote: Counting objects:  92% (226/245)\u001b[K\rremote: Counting objects:  93% (228/245)\u001b[K\rremote: Counting objects:  94% (231/245)\u001b[K\rremote: Counting objects:  95% (233/245)\u001b[K\rremote: Counting objects:  96% (236/245)\u001b[K\rremote: Counting objects:  97% (238/245)\u001b[K\rremote: Counting objects:  98% (241/245)\u001b[K\rremote: Counting objects:  99% (243/245)\u001b[K\rremote: Counting objects: 100% (245/245)\u001b[K\rremote: Counting objects: 100% (245/245), done.\u001b[K\n",
            "remote: Compressing objects:   0% (1/117)\u001b[K\rremote: Compressing objects:   1% (2/117)\u001b[K\rremote: Compressing objects:   2% (3/117)\u001b[K\rremote: Compressing objects:   3% (4/117)\u001b[K\rremote: Compressing objects:   4% (5/117)\u001b[K\rremote: Compressing objects:   5% (6/117)\u001b[K\rremote: Compressing objects:   6% (8/117)\u001b[K\rremote: Compressing objects:   7% (9/117)\u001b[K\rremote: Compressing objects:   8% (10/117)\u001b[K\rremote: Compressing objects:   9% (11/117)\u001b[K\rremote: Compressing objects:  10% (12/117)\u001b[K\rremote: Compressing objects:  11% (13/117)\u001b[K\rremote: Compressing objects:  12% (15/117)\u001b[K\rremote: Compressing objects:  13% (16/117)\u001b[K\rremote: Compressing objects:  14% (17/117)\u001b[K\rremote: Compressing objects:  15% (18/117)\u001b[K\rremote: Compressing objects:  16% (19/117)\u001b[K\rremote: Compressing objects:  17% (20/117)\u001b[K\rremote: Compressing objects:  18% (22/117)\u001b[K\rremote: Compressing objects:  19% (23/117)\u001b[K\rremote: Compressing objects:  20% (24/117)\u001b[K\rremote: Compressing objects:  21% (25/117)\u001b[K\rremote: Compressing objects:  22% (26/117)\u001b[K\rremote: Compressing objects:  23% (27/117)\u001b[K\rremote: Compressing objects:  24% (29/117)\u001b[K\rremote: Compressing objects:  25% (30/117)\u001b[K\rremote: Compressing objects:  26% (31/117)\u001b[K\rremote: Compressing objects:  27% (32/117)\u001b[K\rremote: Compressing objects:  28% (33/117)\u001b[K\rremote: Compressing objects:  29% (34/117)\u001b[K\rremote: Compressing objects:  30% (36/117)\u001b[K\rremote: Compressing objects:  31% (37/117)\u001b[K\rremote: Compressing objects:  32% (38/117)\u001b[K\rremote: Compressing objects:  33% (39/117)\u001b[K\rremote: Compressing objects:  34% (40/117)\u001b[K\rremote: Compressing objects:  35% (41/117)\u001b[K\rremote: Compressing objects:  36% (43/117)\rremote: Compressing objects:  37% (44/117)\u001b[K\rremote: Compressing objects:  38% (45/117)\u001b[K\rremote: Compressing objects:  39% (46/117)\u001b[K\rremote: Compressing objects:  40% (47/117)\u001b[K\rremote: Compressing objects:  41% (48/117)\u001b[K\rremote: Compressing objects:  42% (50/117)\u001b[K\rremote: Compressing objects:  43% (51/117)\u001b[K\rremote: Compressing objects:  44% (52/117)\u001b[K\rremote: Compressing objects:  45% (53/117)\u001b[K\rremote: Compressing objects:  46% (54/117)\u001b[K\rremote: Compressing objects:  47% (55/117)\u001b[K\rremote: Compressing objects:  48% (57/117)\u001b[K\rremote: Compressing objects:  49% (58/117)\u001b[K\rremote: Compressing objects:  50% (59/117)\u001b[K\rremote: Compressing objects:  51% (60/117)\u001b[K\rremote: Compressing objects:  52% (61/117)\rremote: Compressing objects:  53% (63/117)\u001b[K\rremote: Compressing objects:  54% (64/117)\u001b[K\rremote: Compressing objects:  55% (65/117)\u001b[K\rremote: Compressing objects:  56% (66/117)\u001b[K\rremote: Compressing objects:  57% (67/117)\u001b[K\rremote: Compressing objects:  58% (68/117)\u001b[K\rremote: Compressing objects:  59% (70/117)\u001b[K\rremote: Compressing objects:  60% (71/117)\u001b[K\rremote: Compressing objects:  61% (72/117)\u001b[K\rremote: Compressing objects:  62% (73/117)\u001b[K\rremote: Compressing objects:  63% (74/117)\u001b[K\rremote: Compressing objects:  64% (75/117)\u001b[K\rremote: Compressing objects:  65% (77/117)\u001b[K\rremote: Compressing objects:  66% (78/117)\u001b[K\rremote: Compressing objects:  67% (79/117)\u001b[K\rremote: Compressing objects:  68% (80/117)\u001b[K\rremote: Compressing objects:  69% (81/117)\u001b[K\rremote: Compressing objects:  70% (82/117)\u001b[K\rremote: Compressing objects:  71% (84/117)\u001b[K\rremote: Compressing objects:  72% (85/117)\u001b[K\rremote: Compressing objects:  73% (86/117)\u001b[K\rremote: Compressing objects:  74% (87/117)\u001b[K\rremote: Compressing objects:  75% (88/117)\u001b[K\rremote: Compressing objects:  76% (89/117)\u001b[K\rremote: Compressing objects:  77% (91/117)\u001b[K\rremote: Compressing objects:  78% (92/117)\u001b[K\rremote: Compressing objects:  79% (93/117)\u001b[K\rremote: Compressing objects:  80% (94/117)\u001b[K\rremote: Compressing objects:  81% (95/117)\u001b[K\rremote: Compressing objects:  82% (96/117)\u001b[K\rremote: Compressing objects:  83% (98/117)\u001b[K\rremote: Compressing objects:  84% (99/117)\u001b[K\rremote: Compressing objects:  85% (100/117)\u001b[K\rremote: Compressing objects:  86% (101/117)\u001b[K\rremote: Compressing objects:  87% (102/117)\u001b[K\rremote: Compressing objects:  88% (103/117)\u001b[K\rremote: Compressing objects:  89% (105/117)\u001b[K\rremote: Compressing objects:  90% (106/117)\u001b[K\rremote: Compressing objects:  91% (107/117)\u001b[K\rremote: Compressing objects:  92% (108/117)\u001b[K\rremote: Compressing objects:  93% (109/117)\u001b[K\rremote: Compressing objects:  94% (110/117)\u001b[K\rremote: Compressing objects:  95% (112/117)\u001b[K\rremote: Compressing objects:  96% (113/117)\u001b[K\rremote: Compressing objects:  97% (114/117)\u001b[K\rremote: Compressing objects:  98% (115/117)\u001b[K\rremote: Compressing objects:  99% (116/117)\u001b[K\rremote: Compressing objects: 100% (117/117)\u001b[K\rremote: Compressing objects: 100% (117/117), done.\u001b[K\n",
            "Receiving objects:   0% (1/245)   \rReceiving objects:   1% (3/245)   \rReceiving objects:   2% (5/245)   \rReceiving objects:   3% (8/245)   \rReceiving objects:   4% (10/245)   \rReceiving objects:   5% (13/245)   \rReceiving objects:   6% (15/245)   \rReceiving objects:   7% (18/245)   \rReceiving objects:   8% (20/245)   \rReceiving objects:   9% (23/245)   \rReceiving objects:  10% (25/245)   \rReceiving objects:  11% (27/245)   \rReceiving objects:  12% (30/245)   \rReceiving objects:  13% (32/245)   \rReceiving objects:  14% (35/245)   \rReceiving objects:  15% (37/245)   \rReceiving objects:  16% (40/245)   \rReceiving objects:  17% (42/245)   \rReceiving objects:  18% (45/245)   \rReceiving objects:  19% (47/245)   \rReceiving objects:  20% (49/245)   \rReceiving objects:  21% (52/245)   \rReceiving objects:  22% (54/245)   \rReceiving objects:  23% (57/245)   \rReceiving objects:  24% (59/245)   \rReceiving objects:  25% (62/245)   \rReceiving objects:  26% (64/245)   \rReceiving objects:  27% (67/245)   \rReceiving objects:  28% (69/245)   \rReceiving objects:  29% (72/245)   \rReceiving objects:  30% (74/245)   \rReceiving objects:  31% (76/245)   \rReceiving objects:  32% (79/245)   \rReceiving objects:  33% (81/245)   \rReceiving objects:  34% (84/245)   \rReceiving objects:  35% (86/245)   \rReceiving objects:  36% (89/245)   \rReceiving objects:  37% (91/245)   \rReceiving objects:  38% (94/245)   \rReceiving objects:  39% (96/245)   \rReceiving objects:  40% (98/245)   \rReceiving objects:  41% (101/245)   \rReceiving objects:  42% (103/245)   \rReceiving objects:  43% (106/245), 2.03 MiB | 3.99 MiB/s   \rReceiving objects:  44% (108/245), 2.03 MiB | 3.99 MiB/s   \rReceiving objects:  45% (111/245), 2.03 MiB | 3.99 MiB/s   \rReceiving objects:  46% (113/245), 2.03 MiB | 3.99 MiB/s   \rReceiving objects:  47% (116/245), 2.03 MiB | 3.99 MiB/s   \rReceiving objects:  48% (118/245), 2.03 MiB | 3.99 MiB/s   \rReceiving objects:  49% (121/245), 2.03 MiB | 3.99 MiB/s   \rReceiving objects:  50% (123/245), 2.03 MiB | 3.99 MiB/s   \rReceiving objects:  51% (125/245), 2.03 MiB | 3.99 MiB/s   \rReceiving objects:  52% (128/245), 2.03 MiB | 3.99 MiB/s   \rReceiving objects:  53% (130/245), 2.03 MiB | 3.99 MiB/s   \rReceiving objects:  54% (133/245), 2.03 MiB | 3.99 MiB/s   \rReceiving objects:  55% (135/245), 2.03 MiB | 3.99 MiB/s   \rremote: Total 245 (delta 124), reused 244 (delta 123), pack-reused 0\u001b[K\n",
            "Receiving objects:  56% (138/245), 2.03 MiB | 3.99 MiB/s   \rReceiving objects:  57% (140/245), 2.03 MiB | 3.99 MiB/s   \rReceiving objects:  58% (143/245), 2.03 MiB | 3.99 MiB/s   \rReceiving objects:  59% (145/245), 2.03 MiB | 3.99 MiB/s   \rReceiving objects:  60% (147/245), 2.03 MiB | 3.99 MiB/s   \rReceiving objects:  61% (150/245), 2.03 MiB | 3.99 MiB/s   \rReceiving objects:  62% (152/245), 2.03 MiB | 3.99 MiB/s   \rReceiving objects:  63% (155/245), 2.03 MiB | 3.99 MiB/s   \rReceiving objects:  64% (157/245), 2.03 MiB | 3.99 MiB/s   \rReceiving objects:  65% (160/245), 2.03 MiB | 3.99 MiB/s   \rReceiving objects:  66% (162/245), 2.03 MiB | 3.99 MiB/s   \rReceiving objects:  67% (165/245), 2.03 MiB | 3.99 MiB/s   \rReceiving objects:  68% (167/245), 2.03 MiB | 3.99 MiB/s   \rReceiving objects:  69% (170/245), 2.03 MiB | 3.99 MiB/s   \rReceiving objects:  70% (172/245), 2.03 MiB | 3.99 MiB/s   \rReceiving objects:  71% (174/245), 2.03 MiB | 3.99 MiB/s   \rReceiving objects:  72% (177/245), 2.03 MiB | 3.99 MiB/s   \rReceiving objects:  73% (179/245), 2.03 MiB | 3.99 MiB/s   \rReceiving objects:  74% (182/245), 2.03 MiB | 3.99 MiB/s   \rReceiving objects:  75% (184/245), 2.03 MiB | 3.99 MiB/s   \rReceiving objects:  76% (187/245), 2.03 MiB | 3.99 MiB/s   \rReceiving objects:  77% (189/245), 2.03 MiB | 3.99 MiB/s   \rReceiving objects:  78% (192/245), 2.03 MiB | 3.99 MiB/s   \rReceiving objects:  79% (194/245), 2.03 MiB | 3.99 MiB/s   \rReceiving objects:  80% (196/245), 2.03 MiB | 3.99 MiB/s   \rReceiving objects:  81% (199/245), 2.03 MiB | 3.99 MiB/s   \rReceiving objects:  82% (201/245), 2.03 MiB | 3.99 MiB/s   \rReceiving objects:  83% (204/245), 2.03 MiB | 3.99 MiB/s   \rReceiving objects:  84% (206/245), 2.03 MiB | 3.99 MiB/s   \rReceiving objects:  85% (209/245), 2.03 MiB | 3.99 MiB/s   \rReceiving objects:  86% (211/245), 2.03 MiB | 3.99 MiB/s   \rReceiving objects:  87% (214/245), 2.03 MiB | 3.99 MiB/s   \rReceiving objects:  88% (216/245), 2.03 MiB | 3.99 MiB/s   \rReceiving objects:  89% (219/245), 2.03 MiB | 3.99 MiB/s   \rReceiving objects:  90% (221/245), 2.03 MiB | 3.99 MiB/s   \rReceiving objects:  91% (223/245), 2.03 MiB | 3.99 MiB/s   \rReceiving objects:  92% (226/245), 2.03 MiB | 3.99 MiB/s   \rReceiving objects:  93% (228/245), 2.03 MiB | 3.99 MiB/s   \rReceiving objects:  94% (231/245), 2.03 MiB | 3.99 MiB/s   \rReceiving objects:  95% (233/245), 2.03 MiB | 3.99 MiB/s   \rReceiving objects:  96% (236/245), 2.03 MiB | 3.99 MiB/s   \rReceiving objects:  97% (238/245), 2.03 MiB | 3.99 MiB/s   \rReceiving objects:  98% (241/245), 2.03 MiB | 3.99 MiB/s   \rReceiving objects:  99% (243/245), 2.03 MiB | 3.99 MiB/s   \rReceiving objects: 100% (245/245), 2.03 MiB | 3.99 MiB/s   \rReceiving objects: 100% (245/245), 11.81 MiB | 13.61 MiB/s, done.\n",
            "Resolving deltas:   0% (0/124)   \rResolving deltas:   5% (7/124)   \rResolving deltas:  32% (40/124)   \rResolving deltas:  33% (42/124)   \rResolving deltas:  37% (46/124)   \rResolving deltas:  39% (49/124)   \rResolving deltas:  47% (59/124)   \rResolving deltas:  49% (61/124)   \rResolving deltas:  54% (68/124)   \rResolving deltas:  56% (70/124)   \rResolving deltas:  57% (71/124)   \rResolving deltas:  58% (72/124)   \rResolving deltas:  59% (74/124)   \rResolving deltas:  61% (76/124)   \rResolving deltas:  66% (82/124)   \rResolving deltas:  77% (96/124)   \rResolving deltas:  95% (118/124)   \rResolving deltas:  98% (122/124)   \rResolving deltas:  99% (123/124)   \rResolving deltas: 100% (124/124)   \rResolving deltas: 100% (124/124), done.\n"
          ],
          "name": "stdout"
        }
      ]
    },
    {
      "cell_type": "code",
      "metadata": {
        "id": "fFQgwMlNExak",
        "colab_type": "code",
        "outputId": "e16de5b9-a08c-4b05-d568-4b3f44ccf0f0",
        "colab": {
          "base_uri": "https://localhost:8080/",
          "height": 204
        }
      },
      "source": [
        "!wget https://s3-eu-west-1.amazonaws.com/densedepth/nyu.h5 -O ./DepthModel/nyu.h5"
      ],
      "execution_count": 0,
      "outputs": [
        {
          "output_type": "stream",
          "text": [
            "--2020-05-02 09:54:01--  https://s3-eu-west-1.amazonaws.com/densedepth/nyu.h5\n",
            "Resolving s3-eu-west-1.amazonaws.com (s3-eu-west-1.amazonaws.com)... 52.218.108.19\n",
            "Connecting to s3-eu-west-1.amazonaws.com (s3-eu-west-1.amazonaws.com)|52.218.108.19|:443... connected.\n",
            "HTTP request sent, awaiting response... 200 OK\n",
            "Length: 172897376 (165M) [application/h5]\n",
            "Saving to: ‘./DepthModel/nyu.h5’\n",
            "\n",
            "./DepthModel/nyu.h5 100%[===================>] 164.89M  85.1MB/s    in 1.9s    \n",
            "\n",
            "2020-05-02 09:54:03 (85.1 MB/s) - ‘./DepthModel/nyu.h5’ saved [172897376/172897376]\n",
            "\n"
          ],
          "name": "stdout"
        }
      ]
    },
    {
      "cell_type": "code",
      "metadata": {
        "id": "yU9BMoVMunDJ",
        "colab_type": "code",
        "outputId": "5890b857-3beb-4153-8ba2-2729e68dd7fe",
        "colab": {
          "base_uri": "https://localhost:8080/",
          "height": 122
        }
      },
      "source": [
        "from google.colab import drive\n",
        "drive.mount('/content/gdrive')"
      ],
      "execution_count": 0,
      "outputs": [
        {
          "output_type": "stream",
          "text": [
            "Go to this URL in a browser: https://accounts.google.com/o/oauth2/auth?client_id=947318989803-6bn6qk8qdgf4n4g3pfee6491hc0brc4i.apps.googleusercontent.com&redirect_uri=urn%3aietf%3awg%3aoauth%3a2.0%3aoob&response_type=code&scope=email%20https%3a%2f%2fwww.googleapis.com%2fauth%2fdocs.test%20https%3a%2f%2fwww.googleapis.com%2fauth%2fdrive%20https%3a%2f%2fwww.googleapis.com%2fauth%2fdrive.photos.readonly%20https%3a%2f%2fwww.googleapis.com%2fauth%2fpeopleapi.readonly\n",
            "\n",
            "Enter your authorization code:\n",
            "··········\n",
            "Mounted at /content/gdrive\n"
          ],
          "name": "stdout"
        }
      ]
    },
    {
      "cell_type": "code",
      "metadata": {
        "id": "AiJKd6uLE9Gr",
        "colab_type": "code",
        "outputId": "17f82044-388d-47cf-cabd-e98d3a29ebf3",
        "colab": {
          "base_uri": "https://localhost:8080/",
          "height": 408
        }
      },
      "source": [
        "!cd DepthModel; python test.py --end 6"
      ],
      "execution_count": 0,
      "outputs": [
        {
          "output_type": "stream",
          "text": [
            "Using TensorFlow backend.\n",
            "Loading model...\n",
            "\n",
            "Model loaded (nyu.h5).\n",
            "\n",
            "Loaded (5) images of size (448, 448, 3).\n",
            "(224, 224, 3)\n",
            "(224, 224)\n",
            "(224, 224)\n",
            "2\n",
            "(224, 224)\n",
            "(224, 224)\n",
            "3\n",
            "(224, 224)\n",
            "(224, 224)\n",
            "4\n",
            "(224, 224)\n",
            "(224, 224)\n",
            "5\n",
            "(224, 224)\n",
            "(224, 224)\n",
            "6\n",
            "done\n"
          ],
          "name": "stdout"
        }
      ]
    },
    {
      "cell_type": "code",
      "metadata": {
        "id": "HjzqM74-FfyL",
        "colab_type": "code",
        "outputId": "91f03581-3002-4eb2-eb68-e9dc0b6d5cc3",
        "colab": {
          "base_uri": "https://localhost:8080/",
          "height": 51
        }
      },
      "source": [
        "from matplotlib import pyplot as plt\n",
        "from skimage import io\n",
        "\n",
        "plt.figure(figsize=(20,20))\n",
        "a = io.imread('./DepthModel/test2.jpg')\n",
        "#plt.imshow( io.imread('./DepthModel/test2.jpg') )\n",
        "a.shape"
      ],
      "execution_count": 0,
      "outputs": [
        {
          "output_type": "execute_result",
          "data": {
            "text/plain": [
              "(224, 224, 3)"
            ]
          },
          "metadata": {
            "tags": []
          },
          "execution_count": 33
        },
        {
          "output_type": "display_data",
          "data": {
            "text/plain": [
              "<Figure size 1440x1440 with 0 Axes>"
            ]
          },
          "metadata": {
            "tags": []
          }
        }
      ]
    },
    {
      "cell_type": "code",
      "metadata": {
        "id": "Ra7GEtQBHUMS",
        "colab_type": "code",
        "colab": {}
      },
      "source": [
        ""
      ],
      "execution_count": 0,
      "outputs": []
    }
  ]
}